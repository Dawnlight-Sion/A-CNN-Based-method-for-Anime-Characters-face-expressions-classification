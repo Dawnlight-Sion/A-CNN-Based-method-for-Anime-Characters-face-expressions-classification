{
 "cells": [
  {
   "cell_type": "code",
   "execution_count": 18,
   "id": "circular-suspect",
   "metadata": {},
   "outputs": [],
   "source": [
    "import torch\n",
    "import torch.nn as nn\n",
    "import os\n",
    "from torch.utils.data import Dataset\n",
    "from torch.utils.data import DataLoader\n",
    "from torchvision import transforms\n",
    "from torchvision import datasets\n",
    "from PIL import Image\n",
    "import torch.nn.functional as F\n",
    "import torch.optim as optim\n",
    "# import i2v\n",
    "import numpy as np\n",
    "import matplotlib.pyplot as plt"
   ]
  },
  {
   "cell_type": "markdown",
   "id": "metallic-knowing",
   "metadata": {},
   "source": [
    "## 模型搭建"
   ]
  },
  {
   "cell_type": "code",
   "execution_count": 13,
   "id": "round-hamilton",
   "metadata": {},
   "outputs": [],
   "source": [
    "# class Net1(torch.nn.Module):\n",
    "#     def __init__(self):\n",
    "#         super(Net1,self).__init__()\n",
    "#         self.conv1 = torch.nn.Conv2d(3,64,kernel_size=3,padding=1)\n",
    "#         self.conv2 = torch.nn.Conv2d(64,128,kernel_size=3,padding=1)\n",
    "#         self.conv3 = torch.nn.Conv2d(128,256,kernel_size=3,padding=1)\n",
    "#         self.pooling1 = torch.nn.MaxPool2d(2)\n",
    "#         self.pooling2 = torch.nn.MaxPool2d(4)\n",
    "#         self.fc1 = torch.nn.Linear(4096,4096)\n",
    "#         self.fc2 = torch.nn.Linear(4096,4096)\n",
    "#         self.fc3 = torch.nn.Linear(4096,7)\n",
    "    \n",
    "#     def forward(self,x):\n",
    "#         batch_size = x.size(0)\n",
    "#         x = self.pooling1(F.relu(self.conv1(x)))\n",
    "#         x = self.pooling2(F.relu(self.conv2(x)))\n",
    "#         x = self.pooling2(F.relu(self.conv3(x)))\n",
    "#         # flatten\n",
    "#         x = x.view(batch_size, -1)\n",
    "#         x = F.relu(self.fc1(x))\n",
    "#         x = F.relu(self.fc2(x))\n",
    "#         x = self.fc3(x)\n",
    "#         return x"
   ]
  },
  {
   "cell_type": "code",
   "execution_count": 14,
   "id": "prime-casino",
   "metadata": {},
   "outputs": [],
   "source": [
    "# class Net2(torch.nn.Module):\n",
    "#     def __init__(self):\n",
    "#         super(Net2,self).__init__()\n",
    "#         self.conv1 = torch.nn.Conv2d(3,64,kernel_size=3,padding=1)\n",
    "#         self.conv2 = torch.nn.Conv2d(64,128,kernel_size=3,padding=1)\n",
    "#         self.conv3 = torch.nn.Conv2d(128,256,kernel_size=3,padding=1)\n",
    "#         self.conv4 = torch.nn.Conv2d(256,256,kernel_size=3,padding=1)\n",
    "#         self.pooling1 = torch.nn.MaxPool2d(2)\n",
    "#         self.pooling2 = torch.nn.MaxPool2d(4)\n",
    "#         self.fc1 = torch.nn.Linear(4096,4096)\n",
    "#         self.fc2 = torch.nn.Linear(4096,4096)\n",
    "#         self.fc3 = torch.nn.Linear(4096,7)\n",
    "    \n",
    "#     def forward(self,x):\n",
    "#         batch_size = x.size(0)\n",
    "#         x = self.pooling1(F.relu(self.conv1(x)))\n",
    "#         x = self.pooling2(F.relu(self.conv2(x)))\n",
    "#         x = F.relu(self.conv3(x))\n",
    "#         x = F.relu(self.conv4(x))\n",
    "#         x = self.pooling2(x)\n",
    "#         # flatten\n",
    "#         x = x.view(batch_size, -1)\n",
    "#         x = F.relu(self.fc1(x))\n",
    "#         x = F.relu(self.fc2(x))\n",
    "#         x = self.fc3(x)\n",
    "#         return x"
   ]
  },
  {
   "cell_type": "code",
   "execution_count": 15,
   "id": "soviet-communist",
   "metadata": {},
   "outputs": [],
   "source": [
    "# class Net3(torch.nn.Module):\n",
    "#     def __init__(self):\n",
    "#         super(Net3,self).__init__()\n",
    "#         self.conv1 = torch.nn.Conv2d(3,64,kernel_size=3,padding=1)\n",
    "#         self.conv2 = torch.nn.Conv2d(64,128,kernel_size=3,padding=1)\n",
    "#         self.conv3 = torch.nn.Conv2d(128,128,kernel_size=3,padding=1)\n",
    "#         self.conv4 = torch.nn.Conv2d(128,256,kernel_size=3,padding=1)\n",
    "#         self.conv5 = torch.nn.Conv2d(256,256,kernel_size=3,padding=1)\n",
    "#         self.pooling1 = torch.nn.MaxPool2d(2)\n",
    "#         self.pooling2 = torch.nn.MaxPool2d(4)\n",
    "#         self.fc1 = torch.nn.Linear(4096,4096)\n",
    "#         self.fc2 = torch.nn.Linear(4096,4096)\n",
    "#         self.fc3 = torch.nn.Linear(4096,7)\n",
    "    \n",
    "#     def forward(self,x):\n",
    "#         batch_size = x.size(0)\n",
    "#         x = self.pooling1(F.relu(self.conv1(x)))\n",
    "#         x = F.relu(self.conv2(x))\n",
    "#         x = F.relu(self.conv3(x))\n",
    "#         x = self.pooling2(x)\n",
    "#         x = F.relu(self.conv4(x))\n",
    "#         x = F.relu(self.conv5(x))\n",
    "#         x = self.pooling2(x)\n",
    "#         # flatten\n",
    "#         x = x.view(batch_size, -1)\n",
    "#         x = F.relu(self.fc1(x))\n",
    "#         x = F.relu(self.fc2(x))\n",
    "#         x = self.fc3(x)\n",
    "#         return x"
   ]
  },
  {
   "cell_type": "code",
   "execution_count": 16,
   "id": "composite-framing",
   "metadata": {},
   "outputs": [],
   "source": [
    "# Ensemble模型\n",
    "class Net1_mix(torch.nn.Module):\n",
    "    def __init__(self):\n",
    "        super(Net1_mix,self).__init__()\n",
    "        self.conv1 = torch.nn.Conv2d(3,64,kernel_size=3,padding=1)\n",
    "        self.conv2 = torch.nn.Conv2d(64,128,kernel_size=3,padding=1)\n",
    "        self.conv3 = torch.nn.Conv2d(128,256,kernel_size=3,padding=1)\n",
    "        self.pooling1 = torch.nn.MaxPool2d(2)\n",
    "        self.pooling2 = torch.nn.MaxPool2d(4)\n",
    "        self.fc1 = torch.nn.Linear(4096,4096)\n",
    "        self.fc2 = torch.nn.Linear(4096,4096)\n",
    "    \n",
    "    def forward(self,x):\n",
    "        batch_size = x.size(0)\n",
    "        x = self.pooling1(F.relu(self.conv1(x)))\n",
    "        x = self.pooling2(F.relu(self.conv2(x)))\n",
    "        x = self.pooling2(F.relu(self.conv3(x)))\n",
    "        # flatten\n",
    "        x = x.view(batch_size, -1)\n",
    "        x = F.relu(self.fc1(x))\n",
    "        x = F.relu(self.fc2(x))\n",
    "        return x\n",
    "class Net2_mix(torch.nn.Module):\n",
    "    def __init__(self):\n",
    "        super(Net2_mix,self).__init__()\n",
    "        self.conv1 = torch.nn.Conv2d(3,64,kernel_size=3,padding=1)\n",
    "        self.conv2 = torch.nn.Conv2d(64,128,kernel_size=3,padding=1)\n",
    "        self.conv3 = torch.nn.Conv2d(128,256,kernel_size=3,padding=1)\n",
    "        self.conv4 = torch.nn.Conv2d(256,256,kernel_size=3,padding=1)\n",
    "        self.pooling1 = torch.nn.MaxPool2d(2)\n",
    "        self.pooling2 = torch.nn.MaxPool2d(4)\n",
    "        self.fc1 = torch.nn.Linear(4096,4096)\n",
    "        self.fc2 = torch.nn.Linear(4096,4096)\n",
    "    \n",
    "    def forward(self,x):\n",
    "        batch_size = x.size(0)\n",
    "        x = self.pooling1(F.relu(self.conv1(x)))\n",
    "        x = self.pooling2(F.relu(self.conv2(x)))\n",
    "        x = F.relu(self.conv3(x))\n",
    "        x = F.relu(self.conv4(x))\n",
    "        x = self.pooling2(x)\n",
    "        # flatten\n",
    "        x = x.view(batch_size, -1)\n",
    "        x = F.relu(self.fc1(x))\n",
    "        x = F.relu(self.fc2(x))\n",
    "        return x\n",
    "class Net3_mix(torch.nn.Module):\n",
    "    def __init__(self):\n",
    "        super(Net3_mix,self).__init__()\n",
    "        self.conv1 = torch.nn.Conv2d(3,64,kernel_size=3,padding=1)\n",
    "        self.conv2 = torch.nn.Conv2d(64,128,kernel_size=3,padding=1)\n",
    "        self.conv3 = torch.nn.Conv2d(128,128,kernel_size=3,padding=1)\n",
    "        self.conv4 = torch.nn.Conv2d(128,256,kernel_size=3,padding=1)\n",
    "        self.conv5 = torch.nn.Conv2d(256,256,kernel_size=3,padding=1)\n",
    "        self.pooling1 = torch.nn.MaxPool2d(2)\n",
    "        self.pooling2 = torch.nn.MaxPool2d(4)\n",
    "        self.fc1 = torch.nn.Linear(4096,4096)\n",
    "        self.fc2 = torch.nn.Linear(4096,4096)\n",
    "    \n",
    "    def forward(self,x):\n",
    "        batch_size = x.size(0)\n",
    "        x = self.pooling1(F.relu(self.conv1(x)))\n",
    "        x = F.relu(self.conv2(x))\n",
    "        x = F.relu(self.conv3(x))\n",
    "        x = self.pooling2(x)\n",
    "        x = F.relu(self.conv4(x))\n",
    "        x = F.relu(self.conv5(x))\n",
    "        x = self.pooling2(x)\n",
    "        # flatten\n",
    "        x = x.view(batch_size, -1)\n",
    "        x = F.relu(self.fc1(x))\n",
    "        x = F.relu(self.fc2(x))\n",
    "        return x\n",
    "# 声明网络\n",
    "model_net1 = Net1_mix()\n",
    "model_net2 = Net2_mix()\n",
    "model_net3 = Net3_mix()\n",
    "# 导入参数\n",
    "save_path = '..//Final-Project//model_save//'\n",
    "state_dict1 = torch.load(save_path+\"Net1_epoch10.pth\")\n",
    "state_dict2 = torch.load(save_path+\"Net2_epoch10.pth\")\n",
    "state_dict3 = torch.load(save_path+\"Net3_epoch5.pth\")\n",
    "\n",
    "keys = []\n",
    "for k,v in state_dict1.items():\n",
    "  #将‘fc3’开头的key过滤掉，这里是要去除的层的key\n",
    "    if k.startswith('fc3'):  \n",
    "        continue\n",
    "    keys.append(k)\n",
    "\n",
    "# 去除指定层后的模型\n",
    "state_dict1 = {k:state_dict1[k] for k in keys}\n",
    "\n",
    "keys = []\n",
    "for k,v in state_dict2.items():\n",
    "  #将‘fc3’开头的key过滤掉，这里是要去除的层的key\n",
    "    if k.startswith('fc3'):  \n",
    "        continue\n",
    "    keys.append(k)\n",
    "# 去除指定层后的模型\n",
    "state_dict2 = {k:state_dict2[k] for k in keys}\n",
    "\n",
    "keys = []\n",
    "for k,v in state_dict3.items():\n",
    "  #将‘fc3’开头的key过滤掉，这里是要去除的层的key\n",
    "    if k.startswith('fc3'):  \n",
    "        continue\n",
    "    keys.append(k)\n",
    "\n",
    "# 去除指定层后的模型\n",
    "state_dict3 = {k:state_dict3[k] for k in keys}\n",
    "\n",
    "#自己定义的模型，但要保证前面保存的层和自定义的模型中的层一致\n",
    "model_net1.load_state_dict(state_dict1)\n",
    "model_net2.load_state_dict(state_dict2)\n",
    "model_net3.load_state_dict(state_dict3)\n",
    "\n",
    "class NetMix(torch.nn.Module):\n",
    "    def __init__(self):\n",
    "        super(NetMix,self).__init__()\n",
    "        self.net1 = model_net1\n",
    "        self.net2 = model_net2\n",
    "        self.net3 = model_net3\n",
    "        for p in self.parameters():\n",
    "            p.requires_grad = False #预训练模型加载进来后全部设置为不更新参数，然后再后面加层\n",
    "        self.fc = torch.nn.Linear(4096*3,7)\n",
    "    \n",
    "    def forward(self,x):\n",
    "        batch_size = x.size(0)\n",
    "        x1 = self.net1(x)\n",
    "        x2 = self.net2(x)\n",
    "        x3 = self.net3(x)\n",
    "        # 拼接输入\n",
    "        x = torch.cat((x1,x2,x3),dim = 1)\n",
    "        # 输出\n",
    "        x = self.fc(x)\n",
    "        return x"
   ]
  },
  {
   "cell_type": "markdown",
   "id": "raised-assault",
   "metadata": {},
   "source": [
    "## 模型配置"
   ]
  },
  {
   "cell_type": "markdown",
   "id": "removed-citizenship",
   "metadata": {},
   "source": [
    "### Net1配置"
   ]
  },
  {
   "cell_type": "code",
   "execution_count": 32,
   "id": "needed-volleyball",
   "metadata": {},
   "outputs": [],
   "source": [
    "# model = Net1()"
   ]
  },
  {
   "cell_type": "markdown",
   "id": "measured-legislature",
   "metadata": {},
   "source": [
    "### Net2配置"
   ]
  },
  {
   "cell_type": "code",
   "execution_count": 16,
   "id": "outer-translation",
   "metadata": {},
   "outputs": [],
   "source": [
    "# model = Net2()"
   ]
  },
  {
   "cell_type": "markdown",
   "id": "arctic-market",
   "metadata": {},
   "source": [
    "### Net3配置"
   ]
  },
  {
   "cell_type": "code",
   "execution_count": 17,
   "id": "indonesian-treasure",
   "metadata": {},
   "outputs": [],
   "source": [
    "# model = Net3()"
   ]
  },
  {
   "cell_type": "markdown",
   "id": "developed-nepal",
   "metadata": {},
   "source": [
    "### Net1+2+3配置"
   ]
  },
  {
   "cell_type": "code",
   "execution_count": 18,
   "id": "amber-beast",
   "metadata": {},
   "outputs": [],
   "source": [
    "model = NetMix()"
   ]
  },
  {
   "cell_type": "code",
   "execution_count": 3,
   "id": "developmental-complaint",
   "metadata": {},
   "outputs": [],
   "source": [
    "# 作图（n epochs）\n",
    "def plot_loss_n(n):\n",
    "    # 1.创建画布\n",
    "#     plt.figure(figsize=(10,8),dpi=100)\n",
    "    fig,axes = plt.subplots(nrows=1,ncols=2,figsize=(20,8),dpi=100)\n",
    "\n",
    "    # 2.绘制图像\n",
    "    epochs = np.linspace(1,n,n)\n",
    "#     train_loss = epochs\n",
    "#     test_loss = epochs + 10\n",
    "#     train_accuracy = epochs + 10\n",
    "#     test_accuracy = epochs\n",
    "    axes[0].set_xlabel(\"epoch\")\n",
    "    axes[0].set_ylabel(\"loss(CE)/patch\")\n",
    "    axes[0].set_title(\"loss\", fontsize=10)\n",
    "    axes[0].plot(epochs, train_loss_list[:n], color = 'r',label=\"train_loss\")\n",
    "    axes[0].plot(epochs, test_loss_list[:n], color = 'b',label=\"test_loss\")\n",
    "    axes[0].legend(loc=\"best\")\n",
    "    \n",
    "    axes[1].set_xlabel(\"epoch\")\n",
    "    axes[1].set_ylabel(\"accuracy(%)\")\n",
    "    axes[1].set_title(\"accuracy\", fontsize=10)\n",
    "    axes[1].plot(epochs, train_accuracy_list[:n], color = 'r',label=\"train_accuracy\")\n",
    "    axes[1].plot(epochs, test_accuracy_list[:n], color = 'b',label=\"test_accuracy\")\n",
    "    axes[1].legend(loc=\"best\")\n",
    "    \n",
    "    plt.show()     #显示图片"
   ]
  },
  {
   "cell_type": "markdown",
   "id": "bottom-copying",
   "metadata": {},
   "source": [
    "## 加载"
   ]
  },
  {
   "cell_type": "code",
   "execution_count": 5,
   "id": "operational-plane",
   "metadata": {},
   "outputs": [],
   "source": [
    "train_loss_list = np.loadtxt(\"..//Final-Project//log_save//Netmix_train_loss_list.txt\")\n",
    "test_loss_list = np.loadtxt(\"..//Final-Project//log_save//Netmix_test_loss_list.txt\")\n",
    "train_accuracy_list = np.loadtxt(\"..//Final-Project//log_save//Netmix_train_accuracy_list.txt\")\n",
    "test_accuracy_list = np.loadtxt(\"..//Final-Project//log_save//Netmix_test_accuracy_list.txt\")"
   ]
  },
  {
   "cell_type": "code",
   "execution_count": 6,
   "id": "located-generation",
   "metadata": {},
   "outputs": [
    {
     "data": {
      "image/png": "[encoded data removed]",
      "text/plain": [
       "<Figure size 2000x800 with 2 Axes>"
      ]
     },
     "metadata": {
      "needs_background": "light"
     },
     "output_type": "display_data"
    }
   ],
   "source": [
    "plot_loss_n(50)"
   ]
  },
  {
   "cell_type": "code",
   "execution_count": 7,
   "id": "lightweight-green",
   "metadata": {},
   "outputs": [
    {
     "name": "stdout",
     "output_type": "stream",
     "text": [
      "epoch 0:\n",
      "accuracy : 62.275449101796404\n",
      "loss : 0.9632855958626894\n",
      "epoch 5:\n",
      "accuracy : 62.462574850299404\n",
      "loss : 1.0039957014736003\n",
      "epoch 10:\n",
      "accuracy : 61.352295409181636\n",
      "loss : 1.0793173493679888\n",
      "epoch 15:\n",
      "accuracy : 62.18812375249501\n",
      "loss : 1.0603518842044706\n",
      "epoch 20:\n",
      "accuracy : 62.125748502994014\n",
      "loss : 1.0646418980536554\n",
      "epoch 25:\n",
      "accuracy : 61.714071856287426\n",
      "loss : 1.0804847066277663\n"
     ]
    }
   ],
   "source": [
    "for i in range(6):\n",
    "    idx = i*5\n",
    "    print(\"epoch \"+str(idx)+\":\")\n",
    "    print(\"accuracy : \"+ str(test_accuracy_list[idx]))\n",
    "    print(\"loss : \"+ str(test_loss_list[idx]))"
   ]
  },
  {
   "cell_type": "code",
   "execution_count": 28,
   "id": "eastern-dependence",
   "metadata": {},
   "outputs": [
    {
     "data": {
      "text/plain": [
       "<All keys matched successfully>"
      ]
     },
     "execution_count": 28,
     "metadata": {},
     "output_type": "execute_result"
    }
   ],
   "source": [
    "save_path = '..//Final-Project//model_save//'\n",
    "state_dict = torch.load(save_path+\"Netmix_epoch15.pth\")\n",
    "model.load_state_dict(state_dict)"
   ]
  },
  {
   "cell_type": "markdown",
   "id": "genetic-safety",
   "metadata": {},
   "source": [
    "## 模型测试"
   ]
  },
  {
   "cell_type": "code",
   "execution_count": 29,
   "id": "previous-weather",
   "metadata": {},
   "outputs": [],
   "source": [
    "import os\n",
    "import cv2\n",
    "import sys\n",
    "import os.path"
   ]
  },
  {
   "cell_type": "code",
   "execution_count": 39,
   "id": "equal-defensive",
   "metadata": {},
   "outputs": [],
   "source": [
    "def detect(filename, output_name,cascade_file = r\"D:\\lbpcascade_animeface-master\\lbpcascade_animeface.xml\"):\n",
    "    if not os.path.isfile(cascade_file):\n",
    "        raise RuntimeError(\"%s: not found\" % cascade_file)\n",
    "\n",
    "    cascade = cv2.CascadeClassifier(cascade_file)\n",
    "    image = cv2.imread(filename, cv2.IMREAD_COLOR)\n",
    "    gray = cv2.cvtColor(image, cv2.COLOR_BGR2GRAY)\n",
    "    gray = cv2.equalizeHist(gray)\n",
    "    \n",
    "    faces = cascade.detectMultiScale(gray,\n",
    "                                     # detector options\n",
    "                                     scaleFactor = 1.1,\n",
    "                                     minNeighbors = 5,\n",
    "                                     minSize = (24, 24))\n",
    "    i = 0\n",
    "    for (x, y, w, h) in faces:\n",
    "        i+=1\n",
    "        # 获取脸部识别图像\n",
    "        image_face = image[y:y+h,x:x+w]\n",
    "        # 原图标注\n",
    "        cv2.putText(image, \"face\"+str(i), (x,y-5), cv2.FONT_HERSHEY_SIMPLEX, 0.75, (0, 0, 255), 2)\n",
    "        cv2.rectangle(image, (x, y), (x + w, y + h), (0, 0, 255), 2)\n",
    "        out_path = r\"..//Final-Project//test//\"\n",
    "        # 不存在文件夹则创建\n",
    "        if not os.path.exists(out_path):\n",
    "            os.mkdir(out_path)\n",
    "        if not os.path.exists(out_path + output_name):\n",
    "            cv2.imwrite(out_path + output_name, image)\n",
    "        \n",
    "        # 转换图像大小，默认双线性插值\n",
    "        image_face = cv2.resize(image_face,(128,128))\n",
    "        with torch.no_grad():\n",
    "            image_face = torch.Tensor(image_face)\n",
    "            model.cpu()\n",
    "#             image_face = image_face.to(device)\n",
    "            image_face = image_face.view(1,3,128,128)\n",
    "            # 调用模型\n",
    "            predicts.append(F.softmax(model(image_face)).cpu().numpy().tolist())\n",
    "    cv2.imshow('image', image)\n",
    "    cv2.waitKey()\n",
    "    cv2.destroyAllWindows()"
   ]
  },
  {
   "cell_type": "code",
   "execution_count": 40,
   "id": "apart-hawaiian",
   "metadata": {},
   "outputs": [
    {
     "name": "stderr",
     "output_type": "stream",
     "text": [
      "C:\\Users\\Eden_\\AppData\\Local\\Programs\\Python\\Python37\\lib\\site-packages\\ipykernel_launcher.py:38: UserWarning: Implicit dimension choice for softmax has been deprecated. Change the call to include dim=X as an argument.\n"
     ]
    }
   ],
   "source": [
    "predicts = []\n",
    "detect(\"D://jupyter-notebook//ML-Basic-to-improving//Final-Project//test3.jpg\",\"output3.jpg\")"
   ]
  },
  {
   "cell_type": "code",
   "execution_count": 41,
   "id": "positive-wichita",
   "metadata": {},
   "outputs": [],
   "source": [
    "categories = ['disgust','fear','happy','surprise','sad','angry','neutral']"
   ]
  },
  {
   "cell_type": "code",
   "execution_count": 42,
   "id": "going-nature",
   "metadata": {},
   "outputs": [
    {
     "name": "stdout",
     "output_type": "stream",
     "text": [
      "face1: \n",
      "disgust : 0.00 %\n",
      "fear : 0.00 %\n",
      "happy : 100.00 %\n",
      "surprise : 0.00 %\n",
      "sad : 0.00 %\n",
      "angry : 0.00 %\n",
      "neutral : 0.00 %\n"
     ]
    }
   ],
   "source": [
    "# predicts: n*(batch_size*categorys)\n",
    "\n",
    "i = 0\n",
    "for predict in predicts:\n",
    "    i+=1\n",
    "    print(\"face\"+str(i)+\": \")\n",
    "    j = 0\n",
    "    for category in categories:\n",
    "        print(\"{} : {:.2f} %\".format(str(category),predict[0][j]*100))\n",
    "        j+=1"
   ]
  },
  {
   "cell_type": "code",
   "execution_count": null,
   "id": "fossil-operator",
   "metadata": {},
   "outputs": [],
   "source": []
  }
 ],
 "metadata": {
  "kernelspec": {
   "display_name": "Python 3",
   "language": "python",
   "name": "python3"
  },
  "language_info": {
   "codemirror_mode": {
    "name": "ipython",
    "version": 3
   },
   "file_extension": ".py",
   "mimetype": "text/x-python",
   "name": "python",
   "nbconvert_exporter": "python",
   "pygments_lexer": "ipython3",
   "version": "3.7.0"
  },
  "toc": {
   "base_numbering": 1,
   "nav_menu": {},
   "number_sections": true,
   "sideBar": true,
   "skip_h1_title": false,
   "title_cell": "Table of Contents",
   "title_sidebar": "Contents",
   "toc_cell": false,
   "toc_position": {
    "height": "calc(100% - 180px)",
    "left": "10px",
    "top": "150px",
    "width": "165px"
   },
   "toc_section_display": true,
   "toc_window_display": true
  }
 },
 "nbformat": 4,
 "nbformat_minor": 5
}
