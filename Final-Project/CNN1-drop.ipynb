{
 "cells": [
  {
   "cell_type": "code",
   "execution_count": 1,
   "id": "circular-suspect",
   "metadata": {},
   "outputs": [],
   "source": [
    "import torch\n",
    "import torch.nn as nn\n",
    "import os\n",
    "from torch.utils.data import Dataset\n",
    "from torch.utils.data import DataLoader\n",
    "from torchvision import transforms\n",
    "from torchvision import datasets\n",
    "from PIL import Image\n",
    "import torch.nn.functional as F\n",
    "import torch.optim as optim\n",
    "# import i2v\n",
    "import numpy as np\n",
    "import matplotlib.pyplot as plt"
   ]
  },
  {
   "cell_type": "markdown",
   "id": "ordered-violation",
   "metadata": {},
   "source": [
    "## 构造数据集"
   ]
  },
  {
   "cell_type": "code",
   "execution_count": 3,
   "id": "novel-inflation",
   "metadata": {},
   "outputs": [],
   "source": [
    "categories = ['disgust','fear','happy','surprise','sad','angry','neutral']\n",
    "# label = 0,1,2,3,4,5,6"
   ]
  },
  {
   "cell_type": "code",
   "execution_count": 4,
   "id": "stuck-winter",
   "metadata": {},
   "outputs": [],
   "source": [
    "file_train = []\n",
    "file_test = []\n",
    "number_train = []\n",
    "number_test = []"
   ]
  },
  {
   "cell_type": "code",
   "execution_count": 5,
   "id": "tender-scientist",
   "metadata": {},
   "outputs": [],
   "source": [
    "# categories.index('neutral')\n",
    "# number_train.append(1)\n",
    "# number_train"
   ]
  },
  {
   "cell_type": "code",
   "execution_count": 6,
   "id": "terminal-blend",
   "metadata": {},
   "outputs": [],
   "source": [
    "# category = 'neutral'\n",
    "for category in categories:\n",
    "    label = categories.index(category)\n",
    "    for root,dirs,files in os.walk(\"..//detect_faces//\"+str(category)): \n",
    "        for file in files:\n",
    "            file_type = file.split('_')[1]\n",
    "    #         print(file_type)\n",
    "            # train_data\n",
    "            if file_type == 'train':\n",
    "                file_train.append(os.path.join(root,file))\n",
    "                number_train.append(label)\n",
    "            else:\n",
    "                file_test.append(os.path.join(root,file))\n",
    "                number_test.append(label)"
   ]
  },
  {
   "cell_type": "code",
   "execution_count": 7,
   "id": "stainless-radius",
   "metadata": {},
   "outputs": [
    {
     "name": "stdout",
     "output_type": "stream",
     "text": [
      "trainset_size: 32080\n",
      "testset_size: 8016\n"
     ]
    }
   ],
   "source": [
    "print(\"trainset_size: \"+ str(len(file_train)))\n",
    "print(\"testset_size: \"+ str(len(file_test)))"
   ]
  },
  {
   "cell_type": "code",
   "execution_count": 8,
   "id": "regulation-toner",
   "metadata": {},
   "outputs": [],
   "source": [
    "class testset(Dataset):\n",
    "    def __init__(self, transform=None):\n",
    "        #定义好 image 的路径\n",
    "        self.images = file_test\n",
    "        self.target = number_test\n",
    "        self.transform = transform\n",
    "\n",
    "    def __getitem__(self, index):\n",
    "        image = self.images[index]\n",
    "        image = Image.open(image)\n",
    "        if self.transform:\n",
    "            image = self.transform(image)\n",
    "        target = self.target[index]\n",
    "        return image,target\n",
    "\n",
    "    def __len__(self):\n",
    "        return len(self.images)"
   ]
  },
  {
   "cell_type": "code",
   "execution_count": 9,
   "id": "loving-sacramento",
   "metadata": {},
   "outputs": [],
   "source": [
    "class trainset(Dataset):\n",
    "    def __init__(self, transform=None):\n",
    "        #定义好 image 的路径\n",
    "        self.images = file_train\n",
    "        self.target = number_train\n",
    "        self.transform = transform\n",
    "\n",
    "    def __getitem__(self, index):\n",
    "        image = self.images[index]\n",
    "        image = Image.open(image)\n",
    "        if self.transform:\n",
    "            image = self.transform(image)\n",
    "        target = self.target[index]\n",
    "        return image,target\n",
    "\n",
    "    def __len__(self):\n",
    "        return len(self.images)"
   ]
  },
  {
   "cell_type": "code",
   "execution_count": 10,
   "id": "welcome-rogers",
   "metadata": {},
   "outputs": [],
   "source": [
    "# 应用了torchvision.transforms.ToTensor，其作用是将数据归一化到[0,1]（是将数据除以255）\n",
    "# [0.485, 0.456, 0.406]这一组平均值是从imagenet训练集中抽样算出来的。\n",
    "# 数据如果分布在(0,1)之间，可能实际的bias，就是神经网络的输入b会比较大，\n",
    "# 而模型初始化时b=0的，这样会导致神经网络收敛比较慢，经过Normalize后，可以加快模型的收敛速度。\n",
    "normalize = transforms.Normalize(\n",
    "    mean=[0.485, 0.456, 0.406],\n",
    "    std=[0.229, 0.224, 0.225]\n",
    ")\n",
    "transform = transforms.Compose([\n",
    "    transforms.ToTensor(),\n",
    "    normalize\n",
    "])"
   ]
  },
  {
   "cell_type": "code",
   "execution_count": 11,
   "id": "incident-private",
   "metadata": {
    "scrolled": true
   },
   "outputs": [],
   "source": [
    "train_dataset = trainset(transform=transform)\n",
    "train_loader = DataLoader(train_dataset, batch_size=64,shuffle=True)\n",
    "test_dataset = testset(transform=transform)\n",
    "test_loader = DataLoader(test_dataset, batch_size=64,shuffle=False)"
   ]
  },
  {
   "cell_type": "code",
   "execution_count": null,
   "id": "expressed-market",
   "metadata": {},
   "outputs": [],
   "source": []
  },
  {
   "cell_type": "markdown",
   "id": "metallic-knowing",
   "metadata": {},
   "source": [
    "## 模型搭建"
   ]
  },
  {
   "cell_type": "code",
   "execution_count": 12,
   "id": "round-hamilton",
   "metadata": {},
   "outputs": [],
   "source": [
    "class Net1(torch.nn.Module):\n",
    "    def __init__(self):\n",
    "        super(Net1,self).__init__()\n",
    "        self.conv1 = torch.nn.Conv2d(3,64,kernel_size=3,padding=1)\n",
    "        self.conv2 = torch.nn.Conv2d(64,128,kernel_size=3,padding=1)\n",
    "        self.conv3 = torch.nn.Conv2d(128,256,kernel_size=3,padding=1)\n",
    "        self.pooling1 = torch.nn.MaxPool2d(2)\n",
    "        self.pooling2 = torch.nn.MaxPool2d(4)\n",
    "        self.dropout = torch.nn.Dropout(0.5)\n",
    "        self.fc1 = torch.nn.Linear(4096,4096)\n",
    "        self.fc2 = torch.nn.Linear(4096,4096)\n",
    "        self.fc3 = torch.nn.Linear(4096,7)\n",
    "    \n",
    "    def forward(self,x):\n",
    "        batch_size = x.size(0)\n",
    "        x = self.pooling1(F.relu(self.conv1(x)))\n",
    "        x = self.pooling2(F.relu(self.conv2(x)))\n",
    "        x = self.pooling2(F.relu(self.conv3(x)))\n",
    "        # flatten\n",
    "        x = x.view(batch_size, -1)\n",
    "        \n",
    "        x = self.fc1(x)\n",
    "        x = self.dropout(x)\n",
    "        x = F.relu(x)\n",
    "        \n",
    "        x = self.fc2(x)\n",
    "        x = self.dropout(x)\n",
    "        x = F.relu(x)\n",
    "        \n",
    "        x = self.fc3(x)\n",
    "        return x"
   ]
  },
  {
   "cell_type": "code",
   "execution_count": 13,
   "id": "weird-drink",
   "metadata": {},
   "outputs": [],
   "source": [
    "# class Net2(torch.nn.Module):\n",
    "#     def __init__(self):\n",
    "#         super(Net2,self).__init__()\n",
    "#         self.conv1 = torch.nn.Conv2d(3,64,kernel_size=3,padding=1)\n",
    "#         self.conv2 = torch.nn.Conv2d(64,128,kernel_size=3,padding=1)\n",
    "#         self.conv3 = torch.nn.Conv2d(128,256,kernel_size=3,padding=1)\n",
    "#         self.conv4 = torch.nn.Conv2d(256,256,kernel_size=3,padding=1)\n",
    "#         self.pooling1 = torch.nn.MaxPool2d(2)\n",
    "#         self.pooling2 = torch.nn.MaxPool2d(4)\n",
    "#         self.fc1 = torch.nn.Linear(4096,4096)\n",
    "#         self.fc2 = torch.nn.Linear(4096,4096)\n",
    "#         self.fc3 = torch.nn.Linear(4096,7)\n",
    "    \n",
    "#     def forward(self,x):\n",
    "#         batch_size = x.size(0)\n",
    "#         x = self.pooling1(F.relu(self.conv1(x)))\n",
    "#         x = self.pooling2(F.relu(self.conv2(x)))\n",
    "#         x = F.relu(self.conv3(x))\n",
    "#         x = F.relu(self.conv4(x))\n",
    "#         x = self.pooling2(x)\n",
    "#         # flatten\n",
    "#         x = x.view(batch_size, -1)\n",
    "#         x = F.relu(self.fc1(x))\n",
    "#         x = F.relu(self.fc2(x))\n",
    "#         x = self.fc3(x)\n",
    "#         return x"
   ]
  },
  {
   "cell_type": "code",
   "execution_count": 14,
   "id": "interracial-prior",
   "metadata": {},
   "outputs": [],
   "source": [
    "# class Net3(torch.nn.Module):\n",
    "#     def __init__(self):\n",
    "#         super(Net3,self).__init__()\n",
    "#         self.conv1 = torch.nn.Conv2d(3,64,kernel_size=3,padding=1)\n",
    "#         self.conv2 = torch.nn.Conv2d(64,128,kernel_size=3,padding=1)\n",
    "#         self.conv3 = torch.nn.Conv2d(128,128,kernel_size=3,padding=1)\n",
    "#         self.conv4 = torch.nn.Conv2d(128,256,kernel_size=3,padding=1)\n",
    "#         self.conv5 = torch.nn.Conv2d(256,256,kernel_size=3,padding=1)\n",
    "#         self.pooling1 = torch.nn.MaxPool2d(2)\n",
    "#         self.pooling2 = torch.nn.MaxPool2d(4)\n",
    "#         self.fc1 = torch.nn.Linear(4096,4096)\n",
    "#         self.fc2 = torch.nn.Linear(4096,4096)\n",
    "#         self.fc3 = torch.nn.Linear(4096,7)\n",
    "    \n",
    "#     def forward(self,x):\n",
    "#         batch_size = x.size(0)\n",
    "#         x = self.pooling1(F.relu(self.conv1(x)))\n",
    "#         x = F.relu(self.conv2(x))\n",
    "#         x = F.relu(self.conv3(x))\n",
    "#         x = self.pooling2(x)\n",
    "#         x = F.relu(self.conv4(x))\n",
    "#         x = F.relu(self.conv5(x))\n",
    "#         x = self.pooling2(x)\n",
    "#         # flatten\n",
    "#         x = x.view(batch_size, -1)\n",
    "#         x = F.relu(self.fc1(x))\n",
    "#         x = F.relu(self.fc2(x))\n",
    "#         x = self.fc3(x)\n",
    "#         return x"
   ]
  },
  {
   "cell_type": "code",
   "execution_count": 15,
   "id": "bridal-dietary",
   "metadata": {},
   "outputs": [],
   "source": [
    "# # Ensemble模型\n",
    "# class Net1_mix(torch.nn.Module):\n",
    "#     def __init__(self):\n",
    "#         super(Net1,self).__init__()\n",
    "#         self.conv1 = torch.nn.Conv2d(3,64,kernel_size=3,padding=1)\n",
    "#         self.conv2 = torch.nn.Conv2d(64,128,kernel_size=3,padding=1)\n",
    "#         self.conv3 = torch.nn.Conv2d(128,256,kernel_size=3,padding=1)\n",
    "#         self.pooling1 = torch.nn.MaxPool2d(2)\n",
    "#         self.pooling2 = torch.nn.MaxPool2d(4)\n",
    "#         self.fc1 = torch.nn.Linear(4096,4096)\n",
    "#         self.fc2 = torch.nn.Linear(4096,4096)\n",
    "    \n",
    "#     def forward(self,x):\n",
    "#         batch_size = x.size(0)\n",
    "#         x = self.pooling1(F.relu(self.conv1(x)))\n",
    "#         x = self.pooling2(F.relu(self.conv2(x)))\n",
    "#         x = self.pooling2(F.relu(self.conv3(x)))\n",
    "#         # flatten\n",
    "#         x = x.view(batch_size, -1)\n",
    "#         x = F.relu(self.fc1(x))\n",
    "#         x = F.relu(self.fc2(x))\n",
    "#         return x\n",
    "# class Net2_mix(torch.nn.Module):\n",
    "#     def __init__(self):\n",
    "#         super(Net2,self).__init__()\n",
    "#         self.conv1 = torch.nn.Conv2d(3,64,kernel_size=3,padding=1)\n",
    "#         self.conv2 = torch.nn.Conv2d(64,128,kernel_size=3,padding=1)\n",
    "#         self.conv3 = torch.nn.Conv2d(128,256,kernel_size=3,padding=1)\n",
    "#         self.conv4 = torch.nn.Conv2d(256,256,kernel_size=3,padding=1)\n",
    "#         self.pooling1 = torch.nn.MaxPool2d(2)\n",
    "#         self.pooling2 = torch.nn.MaxPool2d(4)\n",
    "#         self.fc1 = torch.nn.Linear(4096,4096)\n",
    "#         self.fc2 = torch.nn.Linear(4096,4096)\n",
    "    \n",
    "#     def forward(self,x):\n",
    "#         batch_size = x.size(0)\n",
    "#         x = self.pooling1(F.relu(self.conv1(x)))\n",
    "#         x = self.pooling2(F.relu(self.conv2(x)))\n",
    "#         x = F.relu(self.conv3(x))\n",
    "#         x = F.relu(self.conv4(x))\n",
    "#         x = self.pooling2(x)\n",
    "#         # flatten\n",
    "#         x = x.view(batch_size, -1)\n",
    "#         x = F.relu(self.fc1(x))\n",
    "#         x = F.relu(self.fc2(x))\n",
    "#         return x\n",
    "# class Net3_mix(torch.nn.Module):\n",
    "#     def __init__(self):\n",
    "#         super(Net3,self).__init__()\n",
    "#         self.conv1 = torch.nn.Conv2d(3,64,kernel_size=3,padding=1)\n",
    "#         self.conv2 = torch.nn.Conv2d(64,128,kernel_size=3,padding=1)\n",
    "#         self.conv3 = torch.nn.Conv2d(128,128,kernel_size=3,padding=1)\n",
    "#         self.conv4 = torch.nn.Conv2d(128,256,kernel_size=3,padding=1)\n",
    "#         self.conv5 = torch.nn.Conv2d(256,256,kernel_size=3,padding=1)\n",
    "#         self.pooling1 = torch.nn.MaxPool2d(2)\n",
    "#         self.pooling2 = torch.nn.MaxPool2d(4)\n",
    "#         self.fc1 = torch.nn.Linear(4096,4096)\n",
    "#         self.fc2 = torch.nn.Linear(4096,4096)\n",
    "    \n",
    "#     def forward(self,x):\n",
    "#         batch_size = x.size(0)\n",
    "#         x = self.pooling1(F.relu(self.conv1(x)))\n",
    "#         x = F.relu(self.conv2(x))\n",
    "#         x = F.relu(self.conv3(x))\n",
    "#         x = self.pooling2(x)\n",
    "#         x = F.relu(self.conv4(x))\n",
    "#         x = F.relu(self.conv5(x))\n",
    "#         x = self.pooling2(x)\n",
    "#         # flatten\n",
    "#         x = x.view(batch_size, -1)\n",
    "#         x = F.relu(self.fc1(x))\n",
    "#         x = F.relu(self.fc2(x))\n",
    "#         return x\n",
    "# # 声明网络\n",
    "# model_net1 = Net1_mix()\n",
    "# model_net2 = Net2_mix()\n",
    "# model_net3 = Net3_mix()\n",
    "# # 导入参数\n",
    "# save_path = '..//Final-Project//model_save//'\n",
    "# state_dict1 = torch.load(save_path+\"Net1_epoch60.pth\")\n",
    "# state_dict2 = torch.load(save_path+\"Net2_epoch60.pth\")\n",
    "# state_dict3 = torch.load(save_path+\"Net3_epoch60.pth\")\n",
    "\n",
    "# keys = []\n",
    "# for k,v in state_dict1.items():\n",
    "#   #将‘fc3’开头的key过滤掉，这里是要去除的层的key\n",
    "#     if k.startswith('fc3'):  \n",
    "#         continue\n",
    "#     keys.append(k)\n",
    "\n",
    "# # 去除指定层后的模型\n",
    "# state_dict1 = {k:state_dict1[k] for k in keys}\n",
    "\n",
    "# keys = []\n",
    "# for k,v in state_dict2.items():\n",
    "#   #将‘fc3’开头的key过滤掉，这里是要去除的层的key\n",
    "#     if k.startswith('fc3'):  \n",
    "#         continue\n",
    "#     keys.append(k)\n",
    "# # 去除指定层后的模型\n",
    "# state_dict2 = {k:state_dict1[k] for k in keys}\n",
    "\n",
    "# keys = []\n",
    "# for k,v in state_dict2.items():\n",
    "#   #将‘fc3’开头的key过滤掉，这里是要去除的层的key\n",
    "#     if k.startswith('fc3'):  \n",
    "#         continue\n",
    "#     keys.append(k)\n",
    "\n",
    "# # 去除指定层后的模型\n",
    "# state_dict3 = {k:state_dict1[k] for k in keys}\n",
    "\n",
    "# #自己定义的模型，但要保证前面保存的层和自定义的模型中的层一致\n",
    "# model_net1.load_state_dict(state_dict1)\n",
    "# model_net2.load_state_dict(state_dict2)\n",
    "# model_net3.load_state_dict(state_dict3)\n",
    "\n",
    "# class NetMix(torch.nn.Module):\n",
    "#     def __init__(self):\n",
    "#         super(NetMix,self).__init__()\n",
    "#         self.net1 = model_net1\n",
    "#         self.net2 = model_net2\n",
    "#         self.net3 = model_net3\n",
    "#         for p in self.parameters():\n",
    "#             p.requires_grad = False #预训练模型加载进来后全部设置为不更新参数，然后再后面加层\n",
    "#         self.fc = torch.nn.Linear(4096*3,7)\n",
    "    \n",
    "#     def forward(self,x):\n",
    "#         batch_size = x.size(0)\n",
    "#         x1 = net1(x)\n",
    "#         x2 = net2(x)\n",
    "#         x3 = net3(x)\n",
    "#         # 拼接输入\n",
    "#         x = torch.cat((x1,x2,x3),dim = 1)\n",
    "#         # 输出\n",
    "#         x = self.fc(x)\n",
    "#         return x"
   ]
  },
  {
   "cell_type": "markdown",
   "id": "raised-assault",
   "metadata": {},
   "source": [
    "## 模型配置"
   ]
  },
  {
   "cell_type": "markdown",
   "id": "capital-rhythm",
   "metadata": {},
   "source": [
    "### Net1配置"
   ]
  },
  {
   "cell_type": "code",
   "execution_count": 16,
   "id": "needed-volleyball",
   "metadata": {},
   "outputs": [],
   "source": [
    "model = Net1()"
   ]
  },
  {
   "cell_type": "markdown",
   "id": "essential-hostel",
   "metadata": {},
   "source": [
    "### Net2配置"
   ]
  },
  {
   "cell_type": "code",
   "execution_count": 17,
   "id": "clear-specialist",
   "metadata": {},
   "outputs": [],
   "source": [
    "# model = Net2()"
   ]
  },
  {
   "cell_type": "markdown",
   "id": "supposed-steps",
   "metadata": {},
   "source": [
    "### Net3配置"
   ]
  },
  {
   "cell_type": "code",
   "execution_count": 18,
   "id": "composite-visiting",
   "metadata": {},
   "outputs": [],
   "source": [
    "# model = Net3()"
   ]
  },
  {
   "cell_type": "markdown",
   "id": "pointed-gothic",
   "metadata": {},
   "source": [
    "### Net1+2+3配置"
   ]
  },
  {
   "cell_type": "code",
   "execution_count": 19,
   "id": "broken-superintendent",
   "metadata": {},
   "outputs": [],
   "source": [
    "# model = NetMix()"
   ]
  },
  {
   "cell_type": "markdown",
   "id": "suspended-portable",
   "metadata": {},
   "source": [
    "### 共同配置"
   ]
  },
  {
   "cell_type": "code",
   "execution_count": 20,
   "id": "twenty-lightning",
   "metadata": {},
   "outputs": [],
   "source": [
    "device = torch.device(\"cuda:0\" if torch.cuda.is_available() else \"cpu\")"
   ]
  },
  {
   "cell_type": "code",
   "execution_count": 21,
   "id": "closing-weekly",
   "metadata": {},
   "outputs": [
    {
     "data": {
      "text/plain": [
       "device(type='cuda', index=0)"
      ]
     },
     "execution_count": 21,
     "metadata": {},
     "output_type": "execute_result"
    }
   ],
   "source": [
    "device"
   ]
  },
  {
   "cell_type": "code",
   "execution_count": 22,
   "id": "chronic-crisis",
   "metadata": {},
   "outputs": [
    {
     "data": {
      "text/plain": [
       "Net1(\n",
       "  (conv1): Conv2d(3, 64, kernel_size=(3, 3), stride=(1, 1), padding=(1, 1))\n",
       "  (conv2): Conv2d(64, 128, kernel_size=(3, 3), stride=(1, 1), padding=(1, 1))\n",
       "  (conv3): Conv2d(128, 256, kernel_size=(3, 3), stride=(1, 1), padding=(1, 1))\n",
       "  (pooling1): MaxPool2d(kernel_size=2, stride=2, padding=0, dilation=1, ceil_mode=False)\n",
       "  (pooling2): MaxPool2d(kernel_size=4, stride=4, padding=0, dilation=1, ceil_mode=False)\n",
       "  (dropout): Dropout(p=0.5, inplace=False)\n",
       "  (fc1): Linear(in_features=4096, out_features=4096, bias=True)\n",
       "  (fc2): Linear(in_features=4096, out_features=4096, bias=True)\n",
       "  (fc3): Linear(in_features=4096, out_features=7, bias=True)\n",
       ")"
      ]
     },
     "execution_count": 22,
     "metadata": {},
     "output_type": "execute_result"
    }
   ],
   "source": [
    "model.to(device)"
   ]
  },
  {
   "cell_type": "code",
   "execution_count": 22,
   "id": "tested-class",
   "metadata": {},
   "outputs": [],
   "source": [
    "# 损失、优化函数定义\n",
    "criterion = torch.nn.CrossEntropyLoss()\n",
    "criterion = criterion.to(device)\n",
    "\n",
    "# 带冲量的优化，冲量为0.5\n",
    "optimizer = optim.SGD(model.parameters(), lr=0.01, momentum=0.5)"
   ]
  },
  {
   "cell_type": "code",
   "execution_count": 23,
   "id": "sixth-experiment",
   "metadata": {},
   "outputs": [],
   "source": [
    "# result = []\n",
    "# one_hot = [0,0,0,0,0,0,0]\n",
    "# one_hot[1] = 1\n",
    "# result.append(one_hot)\n",
    "# result.append(one_hot)\n",
    "# torch.Tensor(result)"
   ]
  },
  {
   "cell_type": "code",
   "execution_count": 24,
   "id": "pending-tactics",
   "metadata": {},
   "outputs": [],
   "source": [
    "def get_one_hot(labels):\n",
    "    result = []\n",
    "    # batch_size=64\n",
    "    size = len(labels)\n",
    "    for i in range(size):\n",
    "        one_hot = [0,0,0,0,0,0,0]\n",
    "        one_hot[labels[i]] = 1\n",
    "        result.append(one_hot)\n",
    "    return torch.Tensor(result)"
   ]
  },
  {
   "cell_type": "code",
   "execution_count": 25,
   "id": "restricted-container",
   "metadata": {},
   "outputs": [],
   "source": [
    "def train(epoch):\n",
    "    running_loss = 0.0\n",
    "    total = 0\n",
    "    correct = 0\n",
    "    for batch_idx,data in enumerate(train_loader,0):\n",
    "        # 开启训练阶段\n",
    "        model.train()\n",
    "        inputs, target = data\n",
    "        # 转换为one-hot向量\n",
    "        target_one_hot = get_one_hot(target)\n",
    "        # 将用来计算的张量迁移到GPU\n",
    "        inputs, target_one_hot = inputs.to(device), target_one_hot.to(device)\n",
    "        \n",
    "        # 初始化优化器\n",
    "        optimizer.zero_grad()\n",
    "        \n",
    "        # forward+backward+update\n",
    "        outputs = model(inputs)\n",
    "        \n",
    "        with torch.no_grad():\n",
    "            # 开启测试阶段\n",
    "            model.eval()\n",
    "            target = target.to(device)\n",
    "            # 沿着第一个维度取最大值的下标，返回最大值、最大值下标\n",
    "            _, predicted = torch.max(outputs.data, dim=1)\n",
    "            total += target.size(0)\n",
    "            # 计算训练集准确率\n",
    "            correct += (predicted == target).sum().item()\n",
    "        # 开启训练阶段\n",
    "        model.train()\n",
    "        loss = criterion(outputs, target_one_hot)\n",
    "        # 将用来计算的张量迁移到GPU\n",
    "        loss = loss.to(device)\n",
    "        \n",
    "        loss.backward()\n",
    "        optimizer.step()\n",
    "        \n",
    "        running_loss += loss.item()\n",
    "        if batch_idx % 500 == 499:\n",
    "            # 以500个patch的平均loss作为此epoch的loss(loss/patch)\n",
    "            train_loss_list.append(running_loss / 500)\n",
    "            print('[%d, %5d] loss: %.3f' % (epoch + 1,batch_idx + 1, running_loss / 500))\n",
    "            running_loss = 0.0\n",
    "            # 以500个patch中所有数据的平均accuracy作为此epoch的accuracy(accuracy/data)\n",
    "            train_accuracy_list.append(100 * correct/total)\n",
    "            print('Accuracy on train set: %d %% [%d/%d]' % (100 * correct/total,correct,total))\n",
    "            correct = 0\n",
    "            total = 0"
   ]
  },
  {
   "cell_type": "code",
   "execution_count": 26,
   "id": "modern-inventory",
   "metadata": {},
   "outputs": [],
   "source": [
    "def test():\n",
    "    correct = 0\n",
    "    total = 0\n",
    "    error = 0\n",
    "    with torch.no_grad():\n",
    "        # 开启测试阶段\n",
    "        model.eval()\n",
    "        for data in test_loader:\n",
    "            images, labels = data\n",
    "\n",
    "            # 将用来计算的张量迁移到GPU\n",
    "            images, labels = images.to(device), labels.to(device)\n",
    "            # 用于计算测试集损失\n",
    "            one_hot_labels = get_one_hot(labels)\n",
    "            one_hot_labels = one_hot_labels.to(device)\n",
    "            \n",
    "            outputs = model(images)\n",
    "            \n",
    "            # 计算测试集损失\n",
    "            error += F.cross_entropy(outputs,one_hot_labels).sum().item()\n",
    "            \n",
    "            # 沿着第一个维度取最大值的下标，返回最大值、最大值下标\n",
    "            _, predicted = torch.max(outputs.data, dim=1)\n",
    "            total += labels.size(0)\n",
    "            # 计算测试集准确率\n",
    "            correct += (predicted == labels).sum().item()\n",
    "            \n",
    "        test_accuracy_list.append(100 * correct/total)\n",
    "        test_loss_list.append(error / total)\n",
    "        print('Accuracy on test set: %d %% [%d/%d]' % (100 * correct/total,correct,total))"
   ]
  },
  {
   "cell_type": "markdown",
   "id": "behind-shanghai",
   "metadata": {},
   "source": [
    "## 训练"
   ]
  },
  {
   "cell_type": "code",
   "execution_count": 27,
   "id": "expected-hierarchy",
   "metadata": {},
   "outputs": [],
   "source": [
    "train_loss_list = []\n",
    "test_loss_list = []\n",
    "train_accuracy_list = []\n",
    "test_accuracy_list = []"
   ]
  },
  {
   "cell_type": "code",
   "execution_count": 28,
   "id": "monetary-transparency",
   "metadata": {},
   "outputs": [],
   "source": [
    "# 作图（100epochs）\n",
    "def plot_loss():\n",
    "    # 1.创建画布\n",
    "#     plt.figure(figsize=(10,8),dpi=100)\n",
    "    fig,axes = plt.subplots(nrows=1,ncols=2,figsize=(20,8),dpi=100)\n",
    "\n",
    "    # 2.绘制图像\n",
    "    epochs = np.linspace(1,100,100)\n",
    "#     train_loss = epochs\n",
    "#     test_loss = epochs + 10\n",
    "#     train_accuracy = epochs + 10\n",
    "#     test_accuracy = epochs\n",
    "    axes[0].set_xlabel(\"epoch\")\n",
    "    axes[0].set_ylabel(\"loss(CE)/patch\")\n",
    "    axes[0].set_title(\"loss\", fontsize=10)\n",
    "    axes[0].plot(epochs, train_loss_list, color = 'r',label=\"train_loss\")\n",
    "    axes[0].plot(epochs, test_loss_list, color = 'b',label=\"test_loss\")\n",
    "    axes[0].legend(loc=\"best\")\n",
    "    \n",
    "    axes[1].set_xlabel(\"epoch\")\n",
    "    axes[1].set_ylabel(\"accuracy(%)\")\n",
    "    axes[1].set_title(\"accuracy\", fontsize=10)\n",
    "    axes[1].plot(epochs, train_accuracy_list, color = 'r',label=\"train_accuracy\")\n",
    "    axes[1].plot(epochs, test_accuracy_list, color = 'b',label=\"test_accuracy\")\n",
    "    axes[1].legend(loc=\"best\")\n",
    "    \n",
    "    plt.show()     #显示图片"
   ]
  },
  {
   "cell_type": "code",
   "execution_count": 4,
   "id": "competitive-price",
   "metadata": {},
   "outputs": [],
   "source": [
    "# 作图（n epochs）\n",
    "def plot_loss_n(n):\n",
    "    # 1.创建画布\n",
    "#     plt.figure(figsize=(10,8),dpi=100)\n",
    "    fig,axes = plt.subplots(nrows=1,ncols=2,figsize=(20,8),dpi=100)\n",
    "\n",
    "    # 2.绘制图像\n",
    "    epochs = np.linspace(1,n,n)\n",
    "#     train_loss = epochs\n",
    "#     test_loss = epochs + 10\n",
    "#     train_accuracy = epochs + 10\n",
    "#     test_accuracy = epochs\n",
    "    axes[0].set_xlabel(\"epoch\")\n",
    "    axes[0].set_ylabel(\"loss(CE)/patch\")\n",
    "    axes[0].set_title(\"loss\", fontsize=10)\n",
    "    axes[0].plot(epochs, train_loss_list[:n], color = 'r',label=\"train_loss\")\n",
    "    axes[0].plot(epochs, test_loss_list[:n], color = 'b',label=\"test_loss\")\n",
    "    axes[0].legend(loc=\"best\")\n",
    "    \n",
    "    axes[1].set_xlabel(\"epoch\")\n",
    "    axes[1].set_ylabel(\"accuracy(%)\")\n",
    "    axes[1].set_title(\"accuracy\", fontsize=10)\n",
    "    axes[1].plot(epochs, train_accuracy_list[:n], color = 'r',label=\"train_accuracy\")\n",
    "    axes[1].plot(epochs, test_accuracy_list[:n], color = 'b',label=\"test_accuracy\")\n",
    "    axes[1].legend(loc=\"best\")\n",
    "    \n",
    "    plt.show()     #显示图片"
   ]
  },
  {
   "cell_type": "code",
   "execution_count": 30,
   "id": "nonprofit-preference",
   "metadata": {
    "scrolled": true
   },
   "outputs": [
    {
     "name": "stdout",
     "output_type": "stream",
     "text": [
      "[1,   500] loss: 1.615\n",
      "Accuracy on train set: 34 % [10896/32000]\n",
      "Accuracy on test set: 45 % [3666/8016]\n",
      "[2,   500] loss: 1.288\n",
      "Accuracy on train set: 47 % [15166/32000]\n",
      "Accuracy on test set: 49 % [3957/8016]\n",
      "[3,   500] loss: 1.183\n",
      "Accuracy on train set: 52 % [16660/32000]\n",
      "Accuracy on test set: 50 % [4069/8016]\n",
      "[4,   500] loss: 1.115\n",
      "Accuracy on train set: 54 % [17405/32000]\n",
      "Accuracy on test set: 50 % [4068/8016]\n",
      "[5,   500] loss: 1.066\n",
      "Accuracy on train set: 57 % [18240/32000]\n",
      "Accuracy on test set: 53 % [4277/8016]\n",
      "[6,   500] loss: 1.021\n",
      "Accuracy on train set: 58 % [18759/32000]\n",
      "Accuracy on test set: 55 % [4458/8016]\n",
      "[7,   500] loss: 0.987\n",
      "Accuracy on train set: 60 % [19336/32000]\n",
      "Accuracy on test set: 57 % [4607/8016]\n",
      "[8,   500] loss: 0.945\n",
      "Accuracy on train set: 62 % [19856/32000]\n",
      "Accuracy on test set: 57 % [4592/8016]\n",
      "[9,   500] loss: 0.912\n",
      "Accuracy on train set: 63 % [20397/32000]\n",
      "Accuracy on test set: 56 % [4550/8016]\n",
      "[10,   500] loss: 0.880\n",
      "Accuracy on train set: 64 % [20793/32000]\n",
      "Accuracy on test set: 59 % [4791/8016]\n",
      "[11,   500] loss: 0.844\n",
      "Accuracy on train set: 66 % [21234/32000]\n",
      "Accuracy on test set: 60 % [4864/8016]\n",
      "[12,   500] loss: 0.810\n",
      "Accuracy on train set: 67 % [21748/32000]\n",
      "Accuracy on test set: 60 % [4824/8016]\n",
      "[13,   500] loss: 0.769\n",
      "Accuracy on train set: 69 % [22266/32000]\n",
      "Accuracy on test set: 59 % [4787/8016]\n",
      "[14,   500] loss: 0.729\n",
      "Accuracy on train set: 71 % [22833/32000]\n",
      "Accuracy on test set: 60 % [4857/8016]\n",
      "[15,   500] loss: 0.688\n",
      "Accuracy on train set: 72 % [23227/32000]\n",
      "Accuracy on test set: 62 % [5039/8016]\n",
      "[16,   500] loss: 0.650\n",
      "Accuracy on train set: 74 % [23790/32000]\n",
      "Accuracy on test set: 60 % [4849/8016]\n",
      "[17,   500] loss: 0.606\n",
      "Accuracy on train set: 76 % [24322/32000]\n",
      "Accuracy on test set: 58 % [4705/8016]\n",
      "[18,   500] loss: 0.557\n",
      "Accuracy on train set: 78 % [25061/32000]\n",
      "Accuracy on test set: 62 % [5030/8016]\n",
      "[19,   500] loss: 0.516\n",
      "Accuracy on train set: 79 % [25505/32000]\n",
      "Accuracy on test set: 61 % [4953/8016]\n",
      "[20,   500] loss: 0.468\n",
      "Accuracy on train set: 81 % [26121/32000]\n",
      "Accuracy on test set: 62 % [4983/8016]\n",
      "[21,   500] loss: 0.422\n",
      "Accuracy on train set: 83 % [26828/32000]\n",
      "Accuracy on test set: 55 % [4434/8016]\n",
      "[22,   500] loss: 0.381\n",
      "Accuracy on train set: 85 % [27288/32000]\n",
      "Accuracy on test set: 63 % [5064/8016]\n",
      "[23,   500] loss: 0.340\n",
      "Accuracy on train set: 86 % [27747/32000]\n",
      "Accuracy on test set: 58 % [4717/8016]\n",
      "[24,   500] loss: 0.301\n",
      "Accuracy on train set: 88 % [28328/32000]\n",
      "Accuracy on test set: 62 % [5046/8016]\n",
      "[25,   500] loss: 0.269\n",
      "Accuracy on train set: 89 % [28768/32000]\n",
      "Accuracy on test set: 61 % [4905/8016]\n",
      "[26,   500] loss: 0.242\n",
      "Accuracy on train set: 91 % [29145/32000]\n",
      "Accuracy on test set: 62 % [5008/8016]\n",
      "[27,   500] loss: 0.217\n",
      "Accuracy on train set: 92 % [29475/32000]\n",
      "Accuracy on test set: 57 % [4627/8016]\n",
      "[28,   500] loss: 0.198\n",
      "Accuracy on train set: 92 % [29735/32000]\n",
      "Accuracy on test set: 59 % [4787/8016]\n",
      "[29,   500] loss: 0.173\n",
      "Accuracy on train set: 93 % [30018/32000]\n",
      "Accuracy on test set: 63 % [5072/8016]\n",
      "[30,   500] loss: 0.158\n",
      "Accuracy on train set: 94 % [30262/32000]\n",
      "Accuracy on test set: 62 % [5038/8016]\n",
      "[31,   500] loss: 0.147\n",
      "Accuracy on train set: 94 % [30384/32000]\n",
      "Accuracy on test set: 62 % [4983/8016]\n",
      "[32,   500] loss: 0.131\n",
      "Accuracy on train set: 95 % [30610/32000]\n",
      "Accuracy on test set: 61 % [4900/8016]\n",
      "[33,   500] loss: 0.120\n",
      "Accuracy on train set: 96 % [30806/32000]\n",
      "Accuracy on test set: 63 % [5080/8016]\n",
      "[34,   500] loss: 0.115\n",
      "Accuracy on train set: 96 % [30803/32000]\n",
      "Accuracy on test set: 62 % [5019/8016]\n",
      "[35,   500] loss: 0.109\n",
      "Accuracy on train set: 96 % [30907/32000]\n",
      "Accuracy on test set: 60 % [4876/8016]\n",
      "[36,   500] loss: 0.102\n",
      "Accuracy on train set: 96 % [31004/32000]\n",
      "Accuracy on test set: 62 % [4998/8016]\n",
      "[37,   500] loss: 0.097\n",
      "Accuracy on train set: 97 % [31074/32000]\n",
      "Accuracy on test set: 63 % [5079/8016]\n",
      "[38,   500] loss: 0.092\n",
      "Accuracy on train set: 97 % [31150/32000]\n",
      "Accuracy on test set: 63 % [5061/8016]\n",
      "[39,   500] loss: 0.089\n",
      "Accuracy on train set: 97 % [31169/32000]\n",
      "Accuracy on test set: 63 % [5059/8016]\n",
      "[40,   500] loss: 0.081\n",
      "Accuracy on train set: 97 % [31241/32000]\n",
      "Accuracy on test set: 63 % [5112/8016]\n",
      "[41,   500] loss: 0.073\n",
      "Accuracy on train set: 97 % [31319/32000]\n",
      "Accuracy on test set: 63 % [5072/8016]\n",
      "[42,   500] loss: 0.075\n",
      "Accuracy on train set: 97 % [31320/32000]\n",
      "Accuracy on test set: 64 % [5134/8016]\n",
      "[43,   500] loss: 0.071\n",
      "Accuracy on train set: 97 % [31347/32000]\n",
      "Accuracy on test set: 64 % [5175/8016]\n",
      "[44,   500] loss: 0.067\n",
      "Accuracy on train set: 98 % [31383/32000]\n",
      "Accuracy on test set: 63 % [5106/8016]\n",
      "[45,   500] loss: 0.065\n",
      "Accuracy on train set: 98 % [31402/32000]\n",
      "Accuracy on test set: 64 % [5156/8016]\n",
      "[46,   500] loss: 0.063\n",
      "Accuracy on train set: 98 % [31434/32000]\n",
      "Accuracy on test set: 63 % [5093/8016]\n",
      "[47,   500] loss: 0.060\n",
      "Accuracy on train set: 98 % [31436/32000]\n",
      "Accuracy on test set: 63 % [5098/8016]\n",
      "[48,   500] loss: 0.060\n",
      "Accuracy on train set: 98 % [31446/32000]\n",
      "Accuracy on test set: 62 % [5041/8016]\n",
      "[49,   500] loss: 0.058\n",
      "Accuracy on train set: 98 % [31466/32000]\n",
      "Accuracy on test set: 63 % [5071/8016]\n",
      "[50,   500] loss: 0.055\n",
      "Accuracy on train set: 98 % [31481/32000]\n",
      "Accuracy on test set: 62 % [5047/8016]\n",
      "[51,   500] loss: 0.053\n",
      "Accuracy on train set: 98 % [31488/32000]\n",
      "Accuracy on test set: 63 % [5068/8016]\n",
      "[52,   500] loss: 0.051\n",
      "Accuracy on train set: 98 % [31485/32000]\n",
      "Accuracy on test set: 63 % [5089/8016]\n",
      "[53,   500] loss: 0.053\n",
      "Accuracy on train set: 98 % [31487/32000]\n",
      "Accuracy on test set: 63 % [5100/8016]\n",
      "[54,   500] loss: 0.050\n",
      "Accuracy on train set: 98 % [31541/32000]\n",
      "Accuracy on test set: 63 % [5100/8016]\n",
      "[55,   500] loss: 0.049\n",
      "Accuracy on train set: 98 % [31535/32000]\n",
      "Accuracy on test set: 63 % [5065/8016]\n",
      "[56,   500] loss: 0.048\n",
      "Accuracy on train set: 98 % [31524/32000]\n",
      "Accuracy on test set: 63 % [5126/8016]\n",
      "[57,   500] loss: 0.049\n",
      "Accuracy on train set: 98 % [31515/32000]\n",
      "Accuracy on test set: 62 % [5023/8016]\n"
     ]
    },
    {
     "ename": "KeyboardInterrupt",
     "evalue": "",
     "output_type": "error",
     "traceback": [
      "\u001b[1;31m---------------------------------------------------------------------------\u001b[0m",
      "\u001b[1;31mKeyboardInterrupt\u001b[0m                         Traceback (most recent call last)",
      "\u001b[1;32m<ipython-input-30-d772f768cd54>\u001b[0m in \u001b[0;36m<module>\u001b[1;34m()\u001b[0m\n\u001b[0;32m      2\u001b[0m     \u001b[0msave_path\u001b[0m \u001b[1;33m=\u001b[0m \u001b[1;34m'..//Final-Project//model_save//'\u001b[0m\u001b[1;33m\u001b[0m\u001b[0m\n\u001b[0;32m      3\u001b[0m     \u001b[1;32mfor\u001b[0m \u001b[0mepoch\u001b[0m \u001b[1;32min\u001b[0m \u001b[0mrange\u001b[0m\u001b[1;33m(\u001b[0m\u001b[1;36m100\u001b[0m\u001b[1;33m)\u001b[0m\u001b[1;33m:\u001b[0m\u001b[1;33m\u001b[0m\u001b[0m\n\u001b[1;32m----> 4\u001b[1;33m         \u001b[0mtrain\u001b[0m\u001b[1;33m(\u001b[0m\u001b[0mepoch\u001b[0m\u001b[1;33m)\u001b[0m\u001b[1;33m\u001b[0m\u001b[0m\n\u001b[0m\u001b[0;32m      5\u001b[0m         \u001b[0mtest\u001b[0m\u001b[1;33m(\u001b[0m\u001b[1;33m)\u001b[0m\u001b[1;33m\u001b[0m\u001b[0m\n\u001b[0;32m      6\u001b[0m         \u001b[1;31m# 2个epoch保存一次模型\u001b[0m\u001b[1;33m\u001b[0m\u001b[1;33m\u001b[0m\u001b[0m\n",
      "\u001b[1;32m<ipython-input-25-f60cb1602f1e>\u001b[0m in \u001b[0;36mtrain\u001b[1;34m(epoch)\u001b[0m\n\u001b[0;32m     36\u001b[0m         \u001b[0moptimizer\u001b[0m\u001b[1;33m.\u001b[0m\u001b[0mstep\u001b[0m\u001b[1;33m(\u001b[0m\u001b[1;33m)\u001b[0m\u001b[1;33m\u001b[0m\u001b[0m\n\u001b[0;32m     37\u001b[0m \u001b[1;33m\u001b[0m\u001b[0m\n\u001b[1;32m---> 38\u001b[1;33m         \u001b[0mrunning_loss\u001b[0m \u001b[1;33m+=\u001b[0m \u001b[0mloss\u001b[0m\u001b[1;33m.\u001b[0m\u001b[0mitem\u001b[0m\u001b[1;33m(\u001b[0m\u001b[1;33m)\u001b[0m\u001b[1;33m\u001b[0m\u001b[0m\n\u001b[0m\u001b[0;32m     39\u001b[0m         \u001b[1;32mif\u001b[0m \u001b[0mbatch_idx\u001b[0m \u001b[1;33m%\u001b[0m \u001b[1;36m500\u001b[0m \u001b[1;33m==\u001b[0m \u001b[1;36m499\u001b[0m\u001b[1;33m:\u001b[0m\u001b[1;33m\u001b[0m\u001b[0m\n\u001b[0;32m     40\u001b[0m             \u001b[1;31m# 以500个patch的平均loss作为此epoch的loss(loss/patch)\u001b[0m\u001b[1;33m\u001b[0m\u001b[1;33m\u001b[0m\u001b[0m\n",
      "\u001b[1;31mKeyboardInterrupt\u001b[0m: "
     ]
    }
   ],
   "source": [
    "if __name__ == '__main__':\n",
    "    save_path = '..//Final-Project//model_save//'\n",
    "    for epoch in range(100):\n",
    "        train(epoch)\n",
    "        test()\n",
    "        # 2个epoch保存一次模型\n",
    "        if epoch % 2 == 1:\n",
    "            torch.save(model.state_dict(), save_path+\"Net1_drop_epoch\"+ str(epoch+1)+ '.pth')"
   ]
  },
  {
   "cell_type": "code",
   "execution_count": 31,
   "id": "directed-session",
   "metadata": {},
   "outputs": [],
   "source": [
    "# # 换算为每个patch的loss\n",
    "test_loss_list_patch = [i * 64 for i in test_loss_list]\n",
    "test_loss_list = test_loss_list_patch"
   ]
  },
  {
   "cell_type": "markdown",
   "id": "joined-reminder",
   "metadata": {},
   "source": [
    "## 保存与加载"
   ]
  },
  {
   "cell_type": "code",
   "execution_count": 33,
   "id": "august-robertson",
   "metadata": {},
   "outputs": [
    {
     "data": {
      "text/plain": [
       "50"
      ]
     },
     "execution_count": 33,
     "metadata": {},
     "output_type": "execute_result"
    }
   ],
   "source": [
    "len(train_accuracy_list[:50])"
   ]
  },
  {
   "cell_type": "code",
   "execution_count": 34,
   "id": "embedded-buddy",
   "metadata": {},
   "outputs": [],
   "source": [
    "# # 保存loss与accuracy\n",
    "# train_loss_list = np.array(train_loss_list)\n",
    "# test_loss_list = np.array(test_loss_list)\n",
    "# train_accuracy_list = np.array(train_accuracy_list)\n",
    "# test_accuracy_list = np.array(test_accuracy_list)\n",
    "# np.savetxt(\"..//Final-Project//log_save//Net1_drop_train_loss_list.txt\",train_loss_list)\n",
    "# np.savetxt(\"..//Final-Project//log_save//Net1_drop_test_loss_list.txt\",test_loss_list)\n",
    "# np.savetxt(\"..//Final-Project//log_save//Net1_drop_train_accuracy_list.txt\",train_accuracy_list)\n",
    "# np.savetxt(\"..//Final-Project//log_save//Net1_drop_test_accuracy_list.txt\",test_accuracy_list)"
   ]
  },
  {
   "cell_type": "code",
   "execution_count": 32,
   "id": "crude-usage",
   "metadata": {},
   "outputs": [
    {
     "data": {
      "text/plain": [
       "<All keys matched successfully>"
      ]
     },
     "execution_count": 32,
     "metadata": {},
     "output_type": "execute_result"
    }
   ],
   "source": [
    "save_path = '..//Final-Project//model_save//'\n",
    "state_dict = torch.load(save_path+\"Net1_drop_epoch10.pth\")\n",
    "model.load_state_dict(state_dict)"
   ]
  },
  {
   "cell_type": "code",
   "execution_count": 33,
   "id": "brutal-arbitration",
   "metadata": {},
   "outputs": [],
   "source": [
    "train_loss_list = np.loadtxt(\"..//Final-Project//log_save//Net1_drop_train_loss_list.txt\")\n",
    "test_loss_list = np.loadtxt(\"..//Final-Project//log_save//Net1_drop_test_loss_list.txt\")\n",
    "train_accuracy_list = np.loadtxt(\"..//Final-Project//log_save//Net1_drop_train_accuracy_list.txt\")\n",
    "test_accuracy_list = np.loadtxt(\"..//Final-Project//log_save//Net1_drop_test_accuracy_list.txt\")"
   ]
  },
  {
   "cell_type": "code",
   "execution_count": 5,
   "id": "indirect-paintball",
   "metadata": {
    "scrolled": false
   },
   "outputs": [
    {
     "data": {
      "image/png": "[encoded data removed]",
      "text/plain": [
       "<Figure size 2000x800 with 2 Axes>"
      ]
     },
     "metadata": {
      "needs_background": "light"
     },
     "output_type": "display_data"
    }
   ],
   "source": [
    "plot_loss_n(50)"
   ]
  },
  {
   "cell_type": "code",
   "execution_count": 6,
   "id": "spectacular-dream",
   "metadata": {
    "scrolled": true
   },
   "outputs": [
    {
     "data": {
      "text/plain": [
       "42"
      ]
     },
     "execution_count": 6,
     "metadata": {},
     "output_type": "execute_result"
    }
   ],
   "source": [
    "test_accuracy_list.argmax()"
   ]
  },
  {
   "cell_type": "code",
   "execution_count": 7,
   "id": "interim-federal",
   "metadata": {},
   "outputs": [
    {
     "data": {
      "text/plain": [
       "64.55838323353294"
      ]
     },
     "execution_count": 7,
     "metadata": {},
     "output_type": "execute_result"
    }
   ],
   "source": [
    "test_accuracy_list.max()"
   ]
  },
  {
   "cell_type": "code",
   "execution_count": 8,
   "id": "voluntary-internship",
   "metadata": {},
   "outputs": [
    {
     "data": {
      "text/plain": [
       "10"
      ]
     },
     "execution_count": 8,
     "metadata": {},
     "output_type": "execute_result"
    }
   ],
   "source": [
    "test_loss_list.argmin()"
   ]
  },
  {
   "cell_type": "code",
   "execution_count": 10,
   "id": "marked-penguin",
   "metadata": {
    "scrolled": true
   },
   "outputs": [
    {
     "name": "stdout",
     "output_type": "stream",
     "text": [
      "epoch: 0\n",
      "test_loss: 1.931194615950996\n",
      "test_accuracy: 62.96157684630739\n",
      "epoch: 2\n",
      "test_loss: 1.190815818122404\n",
      "test_accuracy: 49.36377245508982\n",
      "epoch: 4\n",
      "test_loss: 1.11682463974177\n",
      "test_accuracy: 50.74850299401198\n",
      "epoch: 6\n",
      "test_loss: 1.0452009509140978\n",
      "test_accuracy: 55.61377245508982\n",
      "epoch: 8\n",
      "test_loss: 1.0166292460914144\n",
      "test_accuracy: 57.28542914171657\n",
      "epoch: 10\n",
      "test_loss: 0.9903046972640677\n",
      "test_accuracy: 59.76796407185629\n",
      "epoch: 12\n",
      "test_loss: 1.04196825282585\n",
      "test_accuracy: 60.17964071856287\n",
      "epoch: 14\n",
      "test_loss: 0.971620054465687\n",
      "test_accuracy: 60.59131736526946\n",
      "epoch: 16\n",
      "test_loss: 1.089706238229088\n",
      "test_accuracy: 60.49151696606786\n",
      "epoch: 18\n",
      "test_loss: 1.0451401665866256\n",
      "test_accuracy: 62.749500998003995\n",
      "epoch: 20\n",
      "test_loss: 1.1422520038521218\n",
      "test_accuracy: 62.16317365269461\n",
      "epoch: 22\n",
      "test_loss: 1.2611383921345938\n",
      "test_accuracy: 63.17365269461078\n",
      "epoch: 24\n",
      "test_loss: 1.3329779288490784\n",
      "test_accuracy: 62.949101796407184\n",
      "epoch: 26\n",
      "test_loss: 1.4848241348631919\n",
      "test_accuracy: 62.4750499001996\n",
      "epoch: 28\n",
      "test_loss: 1.937057805346128\n",
      "test_accuracy: 59.71806387225549\n",
      "epoch: 30\n",
      "test_loss: 1.706507232972419\n",
      "test_accuracy: 62.849301397205586\n",
      "epoch: 32\n",
      "test_loss: 1.7693346183283019\n",
      "test_accuracy: 61.12774451097805\n",
      "epoch: 34\n",
      "test_loss: 1.7794180632515568\n",
      "test_accuracy: 62.612275449101794\n",
      "epoch: 36\n",
      "test_loss: 1.9513538397088537\n",
      "test_accuracy: 62.3502994011976\n",
      "epoch: 38\n",
      "test_loss: 1.8656290051867273\n",
      "test_accuracy: 63.13622754491018\n"
     ]
    }
   ],
   "source": [
    "for i in range(20):\n",
    "    idx = i*2-1\n",
    "    print(\"epoch: \"+ str(idx+1))\n",
    "    print(\"test_loss: \"+str(test_loss_list[idx]))\n",
    "    print(\"test_accuracy: \"+str(test_accuracy_list[idx]))"
   ]
  },
  {
   "cell_type": "code",
   "execution_count": 11,
   "id": "confirmed-macintosh",
   "metadata": {
    "scrolled": true
   },
   "outputs": [
    {
     "name": "stdout",
     "output_type": "stream",
     "text": [
      "0.9903046972640677\n",
      "59.76796407185629\n"
     ]
    }
   ],
   "source": [
    "# 取第10个epoch\n",
    "print(test_loss_list[9])\n",
    "print(test_accuracy_list[9])"
   ]
  },
  {
   "cell_type": "markdown",
   "id": "classified-voice",
   "metadata": {},
   "source": [
    "## 统计"
   ]
  },
  {
   "cell_type": "code",
   "execution_count": 25,
   "id": "lined-dispatch",
   "metadata": {},
   "outputs": [],
   "source": [
    "import torchmetrics"
   ]
  },
  {
   "cell_type": "code",
   "execution_count": 39,
   "id": "viral-samoa",
   "metadata": {},
   "outputs": [],
   "source": [
    "categories = ['disgust','fear','happy','surprise','sad','angry','neutral']\n",
    "# label = 0,1,2,3,4,5,6"
   ]
  },
  {
   "cell_type": "code",
   "execution_count": 60,
   "id": "million-republic",
   "metadata": {},
   "outputs": [],
   "source": [
    "def test_metrics():\n",
    "    with torch.no_grad():\n",
    "        # 实例化相关metrics的计算对象\n",
    "        test_f1 = torchmetrics.F1Score(average='none', num_classes=7).to(device)\n",
    "        test_acc = torchmetrics.Accuracy().to(device)\n",
    "        test_recall = torchmetrics.Recall(average='none', num_classes=7).to(device)\n",
    "        test_precision = torchmetrics.Precision(average='none', num_classes=7).to(device)\n",
    "        test_auc = torchmetrics.AUROC(average=\"macro\", num_classes=7).to(device)\n",
    "        # 开启测试阶段\n",
    "        model.eval()\n",
    "        for data in test_loader:\n",
    "            images, labels = data\n",
    "        \n",
    "            # 将用来计算的张量迁移到GPU\n",
    "            images, labels = images.to(device), labels.to(device)\n",
    "            \n",
    "            outputs = model(images)\n",
    "            \n",
    "             # 一个batch进行计算迭代\n",
    "            test_acc(outputs.argmax(1), labels)\n",
    "            test_auc.update(outputs, labels)\n",
    "            test_f1.update(outputs.argmax(1), labels)\n",
    "            test_recall(outputs.argmax(1), labels)\n",
    "            test_precision(outputs.argmax(1), labels)\n",
    "\n",
    "    # 计算一个epoch的accuray、recall、precision\n",
    "    total_acc = test_acc.compute()\n",
    "    total_recall = test_recall.compute()\n",
    "    total_precision = test_precision.compute()\n",
    "    total_f1 = test_f1.compute()\n",
    "    total_auc = test_auc.compute()\n",
    "    print(\"Accuracy of every class:\" ,total_acc)\n",
    "    print(\"recall of every class: \", total_recall)\n",
    "    print(\"precision of every class: \", total_precision)\n",
    "    print(\"f1 score of every class: \", total_f1)\n",
    "    print(\"auc of every class: \", total_auc)\n",
    "    # 清空计算对象\n",
    "    test_precision.reset()\n",
    "    test_acc.reset()\n",
    "    test_f1.reset()\n",
    "    test_recall.reset()\n",
    "    test_auc.reset()"
   ]
  },
  {
   "cell_type": "code",
   "execution_count": 61,
   "id": "appropriate-control",
   "metadata": {},
   "outputs": [
    {
     "name": "stderr",
     "output_type": "stream",
     "text": [
      "C:\\Users\\Eden_\\AppData\\Local\\Programs\\Python\\Python37\\lib\\site-packages\\torchmetrics\\utilities\\prints.py:36: UserWarning: Metric `AUROC` will save all targets and predictions in buffer. For large datasets this may lead to large memory footprint.\n",
      "  warnings.warn(*args, **kwargs)\n"
     ]
    },
    {
     "name": "stdout",
     "output_type": "stream",
     "text": [
      "Accuracy of every class: tensor(0.5977, device='cuda:0')\n",
      "recall of every class:  tensor([0.5997, 0.3159, 0.6811, 0.4759, 0.5681, 0.4919, 0.9850],\n",
      "       device='cuda:0')\n",
      "precision of every class:  tensor([0.4939, 0.4898, 0.5864, 0.5262, 0.5279, 0.4409, 0.9322],\n",
      "       device='cuda:0')\n",
      "f1 score of every class:  tensor([0.5417, 0.3841, 0.6302, 0.4998, 0.5473, 0.4650, 0.9579],\n",
      "       device='cuda:0')\n",
      "auc of every class:  tensor(0.8448, device='cuda:0')\n"
     ]
    }
   ],
   "source": [
    "test_metrics()"
   ]
  },
  {
   "cell_type": "code",
   "execution_count": 57,
   "id": "liable-control",
   "metadata": {},
   "outputs": [],
   "source": [
    "def test_categories():\n",
    "    accuracy_count = [0, 0, 0, 0, 0, 0, 0]\n",
    "    total_count = [0, 0, 0, 0, 0, 0, 0]\n",
    "    true_positive = [0, 0, 0, 0, 0, 0, 0]\n",
    "    false_positive = [0, 0, 0, 0, 0, 0, 0]\n",
    "    true_negative = [0, 0, 0, 0, 0, 0, 0]\n",
    "    false_negative = [0, 0, 0, 0, 0, 0, 0]\n",
    "    with torch.no_grad():\n",
    "        # 开启测试阶段\n",
    "        model.eval()\n",
    "        for data in test_loader:\n",
    "            images, labels = data\n",
    "\n",
    "            # 将用来计算的张量迁移到GPU\n",
    "            images, labels = images.to(device), labels.to(device)\n",
    "\n",
    "            outputs = model(images)\n",
    "\n",
    "            # 沿着第一个维度取最大值的下标，返回最大值、最大值下标\n",
    "            _, predicted = torch.max(outputs.data, dim=1)\n",
    "\n",
    "            # batch_size = labels.size(0)\n",
    "            for i in range(labels.size(0)):\n",
    "                # 记录每一类总数\n",
    "                total_count[labels[i]] += 1\n",
    "                # 记录每一类正确数\n",
    "                if predicted[i] == labels[i]:\n",
    "                    accuracy_count[predicted[i]] += 1\n",
    "\n",
    "        for i in range(7):\n",
    "            print('Accuracy on ' +\n",
    "                  str(categories[i])+' is ' + format(100 * accuracy_count[i]/total_count[i], '.2f')+'%')"
   ]
  },
  {
   "cell_type": "code",
   "execution_count": 58,
   "id": "advised-field",
   "metadata": {},
   "outputs": [
    {
     "name": "stdout",
     "output_type": "stream",
     "text": [
      "Accuracy on disgust is 59.97%\n",
      "Accuracy on fear is 31.59%\n",
      "Accuracy on happy is 68.11%\n",
      "Accuracy on surprise is 47.59%\n",
      "Accuracy on sad is 56.81%\n",
      "Accuracy on angry is 49.19%\n",
      "Accuracy on neutral is 98.50%\n"
     ]
    }
   ],
   "source": [
    "test_categories()"
   ]
  },
  {
   "cell_type": "code",
   "execution_count": null,
   "id": "compliant-objective",
   "metadata": {},
   "outputs": [],
   "source": []
  }
 ],
 "metadata": {
  "kernelspec": {
   "display_name": "Python 3",
   "language": "python",
   "name": "python3"
  },
  "language_info": {
   "codemirror_mode": {
    "name": "ipython",
    "version": 3
   },
   "file_extension": ".py",
   "mimetype": "text/x-python",
   "name": "python",
   "nbconvert_exporter": "python",
   "pygments_lexer": "ipython3",
   "version": "3.7.0"
  },
  "toc": {
   "base_numbering": 1,
   "nav_menu": {},
   "number_sections": true,
   "sideBar": true,
   "skip_h1_title": false,
   "title_cell": "Table of Contents",
   "title_sidebar": "Contents",
   "toc_cell": false,
   "toc_position": {
    "height": "calc(100% - 180px)",
    "left": "10px",
    "top": "150px",
    "width": "165px"
   },
   "toc_section_display": true,
   "toc_window_display": true
  }
 },
 "nbformat": 4,
 "nbformat_minor": 5
}
