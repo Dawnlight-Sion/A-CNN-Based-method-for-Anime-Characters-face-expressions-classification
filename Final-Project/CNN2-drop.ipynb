{
 "cells": [
  {
   "cell_type": "code",
   "execution_count": 1,
   "id": "circular-suspect",
   "metadata": {},
   "outputs": [],
   "source": [
    "import torch\n",
    "import torch.nn as nn\n",
    "import os\n",
    "from torch.utils.data import Dataset\n",
    "from torch.utils.data import DataLoader\n",
    "from torchvision import transforms\n",
    "from torchvision import datasets\n",
    "from PIL import Image\n",
    "import torch.nn.functional as F\n",
    "import torch.optim as optim\n",
    "# import i2v\n",
    "import numpy as np\n",
    "import matplotlib.pyplot as plt"
   ]
  },
  {
   "cell_type": "markdown",
   "id": "ordered-violation",
   "metadata": {},
   "source": [
    "## 构造数据集"
   ]
  },
  {
   "cell_type": "code",
   "execution_count": 2,
   "id": "novel-inflation",
   "metadata": {},
   "outputs": [],
   "source": [
    "categories = ['disgust','fear','happy','surprise','sad','angry','neutral']\n",
    "# label = 0,1,2,3,4,5,6"
   ]
  },
  {
   "cell_type": "code",
   "execution_count": 3,
   "id": "stuck-winter",
   "metadata": {},
   "outputs": [],
   "source": [
    "file_train = []\n",
    "file_test = []\n",
    "number_train = []\n",
    "number_test = []"
   ]
  },
  {
   "cell_type": "code",
   "execution_count": 4,
   "id": "tender-scientist",
   "metadata": {},
   "outputs": [],
   "source": [
    "# categories.index('neutral')\n",
    "# number_train.append(1)\n",
    "# number_train"
   ]
  },
  {
   "cell_type": "code",
   "execution_count": 5,
   "id": "terminal-blend",
   "metadata": {},
   "outputs": [],
   "source": [
    "# category = 'neutral'\n",
    "for category in categories:\n",
    "    label = categories.index(category)\n",
    "    for root,dirs,files in os.walk(\"..//detect_faces//\"+str(category)): \n",
    "        for file in files:\n",
    "            file_type = file.split('_')[1]\n",
    "    #         print(file_type)\n",
    "            # train_data\n",
    "            if file_type == 'train':\n",
    "                file_train.append(os.path.join(root,file))\n",
    "                number_train.append(label)\n",
    "            else:\n",
    "                file_test.append(os.path.join(root,file))\n",
    "                number_test.append(label)"
   ]
  },
  {
   "cell_type": "code",
   "execution_count": 6,
   "id": "stainless-radius",
   "metadata": {},
   "outputs": [
    {
     "name": "stdout",
     "output_type": "stream",
     "text": [
      "trainset_size: 32080\n",
      "testset_size: 8016\n"
     ]
    }
   ],
   "source": [
    "print(\"trainset_size: \"+ str(len(file_train)))\n",
    "print(\"testset_size: \"+ str(len(file_test)))"
   ]
  },
  {
   "cell_type": "code",
   "execution_count": 7,
   "id": "regulation-toner",
   "metadata": {},
   "outputs": [],
   "source": [
    "class testset(Dataset):\n",
    "    def __init__(self, transform=None):\n",
    "        #定义好 image 的路径\n",
    "        self.images = file_test\n",
    "        self.target = number_test\n",
    "        self.transform = transform\n",
    "\n",
    "    def __getitem__(self, index):\n",
    "        image = self.images[index]\n",
    "        image = Image.open(image)\n",
    "        if self.transform:\n",
    "            image = self.transform(image)\n",
    "        target = self.target[index]\n",
    "        return image,target\n",
    "\n",
    "    def __len__(self):\n",
    "        return len(self.images)"
   ]
  },
  {
   "cell_type": "code",
   "execution_count": 8,
   "id": "loving-sacramento",
   "metadata": {},
   "outputs": [],
   "source": [
    "class trainset(Dataset):\n",
    "    def __init__(self, transform=None):\n",
    "        #定义好 image 的路径\n",
    "        self.images = file_train\n",
    "        self.target = number_train\n",
    "        self.transform = transform\n",
    "\n",
    "    def __getitem__(self, index):\n",
    "        image = self.images[index]\n",
    "        image = Image.open(image)\n",
    "        if self.transform:\n",
    "            image = self.transform(image)\n",
    "        target = self.target[index]\n",
    "        return image,target\n",
    "\n",
    "    def __len__(self):\n",
    "        return len(self.images)"
   ]
  },
  {
   "cell_type": "code",
   "execution_count": 9,
   "id": "welcome-rogers",
   "metadata": {},
   "outputs": [],
   "source": [
    "# 应用了torchvision.transforms.ToTensor，其作用是将数据归一化到[0,1]（是将数据除以255）\n",
    "# [0.485, 0.456, 0.406]这一组平均值是从imagenet训练集中抽样算出来的。\n",
    "# 数据如果分布在(0,1)之间，可能实际的bias，就是神经网络的输入b会比较大，\n",
    "# 而模型初始化时b=0的，这样会导致神经网络收敛比较慢，经过Normalize后，可以加快模型的收敛速度。\n",
    "normalize = transforms.Normalize(\n",
    "    mean=[0.485, 0.456, 0.406],\n",
    "    std=[0.229, 0.224, 0.225]\n",
    ")\n",
    "transform = transforms.Compose([\n",
    "    transforms.ToTensor(),\n",
    "    normalize\n",
    "])"
   ]
  },
  {
   "cell_type": "code",
   "execution_count": 10,
   "id": "incident-private",
   "metadata": {
    "scrolled": true
   },
   "outputs": [],
   "source": [
    "train_dataset = trainset(transform=transform)\n",
    "train_loader = DataLoader(train_dataset, batch_size=64,shuffle=True)\n",
    "test_dataset = testset(transform=transform)\n",
    "test_loader = DataLoader(test_dataset, batch_size=64,shuffle=False)"
   ]
  },
  {
   "cell_type": "code",
   "execution_count": null,
   "id": "expressed-market",
   "metadata": {},
   "outputs": [],
   "source": []
  },
  {
   "cell_type": "markdown",
   "id": "metallic-knowing",
   "metadata": {},
   "source": [
    "## 模型搭建"
   ]
  },
  {
   "cell_type": "code",
   "execution_count": 11,
   "id": "round-hamilton",
   "metadata": {},
   "outputs": [],
   "source": [
    "# class Net1(torch.nn.Module):\n",
    "#     def __init__(self):\n",
    "#         super(Net1,self).__init__()\n",
    "#         self.conv1 = torch.nn.Conv2d(3,64,kernel_size=3,padding=1)\n",
    "#         self.conv2 = torch.nn.Conv2d(64,128,kernel_size=3,padding=1)\n",
    "#         self.conv3 = torch.nn.Conv2d(128,256,kernel_size=3,padding=1)\n",
    "#         self.pooling1 = torch.nn.MaxPool2d(2)\n",
    "#         self.pooling2 = torch.nn.MaxPool2d(4)\n",
    "#         self.dropout = torch.nn.Dropout(0.5)\n",
    "#         self.fc1 = torch.nn.Linear(4096,4096)\n",
    "#         self.fc2 = torch.nn.Linear(4096,4096)\n",
    "#         self.fc3 = torch.nn.Linear(4096,7)\n",
    "    \n",
    "#     def forward(self,x):\n",
    "#         batch_size = x.size(0)\n",
    "#         x = self.pooling1(F.relu(self.conv1(x)))\n",
    "#         x = self.pooling2(F.relu(self.conv2(x)))\n",
    "#         x = self.pooling2(F.relu(self.conv3(x)))\n",
    "#         # flatten\n",
    "#         x = x.view(batch_size, -1)\n",
    "#         x = F.relu(self.fc1(x))\n",
    "#         x = self.dropout(x)\n",
    "#         x = F.relu(self.fc2(x))\n",
    "#         x = self.fc3(x)\n",
    "#         return x"
   ]
  },
  {
   "cell_type": "code",
   "execution_count": 12,
   "id": "weird-drink",
   "metadata": {},
   "outputs": [],
   "source": [
    "class Net2(torch.nn.Module):\n",
    "    def __init__(self):\n",
    "        super(Net2,self).__init__()\n",
    "        self.conv1 = torch.nn.Conv2d(3,64,kernel_size=3,padding=1)\n",
    "        self.conv2 = torch.nn.Conv2d(64,128,kernel_size=3,padding=1)\n",
    "        self.conv3 = torch.nn.Conv2d(128,256,kernel_size=3,padding=1)\n",
    "        self.conv4 = torch.nn.Conv2d(256,256,kernel_size=3,padding=1)\n",
    "        self.pooling1 = torch.nn.MaxPool2d(2)\n",
    "        self.pooling2 = torch.nn.MaxPool2d(4)\n",
    "        self.dropout = torch.nn.Dropout(0.5)\n",
    "        self.fc1 = torch.nn.Linear(4096,4096)\n",
    "        self.fc2 = torch.nn.Linear(4096,4096)\n",
    "        self.fc3 = torch.nn.Linear(4096,7)\n",
    "    \n",
    "    def forward(self,x):\n",
    "        batch_size = x.size(0)\n",
    "        x = self.pooling1(F.relu(self.conv1(x)))\n",
    "        x = self.pooling2(F.relu(self.conv2(x)))\n",
    "        x = F.relu(self.conv3(x))\n",
    "        x = F.relu(self.conv4(x))\n",
    "        x = self.pooling2(x)\n",
    "        # flatten\n",
    "        x = x.view(batch_size, -1)\n",
    "        x = self.fc1(x)\n",
    "        x = self.dropout(x)\n",
    "        x = F.relu(x)\n",
    "        \n",
    "        x = self.fc2(x)\n",
    "        x = self.dropout(x)\n",
    "        x = F.relu(x)\n",
    "\n",
    "        x = self.fc3(x)\n",
    "        return x"
   ]
  },
  {
   "cell_type": "code",
   "execution_count": 13,
   "id": "interracial-prior",
   "metadata": {},
   "outputs": [],
   "source": [
    "# class Net3(torch.nn.Module):\n",
    "#     def __init__(self):\n",
    "#         super(Net3,self).__init__()\n",
    "#         self.conv1 = torch.nn.Conv2d(3,64,kernel_size=3,padding=1)\n",
    "#         self.conv2 = torch.nn.Conv2d(64,128,kernel_size=3,padding=1)\n",
    "#         self.conv3 = torch.nn.Conv2d(128,128,kernel_size=3,padding=1)\n",
    "#         self.conv4 = torch.nn.Conv2d(128,256,kernel_size=3,padding=1)\n",
    "#         self.conv5 = torch.nn.Conv2d(256,256,kernel_size=3,padding=1)\n",
    "#         self.pooling1 = torch.nn.MaxPool2d(2)\n",
    "#         self.pooling2 = torch.nn.MaxPool2d(4)\n",
    "#         self.fc1 = torch.nn.Linear(4096,4096)\n",
    "#         self.fc2 = torch.nn.Linear(4096,4096)\n",
    "#         self.fc3 = torch.nn.Linear(4096,7)\n",
    "    \n",
    "#     def forward(self,x):\n",
    "#         batch_size = x.size(0)\n",
    "#         x = self.pooling1(F.relu(self.conv1(x)))\n",
    "#         x = F.relu(self.conv2(x))\n",
    "#         x = F.relu(self.conv3(x))\n",
    "#         x = self.pooling2(x)\n",
    "#         x = F.relu(self.conv4(x))\n",
    "#         x = F.relu(self.conv5(x))\n",
    "#         x = self.pooling2(x)\n",
    "#         # flatten\n",
    "#         x = x.view(batch_size, -1)\n",
    "#         x = F.relu(self.fc1(x))\n",
    "#         x = F.relu(self.fc2(x))\n",
    "#         x = self.fc3(x)\n",
    "#         return x"
   ]
  },
  {
   "cell_type": "code",
   "execution_count": 14,
   "id": "bridal-dietary",
   "metadata": {},
   "outputs": [],
   "source": [
    "# # Ensemble模型\n",
    "# class Net1_mix(torch.nn.Module):\n",
    "#     def __init__(self):\n",
    "#         super(Net1,self).__init__()\n",
    "#         self.conv1 = torch.nn.Conv2d(3,64,kernel_size=3,padding=1)\n",
    "#         self.conv2 = torch.nn.Conv2d(64,128,kernel_size=3,padding=1)\n",
    "#         self.conv3 = torch.nn.Conv2d(128,256,kernel_size=3,padding=1)\n",
    "#         self.pooling1 = torch.nn.MaxPool2d(2)\n",
    "#         self.pooling2 = torch.nn.MaxPool2d(4)\n",
    "#         self.fc1 = torch.nn.Linear(4096,4096)\n",
    "#         self.fc2 = torch.nn.Linear(4096,4096)\n",
    "    \n",
    "#     def forward(self,x):\n",
    "#         batch_size = x.size(0)\n",
    "#         x = self.pooling1(F.relu(self.conv1(x)))\n",
    "#         x = self.pooling2(F.relu(self.conv2(x)))\n",
    "#         x = self.pooling2(F.relu(self.conv3(x)))\n",
    "#         # flatten\n",
    "#         x = x.view(batch_size, -1)\n",
    "#         x = F.relu(self.fc1(x))\n",
    "#         x = F.relu(self.fc2(x))\n",
    "#         return x\n",
    "# class Net2_mix(torch.nn.Module):\n",
    "#     def __init__(self):\n",
    "#         super(Net2,self).__init__()\n",
    "#         self.conv1 = torch.nn.Conv2d(3,64,kernel_size=3,padding=1)\n",
    "#         self.conv2 = torch.nn.Conv2d(64,128,kernel_size=3,padding=1)\n",
    "#         self.conv3 = torch.nn.Conv2d(128,256,kernel_size=3,padding=1)\n",
    "#         self.conv4 = torch.nn.Conv2d(256,256,kernel_size=3,padding=1)\n",
    "#         self.pooling1 = torch.nn.MaxPool2d(2)\n",
    "#         self.pooling2 = torch.nn.MaxPool2d(4)\n",
    "#         self.fc1 = torch.nn.Linear(4096,4096)\n",
    "#         self.fc2 = torch.nn.Linear(4096,4096)\n",
    "    \n",
    "#     def forward(self,x):\n",
    "#         batch_size = x.size(0)\n",
    "#         x = self.pooling1(F.relu(self.conv1(x)))\n",
    "#         x = self.pooling2(F.relu(self.conv2(x)))\n",
    "#         x = F.relu(self.conv3(x))\n",
    "#         x = F.relu(self.conv4(x))\n",
    "#         x = self.pooling2(x)\n",
    "#         # flatten\n",
    "#         x = x.view(batch_size, -1)\n",
    "#         x = F.relu(self.fc1(x))\n",
    "#         x = F.relu(self.fc2(x))\n",
    "#         return x\n",
    "# class Net3_mix(torch.nn.Module):\n",
    "#     def __init__(self):\n",
    "#         super(Net3,self).__init__()\n",
    "#         self.conv1 = torch.nn.Conv2d(3,64,kernel_size=3,padding=1)\n",
    "#         self.conv2 = torch.nn.Conv2d(64,128,kernel_size=3,padding=1)\n",
    "#         self.conv3 = torch.nn.Conv2d(128,128,kernel_size=3,padding=1)\n",
    "#         self.conv4 = torch.nn.Conv2d(128,256,kernel_size=3,padding=1)\n",
    "#         self.conv5 = torch.nn.Conv2d(256,256,kernel_size=3,padding=1)\n",
    "#         self.pooling1 = torch.nn.MaxPool2d(2)\n",
    "#         self.pooling2 = torch.nn.MaxPool2d(4)\n",
    "#         self.fc1 = torch.nn.Linear(4096,4096)\n",
    "#         self.fc2 = torch.nn.Linear(4096,4096)\n",
    "    \n",
    "#     def forward(self,x):\n",
    "#         batch_size = x.size(0)\n",
    "#         x = self.pooling1(F.relu(self.conv1(x)))\n",
    "#         x = F.relu(self.conv2(x))\n",
    "#         x = F.relu(self.conv3(x))\n",
    "#         x = self.pooling2(x)\n",
    "#         x = F.relu(self.conv4(x))\n",
    "#         x = F.relu(self.conv5(x))\n",
    "#         x = self.pooling2(x)\n",
    "#         # flatten\n",
    "#         x = x.view(batch_size, -1)\n",
    "#         x = F.relu(self.fc1(x))\n",
    "#         x = F.relu(self.fc2(x))\n",
    "#         return x\n",
    "# # 声明网络\n",
    "# model_net1 = Net1_mix()\n",
    "# model_net2 = Net2_mix()\n",
    "# model_net3 = Net3_mix()\n",
    "# # 导入参数\n",
    "# save_path = '..//Final-Project//model_save//'\n",
    "# state_dict1 = torch.load(save_path+\"Net1_epoch60.pth\")\n",
    "# state_dict2 = torch.load(save_path+\"Net2_epoch60.pth\")\n",
    "# state_dict3 = torch.load(save_path+\"Net3_epoch60.pth\")\n",
    "\n",
    "# keys = []\n",
    "# for k,v in state_dict1.items():\n",
    "#   #将‘fc3’开头的key过滤掉，这里是要去除的层的key\n",
    "#     if k.startswith('fc3'):  \n",
    "#         continue\n",
    "#     keys.append(k)\n",
    "\n",
    "# # 去除指定层后的模型\n",
    "# state_dict1 = {k:state_dict1[k] for k in keys}\n",
    "\n",
    "# keys = []\n",
    "# for k,v in state_dict2.items():\n",
    "#   #将‘fc3’开头的key过滤掉，这里是要去除的层的key\n",
    "#     if k.startswith('fc3'):  \n",
    "#         continue\n",
    "#     keys.append(k)\n",
    "# # 去除指定层后的模型\n",
    "# state_dict2 = {k:state_dict1[k] for k in keys}\n",
    "\n",
    "# keys = []\n",
    "# for k,v in state_dict2.items():\n",
    "#   #将‘fc3’开头的key过滤掉，这里是要去除的层的key\n",
    "#     if k.startswith('fc3'):  \n",
    "#         continue\n",
    "#     keys.append(k)\n",
    "\n",
    "# # 去除指定层后的模型\n",
    "# state_dict3 = {k:state_dict1[k] for k in keys}\n",
    "\n",
    "# #自己定义的模型，但要保证前面保存的层和自定义的模型中的层一致\n",
    "# model_net1.load_state_dict(state_dict1)\n",
    "# model_net2.load_state_dict(state_dict2)\n",
    "# model_net3.load_state_dict(state_dict3)\n",
    "\n",
    "# class NetMix(torch.nn.Module):\n",
    "#     def __init__(self):\n",
    "#         super(NetMix,self).__init__()\n",
    "#         self.net1 = model_net1\n",
    "#         self.net2 = model_net2\n",
    "#         self.net3 = model_net3\n",
    "#         for p in self.parameters():\n",
    "#             p.requires_grad = False #预训练模型加载进来后全部设置为不更新参数，然后再后面加层\n",
    "#         self.fc = torch.nn.Linear(4096*3,7)\n",
    "    \n",
    "#     def forward(self,x):\n",
    "#         batch_size = x.size(0)\n",
    "#         x1 = net1(x)\n",
    "#         x2 = net2(x)\n",
    "#         x3 = net3(x)\n",
    "#         # 拼接输入\n",
    "#         x = torch.cat((x1,x2,x3),dim = 1)\n",
    "#         # 输出\n",
    "#         x = self.fc(x)\n",
    "#         return x"
   ]
  },
  {
   "cell_type": "markdown",
   "id": "raised-assault",
   "metadata": {},
   "source": [
    "## 模型配置"
   ]
  },
  {
   "cell_type": "markdown",
   "id": "capital-rhythm",
   "metadata": {},
   "source": [
    "### Net1配置"
   ]
  },
  {
   "cell_type": "code",
   "execution_count": 15,
   "id": "needed-volleyball",
   "metadata": {},
   "outputs": [],
   "source": [
    "# model = Net1()"
   ]
  },
  {
   "cell_type": "markdown",
   "id": "essential-hostel",
   "metadata": {},
   "source": [
    "### Net2配置"
   ]
  },
  {
   "cell_type": "code",
   "execution_count": 16,
   "id": "clear-specialist",
   "metadata": {},
   "outputs": [],
   "source": [
    "model = Net2()"
   ]
  },
  {
   "cell_type": "markdown",
   "id": "supposed-steps",
   "metadata": {},
   "source": [
    "### Net3配置"
   ]
  },
  {
   "cell_type": "code",
   "execution_count": 17,
   "id": "composite-visiting",
   "metadata": {},
   "outputs": [],
   "source": [
    "# model = Net3()"
   ]
  },
  {
   "cell_type": "markdown",
   "id": "pointed-gothic",
   "metadata": {},
   "source": [
    "### Net1+2+3配置"
   ]
  },
  {
   "cell_type": "code",
   "execution_count": 18,
   "id": "broken-superintendent",
   "metadata": {},
   "outputs": [],
   "source": [
    "# model = NetMix()"
   ]
  },
  {
   "cell_type": "markdown",
   "id": "suspended-portable",
   "metadata": {},
   "source": [
    "### 共同配置"
   ]
  },
  {
   "cell_type": "code",
   "execution_count": 19,
   "id": "twenty-lightning",
   "metadata": {},
   "outputs": [],
   "source": [
    "device = torch.device(\"cuda:0\" if torch.cuda.is_available() else \"cpu\")"
   ]
  },
  {
   "cell_type": "code",
   "execution_count": 20,
   "id": "closing-weekly",
   "metadata": {},
   "outputs": [
    {
     "data": {
      "text/plain": [
       "device(type='cuda', index=0)"
      ]
     },
     "execution_count": 20,
     "metadata": {},
     "output_type": "execute_result"
    }
   ],
   "source": [
    "device"
   ]
  },
  {
   "cell_type": "code",
   "execution_count": 21,
   "id": "chronic-crisis",
   "metadata": {},
   "outputs": [
    {
     "data": {
      "text/plain": [
       "Net2(\n",
       "  (conv1): Conv2d(3, 64, kernel_size=(3, 3), stride=(1, 1), padding=(1, 1))\n",
       "  (conv2): Conv2d(64, 128, kernel_size=(3, 3), stride=(1, 1), padding=(1, 1))\n",
       "  (conv3): Conv2d(128, 256, kernel_size=(3, 3), stride=(1, 1), padding=(1, 1))\n",
       "  (conv4): Conv2d(256, 256, kernel_size=(3, 3), stride=(1, 1), padding=(1, 1))\n",
       "  (pooling1): MaxPool2d(kernel_size=2, stride=2, padding=0, dilation=1, ceil_mode=False)\n",
       "  (pooling2): MaxPool2d(kernel_size=4, stride=4, padding=0, dilation=1, ceil_mode=False)\n",
       "  (dropout): Dropout(p=0.5, inplace=False)\n",
       "  (fc1): Linear(in_features=4096, out_features=4096, bias=True)\n",
       "  (fc2): Linear(in_features=4096, out_features=4096, bias=True)\n",
       "  (fc3): Linear(in_features=4096, out_features=7, bias=True)\n",
       ")"
      ]
     },
     "execution_count": 21,
     "metadata": {},
     "output_type": "execute_result"
    }
   ],
   "source": [
    "model.to(device)"
   ]
  },
  {
   "cell_type": "code",
   "execution_count": 22,
   "id": "tested-class",
   "metadata": {},
   "outputs": [],
   "source": [
    "# 损失、优化函数定义\n",
    "criterion = torch.nn.CrossEntropyLoss()\n",
    "criterion = criterion.to(device)\n",
    "\n",
    "# 带冲量的优化，冲量为0.5\n",
    "optimizer = optim.SGD(model.parameters(), lr=0.01, momentum=0.5)"
   ]
  },
  {
   "cell_type": "code",
   "execution_count": 23,
   "id": "sixth-experiment",
   "metadata": {},
   "outputs": [],
   "source": [
    "# result = []\n",
    "# one_hot = [0,0,0,0,0,0,0]\n",
    "# one_hot[1] = 1\n",
    "# result.append(one_hot)\n",
    "# result.append(one_hot)\n",
    "# torch.Tensor(result)"
   ]
  },
  {
   "cell_type": "code",
   "execution_count": 24,
   "id": "pending-tactics",
   "metadata": {},
   "outputs": [],
   "source": [
    "def get_one_hot(labels):\n",
    "    result = []\n",
    "    # batch_size=64\n",
    "    size = len(labels)\n",
    "    for i in range(size):\n",
    "        one_hot = [0,0,0,0,0,0,0]\n",
    "        one_hot[labels[i]] = 1\n",
    "        result.append(one_hot)\n",
    "    return torch.Tensor(result)"
   ]
  },
  {
   "cell_type": "code",
   "execution_count": 25,
   "id": "restricted-container",
   "metadata": {},
   "outputs": [],
   "source": [
    "def train(epoch):\n",
    "    running_loss = 0.0\n",
    "    total = 0\n",
    "    correct = 0\n",
    "    for batch_idx,data in enumerate(train_loader,0):\n",
    "        # 开启训练阶段\n",
    "        model.train()\n",
    "        inputs, target = data\n",
    "        # 转换为one-hot向量\n",
    "        target_one_hot = get_one_hot(target)\n",
    "        # 将用来计算的张量迁移到GPU\n",
    "        inputs, target_one_hot = inputs.to(device), target_one_hot.to(device)\n",
    "        \n",
    "        # 初始化优化器\n",
    "        optimizer.zero_grad()\n",
    "        \n",
    "        # forward+backward+update\n",
    "        outputs = model(inputs)\n",
    "        \n",
    "        with torch.no_grad():\n",
    "            # 开启测试阶段\n",
    "            model.eval()\n",
    "            target = target.to(device)\n",
    "            # 沿着第一个维度取最大值的下标，返回最大值、最大值下标\n",
    "            _, predicted = torch.max(outputs.data, dim=1)\n",
    "            total += target.size(0)\n",
    "            # 计算训练集准确率\n",
    "            correct += (predicted == target).sum().item()\n",
    "        # 开启训练阶段\n",
    "        model.train()\n",
    "        loss = criterion(outputs, target_one_hot)\n",
    "        # 将用来计算的张量迁移到GPU\n",
    "        loss = loss.to(device)\n",
    "        \n",
    "        loss.backward()\n",
    "        optimizer.step()\n",
    "        \n",
    "        running_loss += loss.item()\n",
    "        if batch_idx % 500 == 499:\n",
    "            # 以500个patch的平均loss作为此epoch的loss\n",
    "            train_loss_list.append(running_loss / 500)\n",
    "            print('[%d, %5d] loss: %.3f' % (epoch + 1,batch_idx + 1, running_loss / 500))\n",
    "            running_loss = 0.0\n",
    "            # 以500个patch的平均accuracy作为此epoch的accuracy\n",
    "            train_accuracy_list.append(100 * correct/total)\n",
    "            print('Accuracy on train set: %d %% [%d/%d]' % (100 * correct/total,correct,total))\n",
    "            correct = 0\n",
    "            total = 0"
   ]
  },
  {
   "cell_type": "code",
   "execution_count": 26,
   "id": "modern-inventory",
   "metadata": {},
   "outputs": [],
   "source": [
    "def test():\n",
    "    correct = 0\n",
    "    total = 0\n",
    "    error = 0\n",
    "    with torch.no_grad():\n",
    "        # 开启测试阶段\n",
    "        model.eval()\n",
    "        for data in test_loader:\n",
    "            images, labels = data\n",
    "\n",
    "            # 将用来计算的张量迁移到GPU\n",
    "            images, labels = images.to(device), labels.to(device)\n",
    "            # 用于计算测试集损失\n",
    "            one_hot_labels = get_one_hot(labels)\n",
    "            one_hot_labels = one_hot_labels.to(device)\n",
    "            \n",
    "            outputs = model(images)\n",
    "            \n",
    "            # 计算测试集损失\n",
    "            error += F.cross_entropy(outputs,one_hot_labels).sum().item()\n",
    "            \n",
    "            # 沿着第一个维度取最大值的下标，返回最大值、最大值下标\n",
    "            _, predicted = torch.max(outputs.data, dim=1)\n",
    "            total += labels.size(0)\n",
    "            # 计算测试集准确率\n",
    "            correct += (predicted == labels).sum().item()\n",
    "            \n",
    "        test_accuracy_list.append(100 * correct/total)\n",
    "        test_loss_list.append(error / total)\n",
    "        print('Accuracy on test set: %d %% [%d/%d]' % (100 * correct/total,correct,total))"
   ]
  },
  {
   "cell_type": "markdown",
   "id": "behind-shanghai",
   "metadata": {},
   "source": [
    "## 训练"
   ]
  },
  {
   "cell_type": "code",
   "execution_count": 27,
   "id": "expected-hierarchy",
   "metadata": {},
   "outputs": [],
   "source": [
    "train_loss_list = []\n",
    "test_loss_list = []\n",
    "train_accuracy_list = []\n",
    "test_accuracy_list = []"
   ]
  },
  {
   "cell_type": "code",
   "execution_count": 28,
   "id": "monetary-transparency",
   "metadata": {},
   "outputs": [],
   "source": [
    "# 作图（100epochs）\n",
    "def plot_loss():\n",
    "    # 1.创建画布\n",
    "#     plt.figure(figsize=(10,8),dpi=100)\n",
    "    fig,axes = plt.subplots(nrows=1,ncols=2,figsize=(20,8),dpi=100)\n",
    "\n",
    "    # 2.绘制图像\n",
    "    epochs = np.linspace(1,100,100)\n",
    "#     train_loss = epochs\n",
    "#     test_loss = epochs + 10\n",
    "#     train_accuracy = epochs + 10\n",
    "#     test_accuracy = epochs\n",
    "    axes[0].set_xlabel(\"epoch\")\n",
    "    axes[0].set_ylabel(\"loss(CE)/patch\")\n",
    "    axes[0].set_title(\"loss\", fontsize=10)\n",
    "    axes[0].plot(epochs, train_loss_list, color = 'r',label=\"train_loss\")\n",
    "    axes[0].plot(epochs, test_loss_list, color = 'b',label=\"test_loss\")\n",
    "    axes[0].legend(loc=\"best\")\n",
    "    \n",
    "    axes[1].set_xlabel(\"epoch\")\n",
    "    axes[1].set_ylabel(\"accuracy(%)\")\n",
    "    axes[1].set_title(\"accuracy\", fontsize=10)\n",
    "    axes[1].plot(epochs, train_accuracy_list, color = 'r',label=\"train_accuracy\")\n",
    "    axes[1].plot(epochs, test_accuracy_list, color = 'b',label=\"test_accuracy\")\n",
    "    axes[1].legend(loc=\"best\")\n",
    "    \n",
    "    plt.show()     #显示图片"
   ]
  },
  {
   "cell_type": "code",
   "execution_count": 5,
   "id": "competitive-price",
   "metadata": {},
   "outputs": [],
   "source": [
    "# 作图（n epochs）\n",
    "def plot_loss_n(n):\n",
    "    # 1.创建画布\n",
    "#     plt.figure(figsize=(10,8),dpi=100)\n",
    "    fig,axes = plt.subplots(nrows=1,ncols=2,figsize=(20,8),dpi=100)\n",
    "\n",
    "    # 2.绘制图像\n",
    "    epochs = np.linspace(1,n,n)\n",
    "#     train_loss = epochs\n",
    "#     test_loss = epochs + 10\n",
    "#     train_accuracy = epochs + 10\n",
    "#     test_accuracy = epochs\n",
    "    axes[0].set_xlabel(\"epoch\")\n",
    "    axes[0].set_ylabel(\"loss(CE)/patch\")\n",
    "    axes[0].set_title(\"loss\", fontsize=10)\n",
    "    axes[0].plot(epochs, train_loss_list[:n], color = 'r',label=\"train_loss\")\n",
    "    axes[0].plot(epochs, test_loss_list[:n], color = 'b',label=\"test_loss\")\n",
    "    axes[0].legend(loc=\"best\")\n",
    "    \n",
    "    axes[1].set_xlabel(\"epoch\")\n",
    "    axes[1].set_ylabel(\"accuracy(%)\")\n",
    "    axes[1].set_title(\"accuracy\", fontsize=10)\n",
    "    axes[1].plot(epochs, train_accuracy_list[:n], color = 'r',label=\"train_accuracy\")\n",
    "    axes[1].plot(epochs, test_accuracy_list[:n], color = 'b',label=\"test_accuracy\")\n",
    "    axes[1].legend(loc=\"best\")\n",
    "    \n",
    "    plt.show()     #显示图片"
   ]
  },
  {
   "cell_type": "code",
   "execution_count": 30,
   "id": "nonprofit-preference",
   "metadata": {
    "scrolled": true
   },
   "outputs": [
    {
     "name": "stdout",
     "output_type": "stream",
     "text": [
      "[1,   500] loss: 1.739\n",
      "Accuracy on train set: 28 % [9121/32000]\n",
      "Accuracy on test set: 44 % [3560/8016]\n",
      "[2,   500] loss: 1.337\n",
      "Accuracy on train set: 45 % [14553/32000]\n",
      "Accuracy on test set: 49 % [3981/8016]\n",
      "[3,   500] loss: 1.211\n",
      "Accuracy on train set: 50 % [16045/32000]\n",
      "Accuracy on test set: 50 % [4034/8016]\n",
      "[4,   500] loss: 1.136\n",
      "Accuracy on train set: 53 % [17157/32000]\n",
      "Accuracy on test set: 50 % [4043/8016]\n",
      "[5,   500] loss: 1.079\n",
      "Accuracy on train set: 55 % [17896/32000]\n",
      "Accuracy on test set: 48 % [3894/8016]\n",
      "[6,   500] loss: 1.032\n",
      "Accuracy on train set: 58 % [18584/32000]\n",
      "Accuracy on test set: 54 % [4404/8016]\n",
      "[7,   500] loss: 0.992\n",
      "Accuracy on train set: 59 % [19118/32000]\n",
      "Accuracy on test set: 57 % [4627/8016]\n",
      "[8,   500] loss: 0.951\n",
      "Accuracy on train set: 61 % [19791/32000]\n",
      "Accuracy on test set: 59 % [4743/8016]\n",
      "[9,   500] loss: 0.914\n",
      "Accuracy on train set: 63 % [20196/32000]\n",
      "Accuracy on test set: 59 % [4770/8016]\n",
      "[10,   500] loss: 0.879\n",
      "Accuracy on train set: 64 % [20753/32000]\n",
      "Accuracy on test set: 57 % [4642/8016]\n",
      "[11,   500] loss: 0.840\n",
      "Accuracy on train set: 66 % [21187/32000]\n",
      "Accuracy on test set: 60 % [4841/8016]\n",
      "[12,   500] loss: 0.797\n",
      "Accuracy on train set: 67 % [21732/32000]\n",
      "Accuracy on test set: 60 % [4832/8016]\n",
      "[13,   500] loss: 0.761\n",
      "Accuracy on train set: 69 % [22361/32000]\n",
      "Accuracy on test set: 60 % [4871/8016]\n",
      "[14,   500] loss: 0.715\n",
      "Accuracy on train set: 71 % [22844/32000]\n",
      "Accuracy on test set: 59 % [4795/8016]\n",
      "[15,   500] loss: 0.670\n",
      "Accuracy on train set: 73 % [23478/32000]\n",
      "Accuracy on test set: 59 % [4757/8016]\n",
      "[16,   500] loss: 0.618\n",
      "Accuracy on train set: 75 % [24206/32000]\n",
      "Accuracy on test set: 62 % [5000/8016]\n",
      "[17,   500] loss: 0.574\n",
      "Accuracy on train set: 77 % [24714/32000]\n",
      "Accuracy on test set: 60 % [4881/8016]\n",
      "[18,   500] loss: 0.518\n",
      "Accuracy on train set: 79 % [25381/32000]\n",
      "Accuracy on test set: 61 % [4936/8016]\n",
      "[19,   500] loss: 0.469\n",
      "Accuracy on train set: 81 % [26100/32000]\n",
      "Accuracy on test set: 59 % [4742/8016]\n",
      "[20,   500] loss: 0.415\n",
      "Accuracy on train set: 83 % [26733/32000]\n",
      "Accuracy on test set: 60 % [4818/8016]\n",
      "[21,   500] loss: 0.375\n",
      "Accuracy on train set: 85 % [27250/32000]\n",
      "Accuracy on test set: 60 % [4852/8016]\n",
      "[22,   500] loss: 0.329\n",
      "Accuracy on train set: 87 % [27894/32000]\n",
      "Accuracy on test set: 61 % [4956/8016]\n",
      "[23,   500] loss: 0.287\n",
      "Accuracy on train set: 89 % [28501/32000]\n",
      "Accuracy on test set: 62 % [4975/8016]\n",
      "[24,   500] loss: 0.258\n",
      "Accuracy on train set: 90 % [28859/32000]\n",
      "Accuracy on test set: 60 % [4881/8016]\n",
      "[25,   500] loss: 0.221\n",
      "Accuracy on train set: 91 % [29373/32000]\n",
      "Accuracy on test set: 62 % [4987/8016]\n",
      "[26,   500] loss: 0.202\n",
      "Accuracy on train set: 92 % [29671/32000]\n",
      "Accuracy on test set: 60 % [4878/8016]\n",
      "[27,   500] loss: 0.168\n",
      "Accuracy on train set: 94 % [30108/32000]\n",
      "Accuracy on test set: 61 % [4915/8016]\n",
      "[28,   500] loss: 0.158\n",
      "Accuracy on train set: 94 % [30254/32000]\n",
      "Accuracy on test set: 62 % [4983/8016]\n",
      "[29,   500] loss: 0.144\n",
      "Accuracy on train set: 95 % [30423/32000]\n",
      "Accuracy on test set: 59 % [4789/8016]\n",
      "[30,   500] loss: 0.127\n",
      "Accuracy on train set: 95 % [30676/32000]\n",
      "Accuracy on test set: 60 % [4849/8016]\n",
      "[31,   500] loss: 0.121\n",
      "Accuracy on train set: 96 % [30802/32000]\n",
      "Accuracy on test set: 61 % [4929/8016]\n",
      "[32,   500] loss: 0.112\n",
      "Accuracy on train set: 96 % [30917/32000]\n",
      "Accuracy on test set: 61 % [4924/8016]\n",
      "[33,   500] loss: 0.102\n",
      "Accuracy on train set: 96 % [31022/32000]\n",
      "Accuracy on test set: 60 % [4848/8016]\n",
      "[34,   500] loss: 0.091\n",
      "Accuracy on train set: 97 % [31105/32000]\n",
      "Accuracy on test set: 61 % [4943/8016]\n",
      "[35,   500] loss: 0.083\n",
      "Accuracy on train set: 97 % [31230/32000]\n",
      "Accuracy on test set: 61 % [4967/8016]\n",
      "[36,   500] loss: 0.080\n",
      "Accuracy on train set: 97 % [31294/32000]\n",
      "Accuracy on test set: 61 % [4909/8016]\n",
      "[37,   500] loss: 0.076\n",
      "Accuracy on train set: 97 % [31318/32000]\n",
      "Accuracy on test set: 60 % [4882/8016]\n",
      "[38,   500] loss: 0.073\n",
      "Accuracy on train set: 97 % [31340/32000]\n",
      "Accuracy on test set: 61 % [4937/8016]\n",
      "[39,   500] loss: 0.069\n",
      "Accuracy on train set: 98 % [31389/32000]\n",
      "Accuracy on test set: 61 % [4957/8016]\n",
      "[40,   500] loss: 0.066\n",
      "Accuracy on train set: 98 % [31406/32000]\n",
      "Accuracy on test set: 61 % [4956/8016]\n",
      "[41,   500] loss: 0.061\n",
      "Accuracy on train set: 98 % [31430/32000]\n",
      "Accuracy on test set: 61 % [4930/8016]\n",
      "[42,   500] loss: 0.060\n",
      "Accuracy on train set: 98 % [31447/32000]\n",
      "Accuracy on test set: 61 % [4962/8016]\n",
      "[43,   500] loss: 0.057\n",
      "Accuracy on train set: 98 % [31458/32000]\n",
      "Accuracy on test set: 62 % [5003/8016]\n",
      "[44,   500] loss: 0.053\n",
      "Accuracy on train set: 98 % [31482/32000]\n",
      "Accuracy on test set: 63 % [5068/8016]\n",
      "[45,   500] loss: 0.054\n",
      "Accuracy on train set: 98 % [31472/32000]\n",
      "Accuracy on test set: 62 % [4990/8016]\n",
      "[46,   500] loss: 0.051\n",
      "Accuracy on train set: 98 % [31522/32000]\n",
      "Accuracy on test set: 62 % [5010/8016]\n",
      "[47,   500] loss: 0.050\n",
      "Accuracy on train set: 98 % [31506/32000]\n",
      "Accuracy on test set: 62 % [5012/8016]\n",
      "[48,   500] loss: 0.047\n",
      "Accuracy on train set: 98 % [31522/32000]\n",
      "Accuracy on test set: 61 % [4922/8016]\n",
      "[49,   500] loss: 0.046\n",
      "Accuracy on train set: 98 % [31542/32000]\n",
      "Accuracy on test set: 62 % [4988/8016]\n",
      "[50,   500] loss: 0.045\n",
      "Accuracy on train set: 98 % [31528/32000]\n",
      "Accuracy on test set: 62 % [4995/8016]\n",
      "[51,   500] loss: 0.041\n",
      "Accuracy on train set: 98 % [31577/32000]\n"
     ]
    },
    {
     "ename": "KeyboardInterrupt",
     "evalue": "",
     "output_type": "error",
     "traceback": [
      "\u001b[1;31m---------------------------------------------------------------------------\u001b[0m",
      "\u001b[1;31mKeyboardInterrupt\u001b[0m                         Traceback (most recent call last)",
      "\u001b[1;32m<ipython-input-30-b53ed9c119c5>\u001b[0m in \u001b[0;36m<module>\u001b[1;34m()\u001b[0m\n\u001b[0;32m      4\u001b[0m \u001b[1;31m#         epoch = epoch+1\u001b[0m\u001b[1;33m\u001b[0m\u001b[1;33m\u001b[0m\u001b[0m\n\u001b[0;32m      5\u001b[0m         \u001b[0mtrain\u001b[0m\u001b[1;33m(\u001b[0m\u001b[0mepoch\u001b[0m\u001b[1;33m)\u001b[0m\u001b[1;33m\u001b[0m\u001b[0m\n\u001b[1;32m----> 6\u001b[1;33m         \u001b[0mtest\u001b[0m\u001b[1;33m(\u001b[0m\u001b[1;33m)\u001b[0m\u001b[1;33m\u001b[0m\u001b[0m\n\u001b[0m\u001b[0;32m      7\u001b[0m         \u001b[1;31m# 2个epoch保存一次模型\u001b[0m\u001b[1;33m\u001b[0m\u001b[1;33m\u001b[0m\u001b[0m\n\u001b[0;32m      8\u001b[0m         \u001b[1;32mif\u001b[0m \u001b[0mepoch\u001b[0m \u001b[1;33m%\u001b[0m \u001b[1;36m2\u001b[0m \u001b[1;33m==\u001b[0m \u001b[1;36m1\u001b[0m\u001b[1;33m:\u001b[0m\u001b[1;33m\u001b[0m\u001b[0m\n",
      "\u001b[1;32m<ipython-input-26-c871b2a3fe9b>\u001b[0m in \u001b[0;36mtest\u001b[1;34m()\u001b[0m\n\u001b[0;32m      6\u001b[0m         \u001b[1;31m# 开启测试阶段\u001b[0m\u001b[1;33m\u001b[0m\u001b[1;33m\u001b[0m\u001b[0m\n\u001b[0;32m      7\u001b[0m         \u001b[0mmodel\u001b[0m\u001b[1;33m.\u001b[0m\u001b[0meval\u001b[0m\u001b[1;33m(\u001b[0m\u001b[1;33m)\u001b[0m\u001b[1;33m\u001b[0m\u001b[0m\n\u001b[1;32m----> 8\u001b[1;33m         \u001b[1;32mfor\u001b[0m \u001b[0mdata\u001b[0m \u001b[1;32min\u001b[0m \u001b[0mtest_loader\u001b[0m\u001b[1;33m:\u001b[0m\u001b[1;33m\u001b[0m\u001b[0m\n\u001b[0m\u001b[0;32m      9\u001b[0m             \u001b[0mimages\u001b[0m\u001b[1;33m,\u001b[0m \u001b[0mlabels\u001b[0m \u001b[1;33m=\u001b[0m \u001b[0mdata\u001b[0m\u001b[1;33m\u001b[0m\u001b[0m\n\u001b[0;32m     10\u001b[0m \u001b[1;33m\u001b[0m\u001b[0m\n",
      "\u001b[1;32mC:\\Users\\Eden_\\AppData\\Local\\Programs\\Python\\Python37\\lib\\site-packages\\torch\\utils\\data\\dataloader.py\u001b[0m in \u001b[0;36m__next__\u001b[1;34m(self)\u001b[0m\n\u001b[0;32m    519\u001b[0m             \u001b[1;32mif\u001b[0m \u001b[0mself\u001b[0m\u001b[1;33m.\u001b[0m\u001b[0m_sampler_iter\u001b[0m \u001b[1;32mis\u001b[0m \u001b[1;32mNone\u001b[0m\u001b[1;33m:\u001b[0m\u001b[1;33m\u001b[0m\u001b[0m\n\u001b[0;32m    520\u001b[0m                 \u001b[0mself\u001b[0m\u001b[1;33m.\u001b[0m\u001b[0m_reset\u001b[0m\u001b[1;33m(\u001b[0m\u001b[1;33m)\u001b[0m\u001b[1;33m\u001b[0m\u001b[0m\n\u001b[1;32m--> 521\u001b[1;33m             \u001b[0mdata\u001b[0m \u001b[1;33m=\u001b[0m \u001b[0mself\u001b[0m\u001b[1;33m.\u001b[0m\u001b[0m_next_data\u001b[0m\u001b[1;33m(\u001b[0m\u001b[1;33m)\u001b[0m\u001b[1;33m\u001b[0m\u001b[0m\n\u001b[0m\u001b[0;32m    522\u001b[0m             \u001b[0mself\u001b[0m\u001b[1;33m.\u001b[0m\u001b[0m_num_yielded\u001b[0m \u001b[1;33m+=\u001b[0m \u001b[1;36m1\u001b[0m\u001b[1;33m\u001b[0m\u001b[0m\n\u001b[0;32m    523\u001b[0m             \u001b[1;32mif\u001b[0m \u001b[0mself\u001b[0m\u001b[1;33m.\u001b[0m\u001b[0m_dataset_kind\u001b[0m \u001b[1;33m==\u001b[0m \u001b[0m_DatasetKind\u001b[0m\u001b[1;33m.\u001b[0m\u001b[0mIterable\u001b[0m \u001b[1;32mand\u001b[0m\u001b[0;31m \u001b[0m\u001b[0;31m\\\u001b[0m\u001b[1;33m\u001b[0m\u001b[0m\n",
      "\u001b[1;32mC:\\Users\\Eden_\\AppData\\Local\\Programs\\Python\\Python37\\lib\\site-packages\\torch\\utils\\data\\dataloader.py\u001b[0m in \u001b[0;36m_next_data\u001b[1;34m(self)\u001b[0m\n\u001b[0;32m    559\u001b[0m     \u001b[1;32mdef\u001b[0m \u001b[0m_next_data\u001b[0m\u001b[1;33m(\u001b[0m\u001b[0mself\u001b[0m\u001b[1;33m)\u001b[0m\u001b[1;33m:\u001b[0m\u001b[1;33m\u001b[0m\u001b[0m\n\u001b[0;32m    560\u001b[0m         \u001b[0mindex\u001b[0m \u001b[1;33m=\u001b[0m \u001b[0mself\u001b[0m\u001b[1;33m.\u001b[0m\u001b[0m_next_index\u001b[0m\u001b[1;33m(\u001b[0m\u001b[1;33m)\u001b[0m  \u001b[1;31m# may raise StopIteration\u001b[0m\u001b[1;33m\u001b[0m\u001b[0m\n\u001b[1;32m--> 561\u001b[1;33m         \u001b[0mdata\u001b[0m \u001b[1;33m=\u001b[0m \u001b[0mself\u001b[0m\u001b[1;33m.\u001b[0m\u001b[0m_dataset_fetcher\u001b[0m\u001b[1;33m.\u001b[0m\u001b[0mfetch\u001b[0m\u001b[1;33m(\u001b[0m\u001b[0mindex\u001b[0m\u001b[1;33m)\u001b[0m  \u001b[1;31m# may raise StopIteration\u001b[0m\u001b[1;33m\u001b[0m\u001b[0m\n\u001b[0m\u001b[0;32m    562\u001b[0m         \u001b[1;32mif\u001b[0m \u001b[0mself\u001b[0m\u001b[1;33m.\u001b[0m\u001b[0m_pin_memory\u001b[0m\u001b[1;33m:\u001b[0m\u001b[1;33m\u001b[0m\u001b[0m\n\u001b[0;32m    563\u001b[0m             \u001b[0mdata\u001b[0m \u001b[1;33m=\u001b[0m \u001b[0m_utils\u001b[0m\u001b[1;33m.\u001b[0m\u001b[0mpin_memory\u001b[0m\u001b[1;33m.\u001b[0m\u001b[0mpin_memory\u001b[0m\u001b[1;33m(\u001b[0m\u001b[0mdata\u001b[0m\u001b[1;33m)\u001b[0m\u001b[1;33m\u001b[0m\u001b[0m\n",
      "\u001b[1;32mC:\\Users\\Eden_\\AppData\\Local\\Programs\\Python\\Python37\\lib\\site-packages\\torch\\utils\\data\\_utils\\fetch.py\u001b[0m in \u001b[0;36mfetch\u001b[1;34m(self, possibly_batched_index)\u001b[0m\n\u001b[0;32m     47\u001b[0m     \u001b[1;32mdef\u001b[0m \u001b[0mfetch\u001b[0m\u001b[1;33m(\u001b[0m\u001b[0mself\u001b[0m\u001b[1;33m,\u001b[0m \u001b[0mpossibly_batched_index\u001b[0m\u001b[1;33m)\u001b[0m\u001b[1;33m:\u001b[0m\u001b[1;33m\u001b[0m\u001b[0m\n\u001b[0;32m     48\u001b[0m         \u001b[1;32mif\u001b[0m \u001b[0mself\u001b[0m\u001b[1;33m.\u001b[0m\u001b[0mauto_collation\u001b[0m\u001b[1;33m:\u001b[0m\u001b[1;33m\u001b[0m\u001b[0m\n\u001b[1;32m---> 49\u001b[1;33m             \u001b[0mdata\u001b[0m \u001b[1;33m=\u001b[0m \u001b[1;33m[\u001b[0m\u001b[0mself\u001b[0m\u001b[1;33m.\u001b[0m\u001b[0mdataset\u001b[0m\u001b[1;33m[\u001b[0m\u001b[0midx\u001b[0m\u001b[1;33m]\u001b[0m \u001b[1;32mfor\u001b[0m \u001b[0midx\u001b[0m \u001b[1;32min\u001b[0m \u001b[0mpossibly_batched_index\u001b[0m\u001b[1;33m]\u001b[0m\u001b[1;33m\u001b[0m\u001b[0m\n\u001b[0m\u001b[0;32m     50\u001b[0m         \u001b[1;32melse\u001b[0m\u001b[1;33m:\u001b[0m\u001b[1;33m\u001b[0m\u001b[0m\n\u001b[0;32m     51\u001b[0m             \u001b[0mdata\u001b[0m \u001b[1;33m=\u001b[0m \u001b[0mself\u001b[0m\u001b[1;33m.\u001b[0m\u001b[0mdataset\u001b[0m\u001b[1;33m[\u001b[0m\u001b[0mpossibly_batched_index\u001b[0m\u001b[1;33m]\u001b[0m\u001b[1;33m\u001b[0m\u001b[0m\n",
      "\u001b[1;32mC:\\Users\\Eden_\\AppData\\Local\\Programs\\Python\\Python37\\lib\\site-packages\\torch\\utils\\data\\_utils\\fetch.py\u001b[0m in \u001b[0;36m<listcomp>\u001b[1;34m(.0)\u001b[0m\n\u001b[0;32m     47\u001b[0m     \u001b[1;32mdef\u001b[0m \u001b[0mfetch\u001b[0m\u001b[1;33m(\u001b[0m\u001b[0mself\u001b[0m\u001b[1;33m,\u001b[0m \u001b[0mpossibly_batched_index\u001b[0m\u001b[1;33m)\u001b[0m\u001b[1;33m:\u001b[0m\u001b[1;33m\u001b[0m\u001b[0m\n\u001b[0;32m     48\u001b[0m         \u001b[1;32mif\u001b[0m \u001b[0mself\u001b[0m\u001b[1;33m.\u001b[0m\u001b[0mauto_collation\u001b[0m\u001b[1;33m:\u001b[0m\u001b[1;33m\u001b[0m\u001b[0m\n\u001b[1;32m---> 49\u001b[1;33m             \u001b[0mdata\u001b[0m \u001b[1;33m=\u001b[0m \u001b[1;33m[\u001b[0m\u001b[0mself\u001b[0m\u001b[1;33m.\u001b[0m\u001b[0mdataset\u001b[0m\u001b[1;33m[\u001b[0m\u001b[0midx\u001b[0m\u001b[1;33m]\u001b[0m \u001b[1;32mfor\u001b[0m \u001b[0midx\u001b[0m \u001b[1;32min\u001b[0m \u001b[0mpossibly_batched_index\u001b[0m\u001b[1;33m]\u001b[0m\u001b[1;33m\u001b[0m\u001b[0m\n\u001b[0m\u001b[0;32m     50\u001b[0m         \u001b[1;32melse\u001b[0m\u001b[1;33m:\u001b[0m\u001b[1;33m\u001b[0m\u001b[0m\n\u001b[0;32m     51\u001b[0m             \u001b[0mdata\u001b[0m \u001b[1;33m=\u001b[0m \u001b[0mself\u001b[0m\u001b[1;33m.\u001b[0m\u001b[0mdataset\u001b[0m\u001b[1;33m[\u001b[0m\u001b[0mpossibly_batched_index\u001b[0m\u001b[1;33m]\u001b[0m\u001b[1;33m\u001b[0m\u001b[0m\n",
      "\u001b[1;32m<ipython-input-7-878f1addda17>\u001b[0m in \u001b[0;36m__getitem__\u001b[1;34m(self, index)\u001b[0m\n\u001b[0;32m      8\u001b[0m     \u001b[1;32mdef\u001b[0m \u001b[0m__getitem__\u001b[0m\u001b[1;33m(\u001b[0m\u001b[0mself\u001b[0m\u001b[1;33m,\u001b[0m \u001b[0mindex\u001b[0m\u001b[1;33m)\u001b[0m\u001b[1;33m:\u001b[0m\u001b[1;33m\u001b[0m\u001b[0m\n\u001b[0;32m      9\u001b[0m         \u001b[0mimage\u001b[0m \u001b[1;33m=\u001b[0m \u001b[0mself\u001b[0m\u001b[1;33m.\u001b[0m\u001b[0mimages\u001b[0m\u001b[1;33m[\u001b[0m\u001b[0mindex\u001b[0m\u001b[1;33m]\u001b[0m\u001b[1;33m\u001b[0m\u001b[0m\n\u001b[1;32m---> 10\u001b[1;33m         \u001b[0mimage\u001b[0m \u001b[1;33m=\u001b[0m \u001b[0mImage\u001b[0m\u001b[1;33m.\u001b[0m\u001b[0mopen\u001b[0m\u001b[1;33m(\u001b[0m\u001b[0mimage\u001b[0m\u001b[1;33m)\u001b[0m\u001b[1;33m\u001b[0m\u001b[0m\n\u001b[0m\u001b[0;32m     11\u001b[0m         \u001b[1;32mif\u001b[0m \u001b[0mself\u001b[0m\u001b[1;33m.\u001b[0m\u001b[0mtransform\u001b[0m\u001b[1;33m:\u001b[0m\u001b[1;33m\u001b[0m\u001b[0m\n\u001b[0;32m     12\u001b[0m             \u001b[0mimage\u001b[0m \u001b[1;33m=\u001b[0m \u001b[0mself\u001b[0m\u001b[1;33m.\u001b[0m\u001b[0mtransform\u001b[0m\u001b[1;33m(\u001b[0m\u001b[0mimage\u001b[0m\u001b[1;33m)\u001b[0m\u001b[1;33m\u001b[0m\u001b[0m\n",
      "\u001b[1;32mC:\\Users\\Eden_\\AppData\\Local\\Programs\\Python\\Python37\\lib\\site-packages\\PIL\\Image.py\u001b[0m in \u001b[0;36mopen\u001b[1;34m(fp, mode, formats)\u001b[0m\n\u001b[0;32m   2951\u001b[0m \u001b[1;33m\u001b[0m\u001b[0m\n\u001b[0;32m   2952\u001b[0m     \u001b[1;32mif\u001b[0m \u001b[0mfilename\u001b[0m\u001b[1;33m:\u001b[0m\u001b[1;33m\u001b[0m\u001b[0m\n\u001b[1;32m-> 2953\u001b[1;33m         \u001b[0mfp\u001b[0m \u001b[1;33m=\u001b[0m \u001b[0mbuiltins\u001b[0m\u001b[1;33m.\u001b[0m\u001b[0mopen\u001b[0m\u001b[1;33m(\u001b[0m\u001b[0mfilename\u001b[0m\u001b[1;33m,\u001b[0m \u001b[1;34m\"rb\"\u001b[0m\u001b[1;33m)\u001b[0m\u001b[1;33m\u001b[0m\u001b[0m\n\u001b[0m\u001b[0;32m   2954\u001b[0m         \u001b[0mexclusive_fp\u001b[0m \u001b[1;33m=\u001b[0m \u001b[1;32mTrue\u001b[0m\u001b[1;33m\u001b[0m\u001b[0m\n\u001b[0;32m   2955\u001b[0m \u001b[1;33m\u001b[0m\u001b[0m\n",
      "\u001b[1;31mKeyboardInterrupt\u001b[0m: "
     ]
    }
   ],
   "source": [
    "if __name__ == '__main__':\n",
    "    save_path = '..//Final-Project//model_save//'\n",
    "    for epoch in range(100):\n",
    "#         epoch = epoch+1\n",
    "        train(epoch)\n",
    "        test()\n",
    "        # 2个epoch保存一次模型\n",
    "        if epoch % 2 == 1:\n",
    "            torch.save(model.state_dict(), save_path+\"Net2_drop_epoch\"+ str(epoch+1)+ '.pth')"
   ]
  },
  {
   "cell_type": "code",
   "execution_count": 31,
   "id": "directed-session",
   "metadata": {},
   "outputs": [],
   "source": [
    "# 换算为每个patch的loss\n",
    "test_loss_list_patch = [i * 64 for i in test_loss_list]\n",
    "test_loss_list = test_loss_list_patch"
   ]
  },
  {
   "cell_type": "code",
   "execution_count": 33,
   "id": "material-graphics",
   "metadata": {},
   "outputs": [
    {
     "data": {
      "text/plain": [
       "50"
      ]
     },
     "execution_count": 33,
     "metadata": {},
     "output_type": "execute_result"
    }
   ],
   "source": [
    "len(train_loss_list[:50])"
   ]
  },
  {
   "cell_type": "markdown",
   "id": "joined-reminder",
   "metadata": {},
   "source": [
    "## 保存与加载"
   ]
  },
  {
   "cell_type": "code",
   "execution_count": 34,
   "id": "embedded-buddy",
   "metadata": {},
   "outputs": [],
   "source": [
    "# 保存loss与accuracy\n",
    "train_loss_list = np.array(train_loss_list)\n",
    "test_loss_list = np.array(test_loss_list)\n",
    "train_accuracy_list = np.array(train_accuracy_list)\n",
    "test_accuracy_list = np.array(test_accuracy_list)\n",
    "np.savetxt(\"..//Final-Project//log_save//Net2_drop_train_loss_list.txt\",train_loss_list)\n",
    "np.savetxt(\"..//Final-Project//log_save//Net2_drop_test_loss_list.txt\",test_loss_list)\n",
    "np.savetxt(\"..//Final-Project//log_save//Net2_drop_train_accuracy_list.txt\",train_accuracy_list)\n",
    "np.savetxt(\"..//Final-Project//log_save//Net2_drop_test_accuracy_list.txt\",test_accuracy_list)"
   ]
  },
  {
   "cell_type": "code",
   "execution_count": 35,
   "id": "crude-usage",
   "metadata": {},
   "outputs": [],
   "source": [
    "# state_dict = torch.load(save_path+\"Net1_epoch60.pth\")\n",
    "# model.load_state_dict(state_dict)"
   ]
  },
  {
   "cell_type": "code",
   "execution_count": 2,
   "id": "brutal-arbitration",
   "metadata": {},
   "outputs": [],
   "source": [
    "train_loss_list = np.loadtxt(\"..//Final-Project//log_save//Net2_drop_train_loss_list.txt\")\n",
    "test_loss_list = np.loadtxt(\"..//Final-Project//log_save//Net2_drop_test_loss_list.txt\")\n",
    "train_accuracy_list = np.loadtxt(\"..//Final-Project//log_save//Net2_drop_train_accuracy_list.txt\")\n",
    "test_accuracy_list = np.loadtxt(\"..//Final-Project//log_save//Net2_drop_test_accuracy_list.txt\")"
   ]
  },
  {
   "cell_type": "code",
   "execution_count": 3,
   "id": "peaceful-flesh",
   "metadata": {},
   "outputs": [
    {
     "data": {
      "text/plain": [
       "63.22355289421158"
      ]
     },
     "execution_count": 3,
     "metadata": {},
     "output_type": "execute_result"
    }
   ],
   "source": [
    "test_accuracy_list.max()"
   ]
  },
  {
   "cell_type": "code",
   "execution_count": 6,
   "id": "indirect-paintball",
   "metadata": {
    "scrolled": false
   },
   "outputs": [
    {
     "data": {
      "image/png": "[encoded data removed]",
      "text/plain": [
       "<Figure size 2000x800 with 2 Axes>"
      ]
     },
     "metadata": {
      "needs_background": "light"
     },
     "output_type": "display_data"
    }
   ],
   "source": [
    "plot_loss_n(50)"
   ]
  },
  {
   "cell_type": "code",
   "execution_count": 7,
   "id": "spectacular-dream",
   "metadata": {
    "scrolled": true
   },
   "outputs": [
    {
     "data": {
      "text/plain": [
       "43"
      ]
     },
     "execution_count": 7,
     "metadata": {},
     "output_type": "execute_result"
    }
   ],
   "source": [
    "test_accuracy_list.argmax()"
   ]
  },
  {
   "cell_type": "code",
   "execution_count": 8,
   "id": "interim-federal",
   "metadata": {},
   "outputs": [
    {
     "data": {
      "text/plain": [
       "63.22355289421158"
      ]
     },
     "execution_count": 8,
     "metadata": {},
     "output_type": "execute_result"
    }
   ],
   "source": [
    "test_accuracy_list.max()"
   ]
  },
  {
   "cell_type": "code",
   "execution_count": 9,
   "id": "innovative-peripheral",
   "metadata": {},
   "outputs": [
    {
     "data": {
      "text/plain": [
       "8"
      ]
     },
     "execution_count": 9,
     "metadata": {},
     "output_type": "execute_result"
    }
   ],
   "source": [
    "test_loss_list.argmin()"
   ]
  },
  {
   "cell_type": "code",
   "execution_count": 11,
   "id": "voluntary-internship",
   "metadata": {
    "scrolled": false
   },
   "outputs": [
    {
     "name": "stdout",
     "output_type": "stream",
     "text": [
      "epoch: 0\n",
      "test_loss: 2.0238462597786535\n",
      "test_accuracy: 62.31287425149701\n",
      "epoch: 2\n",
      "test_loss: 1.2274586636268212\n",
      "test_accuracy: 49.66317365269461\n",
      "epoch: 4\n",
      "test_loss: 1.184738870568856\n",
      "test_accuracy: 50.43662674650699\n",
      "epoch: 6\n",
      "test_loss: 1.094059650836412\n",
      "test_accuracy: 54.94011976047904\n",
      "epoch: 8\n",
      "test_loss: 1.0000967233332094\n",
      "test_accuracy: 59.16916167664671\n",
      "epoch: 10\n",
      "test_loss: 1.0264709772478915\n",
      "test_accuracy: 57.909181636726544\n",
      "epoch: 12\n",
      "test_loss: 1.0126035972433294\n",
      "test_accuracy: 60.27944111776447\n",
      "epoch: 14\n",
      "test_loss: 1.0453063128274418\n",
      "test_accuracy: 59.81786427145708\n",
      "epoch: 16\n",
      "test_loss: 1.003449002396085\n",
      "test_accuracy: 62.375249500998\n",
      "epoch: 18\n",
      "test_loss: 1.117607400650363\n",
      "test_accuracy: 61.57684630738523\n",
      "epoch: 20\n",
      "test_loss: 1.2904415257375486\n",
      "test_accuracy: 60.104790419161674\n",
      "epoch: 22\n",
      "test_loss: 1.2918680758171803\n",
      "test_accuracy: 61.82634730538922\n",
      "epoch: 24\n",
      "test_loss: 1.51530092981683\n",
      "test_accuracy: 60.89071856287425\n",
      "epoch: 26\n",
      "test_loss: 1.6456624762182535\n",
      "test_accuracy: 60.85329341317365\n",
      "epoch: 28\n",
      "test_loss: 1.7027153972454532\n",
      "test_accuracy: 62.16317365269461\n",
      "epoch: 30\n",
      "test_loss: 1.979116304172017\n",
      "test_accuracy: 60.49151696606786\n",
      "epoch: 32\n",
      "test_loss: 1.8873232654728063\n",
      "test_accuracy: 61.427145708582835\n",
      "epoch: 34\n",
      "test_loss: 1.8909473609490746\n",
      "test_accuracy: 61.66417165668663\n",
      "epoch: 36\n",
      "test_loss: 2.0731326958230563\n",
      "test_accuracy: 61.24001996007984\n",
      "epoch: 38\n",
      "test_loss: 1.9896080302239068\n",
      "test_accuracy: 61.58932135728543\n"
     ]
    }
   ],
   "source": [
    "for i in range(20):\n",
    "    idx = i*2-1\n",
    "    print(\"epoch: \"+ str(idx+1))\n",
    "    print(\"test_loss: \"+str(test_loss_list[idx]))\n",
    "    print(\"test_accuracy: \"+str(test_accuracy_list[idx]))"
   ]
  },
  {
   "cell_type": "code",
   "execution_count": 14,
   "id": "confirmed-macintosh",
   "metadata": {},
   "outputs": [
    {
     "name": "stdout",
     "output_type": "stream",
     "text": [
      "1.0264709772478915\n",
      "57.909181636726544\n"
     ]
    }
   ],
   "source": [
    "# 取第10个epoch\n",
    "print(test_loss_list[9])\n",
    "print(test_accuracy_list[9])"
   ]
  },
  {
   "cell_type": "code",
   "execution_count": null,
   "id": "separated-board",
   "metadata": {},
   "outputs": [],
   "source": []
  }
 ],
 "metadata": {
  "kernelspec": {
   "display_name": "Python 3",
   "language": "python",
   "name": "python3"
  },
  "language_info": {
   "codemirror_mode": {
    "name": "ipython",
    "version": 3
   },
   "file_extension": ".py",
   "mimetype": "text/x-python",
   "name": "python",
   "nbconvert_exporter": "python",
   "pygments_lexer": "ipython3",
   "version": "3.7.0"
  },
  "toc": {
   "base_numbering": 1,
   "nav_menu": {},
   "number_sections": true,
   "sideBar": true,
   "skip_h1_title": false,
   "title_cell": "Table of Contents",
   "title_sidebar": "Contents",
   "toc_cell": false,
   "toc_position": {
    "height": "calc(100% - 180px)",
    "left": "10px",
    "top": "150px",
    "width": "165px"
   },
   "toc_section_display": true,
   "toc_window_display": true
  }
 },
 "nbformat": 4,
 "nbformat_minor": 5
}
