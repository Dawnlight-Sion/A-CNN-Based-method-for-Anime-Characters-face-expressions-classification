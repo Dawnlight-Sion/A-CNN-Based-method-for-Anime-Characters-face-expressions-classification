{
 "cells": [
  {
   "cell_type": "code",
   "execution_count": 1,
   "id": "circular-suspect",
   "metadata": {},
   "outputs": [],
   "source": [
    "import torch\n",
    "import torch.nn as nn\n",
    "import os\n",
    "from torch.utils.data import Dataset\n",
    "from torch.utils.data import DataLoader\n",
    "from torchvision import transforms\n",
    "from torchvision import datasets\n",
    "from PIL import Image\n",
    "import torch.nn.functional as F\n",
    "import torch.optim as optim\n",
    "# import i2v\n",
    "import numpy as np\n",
    "import matplotlib.pyplot as plt"
   ]
  },
  {
   "cell_type": "markdown",
   "id": "ordered-violation",
   "metadata": {},
   "source": [
    "## 构造数据集"
   ]
  },
  {
   "cell_type": "code",
   "execution_count": 2,
   "id": "novel-inflation",
   "metadata": {},
   "outputs": [],
   "source": [
    "categories = ['disgust','fear','happy','surprise','sad','angry','neutral']\n",
    "# label = 0,1,2,3,4,5,6"
   ]
  },
  {
   "cell_type": "code",
   "execution_count": 3,
   "id": "stuck-winter",
   "metadata": {},
   "outputs": [],
   "source": [
    "file_train = []\n",
    "file_test = []\n",
    "number_train = []\n",
    "number_test = []"
   ]
  },
  {
   "cell_type": "code",
   "execution_count": 4,
   "id": "tender-scientist",
   "metadata": {},
   "outputs": [],
   "source": [
    "# categories.index('neutral')\n",
    "# number_train.append(1)\n",
    "# number_train"
   ]
  },
  {
   "cell_type": "code",
   "execution_count": 5,
   "id": "terminal-blend",
   "metadata": {},
   "outputs": [],
   "source": [
    "# category = 'neutral'\n",
    "for category in categories:\n",
    "    label = categories.index(category)\n",
    "    for root,dirs,files in os.walk(\"..//detect_faces//\"+str(category)): \n",
    "        for file in files:\n",
    "            file_type = file.split('_')[1]\n",
    "    #         print(file_type)\n",
    "            # train_data\n",
    "            if file_type == 'train':\n",
    "                file_train.append(os.path.join(root,file))\n",
    "                number_train.append(label)\n",
    "            else:\n",
    "                file_test.append(os.path.join(root,file))\n",
    "                number_test.append(label)"
   ]
  },
  {
   "cell_type": "code",
   "execution_count": 6,
   "id": "stainless-radius",
   "metadata": {},
   "outputs": [
    {
     "name": "stdout",
     "output_type": "stream",
     "text": [
      "trainset_size: 32080\n",
      "testset_size: 8016\n"
     ]
    }
   ],
   "source": [
    "print(\"trainset_size: \"+ str(len(file_train)))\n",
    "print(\"testset_size: \"+ str(len(file_test)))"
   ]
  },
  {
   "cell_type": "code",
   "execution_count": 7,
   "id": "regulation-toner",
   "metadata": {},
   "outputs": [],
   "source": [
    "class testset(Dataset):\n",
    "    def __init__(self, transform=None):\n",
    "        #定义好 image 的路径\n",
    "        self.images = file_test\n",
    "        self.target = number_test\n",
    "        self.transform = transform\n",
    "\n",
    "    def __getitem__(self, index):\n",
    "        image = self.images[index]\n",
    "        image = Image.open(image)\n",
    "        if self.transform:\n",
    "            image = self.transform(image)\n",
    "        target = self.target[index]\n",
    "        return image,target\n",
    "\n",
    "    def __len__(self):\n",
    "        return len(self.images)"
   ]
  },
  {
   "cell_type": "code",
   "execution_count": 8,
   "id": "loving-sacramento",
   "metadata": {},
   "outputs": [],
   "source": [
    "class trainset(Dataset):\n",
    "    def __init__(self, transform=None):\n",
    "        #定义好 image 的路径\n",
    "        self.images = file_train\n",
    "        self.target = number_train\n",
    "        self.transform = transform\n",
    "\n",
    "    def __getitem__(self, index):\n",
    "        image = self.images[index]\n",
    "        image = Image.open(image)\n",
    "        if self.transform:\n",
    "            image = self.transform(image)\n",
    "        target = self.target[index]\n",
    "        return image,target\n",
    "\n",
    "    def __len__(self):\n",
    "        return len(self.images)"
   ]
  },
  {
   "cell_type": "code",
   "execution_count": 9,
   "id": "welcome-rogers",
   "metadata": {},
   "outputs": [],
   "source": [
    "# 应用了torchvision.transforms.ToTensor，其作用是将数据归一化到[0,1]（是将数据除以255）\n",
    "# [0.485, 0.456, 0.406]这一组平均值是从imagenet训练集中抽样算出来的。\n",
    "# 数据如果分布在(0,1)之间，可能实际的bias，就是神经网络的输入b会比较大，\n",
    "# 而模型初始化时b=0的，这样会导致神经网络收敛比较慢，经过Normalize后，可以加快模型的收敛速度。\n",
    "normalize = transforms.Normalize(\n",
    "    mean=[0.485, 0.456, 0.406],\n",
    "    std=[0.229, 0.224, 0.225]\n",
    ")\n",
    "transform = transforms.Compose([\n",
    "    transforms.ToTensor(),\n",
    "    normalize\n",
    "])"
   ]
  },
  {
   "cell_type": "code",
   "execution_count": 10,
   "id": "incident-private",
   "metadata": {
    "scrolled": true
   },
   "outputs": [],
   "source": [
    "train_dataset = trainset(transform=transform)\n",
    "train_loader = DataLoader(train_dataset, batch_size=64,shuffle=True)\n",
    "test_dataset = testset(transform=transform)\n",
    "test_loader = DataLoader(test_dataset, batch_size=64,shuffle=False)"
   ]
  },
  {
   "cell_type": "code",
   "execution_count": null,
   "id": "expressed-market",
   "metadata": {},
   "outputs": [],
   "source": []
  },
  {
   "cell_type": "markdown",
   "id": "metallic-knowing",
   "metadata": {},
   "source": [
    "## 模型搭建"
   ]
  },
  {
   "cell_type": "code",
   "execution_count": 11,
   "id": "round-hamilton",
   "metadata": {},
   "outputs": [],
   "source": [
    "# class Net1(torch.nn.Module):\n",
    "#     def __init__(self):\n",
    "#         super(Net1,self).__init__()\n",
    "#         self.conv1 = torch.nn.Conv2d(3,64,kernel_size=3,padding=1)\n",
    "#         self.conv2 = torch.nn.Conv2d(64,128,kernel_size=3,padding=1)\n",
    "#         self.conv3 = torch.nn.Conv2d(128,256,kernel_size=3,padding=1)\n",
    "#         self.pooling1 = torch.nn.MaxPool2d(2)\n",
    "#         self.pooling2 = torch.nn.MaxPool2d(4)\n",
    "#         self.fc1 = torch.nn.Linear(4096,4096)\n",
    "#         self.fc2 = torch.nn.Linear(4096,4096)\n",
    "#         self.fc3 = torch.nn.Linear(4096,7)\n",
    "    \n",
    "#     def forward(self,x):\n",
    "#         batch_size = x.size(0)\n",
    "#         x = self.pooling1(F.relu(self.conv1(x)))\n",
    "#         x = self.pooling2(F.relu(self.conv2(x)))\n",
    "#         x = self.pooling2(F.relu(self.conv3(x)))\n",
    "#         # flatten\n",
    "#         x = x.view(batch_size, -1)\n",
    "#         x = F.relu(self.fc1(x))\n",
    "#         x = F.relu(self.fc2(x))\n",
    "#         x = self.fc3(x)\n",
    "#         return x"
   ]
  },
  {
   "cell_type": "code",
   "execution_count": 12,
   "id": "prime-casino",
   "metadata": {},
   "outputs": [],
   "source": [
    "# class Net2(torch.nn.Module):\n",
    "#     def __init__(self):\n",
    "#         super(Net2,self).__init__()\n",
    "#         self.conv1 = torch.nn.Conv2d(3,64,kernel_size=3,padding=1)\n",
    "#         self.conv2 = torch.nn.Conv2d(64,128,kernel_size=3,padding=1)\n",
    "#         self.conv3 = torch.nn.Conv2d(128,256,kernel_size=3,padding=1)\n",
    "#         self.conv4 = torch.nn.Conv2d(256,256,kernel_size=3,padding=1)\n",
    "#         self.pooling1 = torch.nn.MaxPool2d(2)\n",
    "#         self.pooling2 = torch.nn.MaxPool2d(4)\n",
    "#         self.fc1 = torch.nn.Linear(4096,4096)\n",
    "#         self.fc2 = torch.nn.Linear(4096,4096)\n",
    "#         self.fc3 = torch.nn.Linear(4096,7)\n",
    "    \n",
    "#     def forward(self,x):\n",
    "#         batch_size = x.size(0)\n",
    "#         x = self.pooling1(F.relu(self.conv1(x)))\n",
    "#         x = self.pooling2(F.relu(self.conv2(x)))\n",
    "#         x = F.relu(self.conv3(x))\n",
    "#         x = F.relu(self.conv4(x))\n",
    "#         x = self.pooling2(x)\n",
    "#         # flatten\n",
    "#         x = x.view(batch_size, -1)\n",
    "#         x = F.relu(self.fc1(x))\n",
    "#         x = F.relu(self.fc2(x))\n",
    "#         x = self.fc3(x)\n",
    "#         return x"
   ]
  },
  {
   "cell_type": "code",
   "execution_count": 13,
   "id": "soviet-communist",
   "metadata": {},
   "outputs": [],
   "source": [
    "# class Net3(torch.nn.Module):\n",
    "#     def __init__(self):\n",
    "#         super(Net3,self).__init__()\n",
    "#         self.conv1 = torch.nn.Conv2d(3,64,kernel_size=3,padding=1)\n",
    "#         self.conv2 = torch.nn.Conv2d(64,128,kernel_size=3,padding=1)\n",
    "#         self.conv3 = torch.nn.Conv2d(128,128,kernel_size=3,padding=1)\n",
    "#         self.conv4 = torch.nn.Conv2d(128,256,kernel_size=3,padding=1)\n",
    "#         self.conv5 = torch.nn.Conv2d(256,256,kernel_size=3,padding=1)\n",
    "#         self.pooling1 = torch.nn.MaxPool2d(2)\n",
    "#         self.pooling2 = torch.nn.MaxPool2d(4)\n",
    "#         self.fc1 = torch.nn.Linear(4096,4096)\n",
    "#         self.fc2 = torch.nn.Linear(4096,4096)\n",
    "#         self.fc3 = torch.nn.Linear(4096,7)\n",
    "    \n",
    "#     def forward(self,x):\n",
    "#         batch_size = x.size(0)\n",
    "#         x = self.pooling1(F.relu(self.conv1(x)))\n",
    "#         x = F.relu(self.conv2(x))\n",
    "#         x = F.relu(self.conv3(x))\n",
    "#         x = self.pooling2(x)\n",
    "#         x = F.relu(self.conv4(x))\n",
    "#         x = F.relu(self.conv5(x))\n",
    "#         x = self.pooling2(x)\n",
    "#         # flatten\n",
    "#         x = x.view(batch_size, -1)\n",
    "#         x = F.relu(self.fc1(x))\n",
    "#         x = F.relu(self.fc2(x))\n",
    "#         x = self.fc3(x)\n",
    "#         return x"
   ]
  },
  {
   "cell_type": "code",
   "execution_count": 14,
   "id": "composite-framing",
   "metadata": {},
   "outputs": [],
   "source": [
    "# Ensemble模型\n",
    "class Net1_mix(torch.nn.Module):\n",
    "    def __init__(self):\n",
    "        super(Net1_mix,self).__init__()\n",
    "        self.conv1 = torch.nn.Conv2d(3,64,kernel_size=3,padding=1)\n",
    "        self.conv2 = torch.nn.Conv2d(64,128,kernel_size=3,padding=1)\n",
    "        self.conv3 = torch.nn.Conv2d(128,256,kernel_size=3,padding=1)\n",
    "        self.pooling1 = torch.nn.MaxPool2d(2)\n",
    "        self.pooling2 = torch.nn.MaxPool2d(4)\n",
    "        self.dropout = torch.nn.Dropout(0.5)\n",
    "        self.fc1 = torch.nn.Linear(4096,4096)\n",
    "        self.fc2 = torch.nn.Linear(4096,4096)\n",
    "    \n",
    "    def forward(self,x):\n",
    "        batch_size = x.size(0)\n",
    "        x = self.pooling1(F.relu(self.conv1(x)))\n",
    "        x = self.pooling2(F.relu(self.conv2(x)))\n",
    "        x = self.pooling2(F.relu(self.conv3(x)))\n",
    "        # flatten\n",
    "        x = x.view(batch_size, -1)\n",
    "        x = self.fc1(x)\n",
    "        x = self.dropout(x)\n",
    "        x = F.relu(x)\n",
    "        \n",
    "        x = self.fc2(x)\n",
    "        x = self.dropout(x)\n",
    "        x = F.relu(x)\n",
    "        return x\n",
    "class Net2_mix(torch.nn.Module):\n",
    "    def __init__(self):\n",
    "        super(Net2_mix,self).__init__()\n",
    "        self.conv1 = torch.nn.Conv2d(3,64,kernel_size=3,padding=1)\n",
    "        self.conv2 = torch.nn.Conv2d(64,128,kernel_size=3,padding=1)\n",
    "        self.conv3 = torch.nn.Conv2d(128,256,kernel_size=3,padding=1)\n",
    "        self.conv4 = torch.nn.Conv2d(256,256,kernel_size=3,padding=1)\n",
    "        self.pooling1 = torch.nn.MaxPool2d(2)\n",
    "        self.pooling2 = torch.nn.MaxPool2d(4)\n",
    "        self.dropout = torch.nn.Dropout(0.5)\n",
    "        self.fc1 = torch.nn.Linear(4096,4096)\n",
    "        self.fc2 = torch.nn.Linear(4096,4096)\n",
    "    \n",
    "    def forward(self,x):\n",
    "        batch_size = x.size(0)\n",
    "        x = self.pooling1(F.relu(self.conv1(x)))\n",
    "        x = self.pooling2(F.relu(self.conv2(x)))\n",
    "        x = F.relu(self.conv3(x))\n",
    "        x = F.relu(self.conv4(x))\n",
    "        x = self.pooling2(x)\n",
    "        # flatten\n",
    "        x = x.view(batch_size, -1)\n",
    "        x = self.fc1(x)\n",
    "        x = self.dropout(x)\n",
    "        x = F.relu(x)\n",
    "        \n",
    "        x = self.fc2(x)\n",
    "        x = self.dropout(x)\n",
    "        x = F.relu(x)\n",
    "        return x\n",
    "class Net3_mix(torch.nn.Module):\n",
    "    def __init__(self):\n",
    "        super(Net3_mix,self).__init__()\n",
    "        self.conv1 = torch.nn.Conv2d(3,64,kernel_size=3,padding=1)\n",
    "        self.conv2 = torch.nn.Conv2d(64,128,kernel_size=3,padding=1)\n",
    "        self.conv3 = torch.nn.Conv2d(128,128,kernel_size=3,padding=1)\n",
    "        self.conv4 = torch.nn.Conv2d(128,256,kernel_size=3,padding=1)\n",
    "        self.conv5 = torch.nn.Conv2d(256,256,kernel_size=3,padding=1)\n",
    "        self.pooling1 = torch.nn.MaxPool2d(2)\n",
    "        self.pooling2 = torch.nn.MaxPool2d(4)\n",
    "        self.dropout = torch.nn.Dropout(0.5)\n",
    "        self.fc1 = torch.nn.Linear(4096,4096)\n",
    "        self.fc2 = torch.nn.Linear(4096,4096)\n",
    "    \n",
    "    def forward(self,x):\n",
    "        batch_size = x.size(0)\n",
    "        x = self.pooling1(F.relu(self.conv1(x)))\n",
    "        x = F.relu(self.conv2(x))\n",
    "        x = F.relu(self.conv3(x))\n",
    "        x = self.pooling2(x)\n",
    "        x = F.relu(self.conv4(x))\n",
    "        x = F.relu(self.conv5(x))\n",
    "        x = self.pooling2(x)\n",
    "        # flatten\n",
    "        x = x.view(batch_size, -1)\n",
    "        x = self.fc1(x)\n",
    "        x = self.dropout(x)\n",
    "        x = F.relu(x)\n",
    "        \n",
    "        x = self.fc2(x)\n",
    "        x = self.dropout(x)\n",
    "        x = F.relu(x)\n",
    "        return x\n",
    "# 声明网络\n",
    "model_net1 = Net1_mix()\n",
    "model_net2 = Net2_mix()\n",
    "model_net3 = Net3_mix()\n",
    "# 导入参数\n",
    "save_path = '..//Final-Project//model_save//'\n",
    "state_dict1 = torch.load(save_path+\"Net1_drop_epoch10.pth\")\n",
    "state_dict2 = torch.load(save_path+\"Net2_drop_epoch10.pth\")\n",
    "state_dict3 = torch.load(save_path+\"Net3_drop_epoch10.pth\")\n",
    "\n",
    "keys = []\n",
    "for k,v in state_dict1.items():\n",
    "  #将‘fc3’开头的key过滤掉，这里是要去除的层的key\n",
    "    if k.startswith('fc3'):  \n",
    "        continue\n",
    "    keys.append(k)\n",
    "\n",
    "# 去除指定层后的模型\n",
    "state_dict1 = {k:state_dict1[k] for k in keys}\n",
    "\n",
    "keys = []\n",
    "for k,v in state_dict2.items():\n",
    "  #将‘fc3’开头的key过滤掉，这里是要去除的层的key\n",
    "    if k.startswith('fc3'):  \n",
    "        continue\n",
    "    keys.append(k)\n",
    "# 去除指定层后的模型\n",
    "state_dict2 = {k:state_dict2[k] for k in keys}\n",
    "\n",
    "keys = []\n",
    "for k,v in state_dict3.items():\n",
    "  #将‘fc3’开头的key过滤掉，这里是要去除的层的key\n",
    "    if k.startswith('fc3'):  \n",
    "        continue\n",
    "    keys.append(k)\n",
    "\n",
    "# 去除指定层后的模型\n",
    "state_dict3 = {k:state_dict3[k] for k in keys}\n",
    "\n",
    "#自己定义的模型，但要保证前面保存的层和自定义的模型中的层一致\n",
    "model_net1.load_state_dict(state_dict1)\n",
    "model_net2.load_state_dict(state_dict2)\n",
    "model_net3.load_state_dict(state_dict3)\n",
    "\n",
    "class NetMix(torch.nn.Module):\n",
    "    def __init__(self):\n",
    "        super(NetMix,self).__init__()\n",
    "        self.net1 = model_net1\n",
    "        self.net2 = model_net2\n",
    "        self.net3 = model_net3\n",
    "        for p in self.parameters():\n",
    "            p.requires_grad = False #预训练模型加载进来后全部设置为不更新参数，然后再后面加层\n",
    "        self.fc = torch.nn.Linear(4096*3,7)\n",
    "    \n",
    "    def forward(self,x):\n",
    "        batch_size = x.size(0)\n",
    "        x1 = self.net1(x)\n",
    "        x2 = self.net2(x)\n",
    "        x3 = self.net3(x)\n",
    "        # 拼接输入\n",
    "        x = torch.cat((x1,x2,x3),dim = 1)\n",
    "        # 输出\n",
    "        x = self.fc(x)\n",
    "        return x"
   ]
  },
  {
   "cell_type": "markdown",
   "id": "raised-assault",
   "metadata": {},
   "source": [
    "## 模型配置"
   ]
  },
  {
   "cell_type": "markdown",
   "id": "removed-citizenship",
   "metadata": {},
   "source": [
    "### Net1配置"
   ]
  },
  {
   "cell_type": "code",
   "execution_count": 15,
   "id": "needed-volleyball",
   "metadata": {},
   "outputs": [],
   "source": [
    "# model = Net1()"
   ]
  },
  {
   "cell_type": "markdown",
   "id": "measured-legislature",
   "metadata": {},
   "source": [
    "### Net2配置"
   ]
  },
  {
   "cell_type": "code",
   "execution_count": 16,
   "id": "outer-translation",
   "metadata": {},
   "outputs": [],
   "source": [
    "# model = Net2()"
   ]
  },
  {
   "cell_type": "markdown",
   "id": "arctic-market",
   "metadata": {},
   "source": [
    "### Net3配置"
   ]
  },
  {
   "cell_type": "code",
   "execution_count": 17,
   "id": "indonesian-treasure",
   "metadata": {},
   "outputs": [],
   "source": [
    "# model = Net3()"
   ]
  },
  {
   "cell_type": "markdown",
   "id": "developed-nepal",
   "metadata": {},
   "source": [
    "### Net1+2+3配置"
   ]
  },
  {
   "cell_type": "code",
   "execution_count": 18,
   "id": "amber-beast",
   "metadata": {},
   "outputs": [],
   "source": [
    "model = NetMix()"
   ]
  },
  {
   "cell_type": "markdown",
   "id": "universal-assumption",
   "metadata": {},
   "source": [
    "### 共同配置"
   ]
  },
  {
   "cell_type": "code",
   "execution_count": 19,
   "id": "twenty-lightning",
   "metadata": {},
   "outputs": [],
   "source": [
    "device = torch.device(\"cuda:0\" if torch.cuda.is_available() else \"cpu\")"
   ]
  },
  {
   "cell_type": "code",
   "execution_count": 20,
   "id": "closing-weekly",
   "metadata": {},
   "outputs": [
    {
     "data": {
      "text/plain": [
       "device(type='cuda', index=0)"
      ]
     },
     "execution_count": 20,
     "metadata": {},
     "output_type": "execute_result"
    }
   ],
   "source": [
    "device"
   ]
  },
  {
   "cell_type": "code",
   "execution_count": 21,
   "id": "chronic-crisis",
   "metadata": {},
   "outputs": [
    {
     "data": {
      "text/plain": [
       "NetMix(\n",
       "  (net1): Net1_mix(\n",
       "    (conv1): Conv2d(3, 64, kernel_size=(3, 3), stride=(1, 1), padding=(1, 1))\n",
       "    (conv2): Conv2d(64, 128, kernel_size=(3, 3), stride=(1, 1), padding=(1, 1))\n",
       "    (conv3): Conv2d(128, 256, kernel_size=(3, 3), stride=(1, 1), padding=(1, 1))\n",
       "    (pooling1): MaxPool2d(kernel_size=2, stride=2, padding=0, dilation=1, ceil_mode=False)\n",
       "    (pooling2): MaxPool2d(kernel_size=4, stride=4, padding=0, dilation=1, ceil_mode=False)\n",
       "    (dropout): Dropout(p=0.5, inplace=False)\n",
       "    (fc1): Linear(in_features=4096, out_features=4096, bias=True)\n",
       "    (fc2): Linear(in_features=4096, out_features=4096, bias=True)\n",
       "  )\n",
       "  (net2): Net2_mix(\n",
       "    (conv1): Conv2d(3, 64, kernel_size=(3, 3), stride=(1, 1), padding=(1, 1))\n",
       "    (conv2): Conv2d(64, 128, kernel_size=(3, 3), stride=(1, 1), padding=(1, 1))\n",
       "    (conv3): Conv2d(128, 256, kernel_size=(3, 3), stride=(1, 1), padding=(1, 1))\n",
       "    (conv4): Conv2d(256, 256, kernel_size=(3, 3), stride=(1, 1), padding=(1, 1))\n",
       "    (pooling1): MaxPool2d(kernel_size=2, stride=2, padding=0, dilation=1, ceil_mode=False)\n",
       "    (pooling2): MaxPool2d(kernel_size=4, stride=4, padding=0, dilation=1, ceil_mode=False)\n",
       "    (dropout): Dropout(p=0.5, inplace=False)\n",
       "    (fc1): Linear(in_features=4096, out_features=4096, bias=True)\n",
       "    (fc2): Linear(in_features=4096, out_features=4096, bias=True)\n",
       "  )\n",
       "  (net3): Net3_mix(\n",
       "    (conv1): Conv2d(3, 64, kernel_size=(3, 3), stride=(1, 1), padding=(1, 1))\n",
       "    (conv2): Conv2d(64, 128, kernel_size=(3, 3), stride=(1, 1), padding=(1, 1))\n",
       "    (conv3): Conv2d(128, 128, kernel_size=(3, 3), stride=(1, 1), padding=(1, 1))\n",
       "    (conv4): Conv2d(128, 256, kernel_size=(3, 3), stride=(1, 1), padding=(1, 1))\n",
       "    (conv5): Conv2d(256, 256, kernel_size=(3, 3), stride=(1, 1), padding=(1, 1))\n",
       "    (pooling1): MaxPool2d(kernel_size=2, stride=2, padding=0, dilation=1, ceil_mode=False)\n",
       "    (pooling2): MaxPool2d(kernel_size=4, stride=4, padding=0, dilation=1, ceil_mode=False)\n",
       "    (dropout): Dropout(p=0.5, inplace=False)\n",
       "    (fc1): Linear(in_features=4096, out_features=4096, bias=True)\n",
       "    (fc2): Linear(in_features=4096, out_features=4096, bias=True)\n",
       "  )\n",
       "  (fc): Linear(in_features=12288, out_features=7, bias=True)\n",
       ")"
      ]
     },
     "execution_count": 21,
     "metadata": {},
     "output_type": "execute_result"
    }
   ],
   "source": [
    "model.to(device)"
   ]
  },
  {
   "cell_type": "code",
   "execution_count": 22,
   "id": "tested-class",
   "metadata": {},
   "outputs": [],
   "source": [
    "# 损失、优化函数定义\n",
    "criterion = torch.nn.CrossEntropyLoss()\n",
    "criterion = criterion.to(device)\n",
    "\n",
    "# 带冲量的优化，冲量为0.5\n",
    "optimizer = optim.SGD(model.parameters(), lr=0.01, momentum=0.5)"
   ]
  },
  {
   "cell_type": "code",
   "execution_count": 23,
   "id": "sixth-experiment",
   "metadata": {},
   "outputs": [],
   "source": [
    "# result = []\n",
    "# one_hot = [0,0,0,0,0,0,0]\n",
    "# one_hot[1] = 1\n",
    "# result.append(one_hot)\n",
    "# result.append(one_hot)\n",
    "# torch.Tensor(result)"
   ]
  },
  {
   "cell_type": "code",
   "execution_count": 25,
   "id": "pending-tactics",
   "metadata": {},
   "outputs": [],
   "source": [
    "def get_one_hot(labels):\n",
    "    result = []\n",
    "    # batch_size=64\n",
    "    size = len(labels)\n",
    "    for i in range(size):\n",
    "        one_hot = [0,0,0,0,0,0,0]\n",
    "        one_hot[labels[i]] = 1\n",
    "        result.append(one_hot)\n",
    "    return torch.Tensor(result)"
   ]
  },
  {
   "cell_type": "code",
   "execution_count": 26,
   "id": "restricted-container",
   "metadata": {},
   "outputs": [],
   "source": [
    "def train(epoch):\n",
    "    running_loss = 0.0\n",
    "    total = 0\n",
    "    correct = 0\n",
    "    for batch_idx,data in enumerate(train_loader,0):\n",
    "         # 开启训练阶段\n",
    "        model.train()\n",
    "        inputs, target = data\n",
    "        # 转换为one-hot向量\n",
    "        target_one_hot = get_one_hot(target)\n",
    "        # 将用来计算的张量迁移到GPU\n",
    "        inputs, target_one_hot = inputs.to(device), target_one_hot.to(device)\n",
    "        \n",
    "        # 初始化优化器\n",
    "        optimizer.zero_grad()\n",
    "        \n",
    "        # forward+backward+update\n",
    "        outputs = model(inputs)\n",
    "        \n",
    "        with torch.no_grad():\n",
    "            # 开启测试阶段\n",
    "            model.eval()\n",
    "            target = target.to(device)\n",
    "            # 沿着第一个维度取最大值的下标，返回最大值、最大值下标\n",
    "            _, predicted = torch.max(outputs.data, dim=1)\n",
    "            total += target.size(0)\n",
    "            # 计算训练集准确率\n",
    "            correct += (predicted == target).sum().item()\n",
    "        # 开启训练阶段\n",
    "        model.train()\n",
    "        loss = criterion(outputs, target_one_hot)\n",
    "        # 将用来计算的张量迁移到GPU\n",
    "        loss = loss.to(device)\n",
    "        \n",
    "        loss.backward()\n",
    "        optimizer.step()\n",
    "        \n",
    "        running_loss += loss.item()\n",
    "        if batch_idx % 500 == 499:\n",
    "            # 以500个patch的平均loss作为此epoch的loss\n",
    "            train_loss_list.append(running_loss / 500)\n",
    "            print('[%d, %5d] loss: %.3f' % (epoch + 1,batch_idx + 1, running_loss / 500))\n",
    "            running_loss = 0.0\n",
    "            # 以500个patch的平均accuracy作为此epoch的accuracy\n",
    "            train_accuracy_list.append(100 * correct/total)\n",
    "            print('Accuracy on train set: %d %% [%d/%d]' % (100 * correct/total,correct,total))\n",
    "            correct = 0\n",
    "            total = 0"
   ]
  },
  {
   "cell_type": "code",
   "execution_count": 27,
   "id": "modern-inventory",
   "metadata": {},
   "outputs": [],
   "source": [
    "def test():\n",
    "    correct = 0\n",
    "    total = 0\n",
    "    error = 0\n",
    "    with torch.no_grad():\n",
    "        # 开启测试阶段\n",
    "        model.eval()\n",
    "        for data in test_loader:\n",
    "            images, labels = data\n",
    "\n",
    "            # 将用来计算的张量迁移到GPU\n",
    "            images, labels = images.to(device), labels.to(device)\n",
    "            # 用于计算测试集损失\n",
    "            one_hot_labels = get_one_hot(labels)\n",
    "            one_hot_labels = one_hot_labels.to(device)\n",
    "            \n",
    "            outputs = model(images)\n",
    "            \n",
    "            # 计算测试集损失\n",
    "            error += F.cross_entropy(outputs,one_hot_labels).sum().item()\n",
    "            \n",
    "            # 沿着第一个维度取最大值的下标，返回最大值、最大值下标\n",
    "            _, predicted = torch.max(outputs.data, dim=1)\n",
    "            total += labels.size(0)\n",
    "            # 计算测试集准确率\n",
    "            correct += (predicted == labels).sum().item()\n",
    "            \n",
    "        test_accuracy_list.append(100 * correct/total)\n",
    "        test_loss_list.append(error / total)\n",
    "        print('Accuracy on test set: %d %% [%d/%d]' % (100 * correct/total,correct,total))"
   ]
  },
  {
   "cell_type": "markdown",
   "id": "behind-shanghai",
   "metadata": {},
   "source": [
    "## 训练"
   ]
  },
  {
   "cell_type": "code",
   "execution_count": 28,
   "id": "expected-hierarchy",
   "metadata": {},
   "outputs": [],
   "source": [
    "train_loss_list = []\n",
    "test_loss_list = []\n",
    "train_accuracy_list = []\n",
    "test_accuracy_list = []"
   ]
  },
  {
   "cell_type": "code",
   "execution_count": 29,
   "id": "monetary-transparency",
   "metadata": {},
   "outputs": [],
   "source": [
    "# 作图（100epochs）\n",
    "def plot_loss():\n",
    "    # 1.创建画布\n",
    "#     plt.figure(figsize=(10,8),dpi=100)\n",
    "    fig,axes = plt.subplots(nrows=1,ncols=2,figsize=(20,8),dpi=100)\n",
    "\n",
    "    # 2.绘制图像\n",
    "    epochs = np.linspace(1,100,100)\n",
    "#     train_loss = epochs\n",
    "#     test_loss = epochs + 10\n",
    "#     train_accuracy = epochs + 10\n",
    "#     test_accuracy = epochs\n",
    "    axes[0].set_xlabel(\"epoch\")\n",
    "    axes[0].set_ylabel(\"loss(CE)/patch\")\n",
    "    axes[0].set_title(\"loss\", fontsize=10)\n",
    "    axes[0].plot(epochs, train_loss_list, color = 'r',label=\"train_loss\")\n",
    "    axes[0].plot(epochs, test_loss_list, color = 'b',label=\"test_loss\")\n",
    "    axes[0].legend(loc=\"best\")\n",
    "    \n",
    "    axes[1].set_xlabel(\"epoch\")\n",
    "    axes[1].set_ylabel(\"accuracy(%)\")\n",
    "    axes[1].set_title(\"accuracy\", fontsize=10)\n",
    "    axes[1].plot(epochs, train_accuracy_list, color = 'r',label=\"train_accuracy\")\n",
    "    axes[1].plot(epochs, test_accuracy_list, color = 'b',label=\"test_accuracy\")\n",
    "    axes[1].legend(loc=\"best\")\n",
    "    \n",
    "    plt.show()     #显示图片"
   ]
  },
  {
   "cell_type": "code",
   "execution_count": 40,
   "id": "amateur-reverse",
   "metadata": {
    "scrolled": true
   },
   "outputs": [
    {
     "name": "stdout",
     "output_type": "stream",
     "text": [
      "[51,   500] loss: 0.702\n",
      "Accuracy on train set: 72 % [23075/32000]\n",
      "Accuracy on test set: 62 % [5035/8016]\n",
      "[52,   500] loss: 0.704\n",
      "Accuracy on train set: 72 % [23053/32000]\n",
      "Accuracy on test set: 63 % [5084/8016]\n",
      "[53,   500] loss: 0.701\n",
      "Accuracy on train set: 71 % [23039/32000]\n",
      "Accuracy on test set: 63 % [5067/8016]\n",
      "[54,   500] loss: 0.701\n",
      "Accuracy on train set: 71 % [23026/32000]\n",
      "Accuracy on test set: 63 % [5088/8016]\n",
      "[55,   500] loss: 0.700\n",
      "Accuracy on train set: 72 % [23044/32000]\n",
      "Accuracy on test set: 63 % [5057/8016]\n",
      "[56,   500] loss: 0.700\n",
      "Accuracy on train set: 72 % [23072/32000]\n",
      "Accuracy on test set: 63 % [5099/8016]\n",
      "[57,   500] loss: 0.703\n",
      "Accuracy on train set: 71 % [23017/32000]\n",
      "Accuracy on test set: 63 % [5091/8016]\n",
      "[58,   500] loss: 0.702\n",
      "Accuracy on train set: 71 % [22988/32000]\n",
      "Accuracy on test set: 62 % [5045/8016]\n",
      "[59,   500] loss: 0.702\n",
      "Accuracy on train set: 72 % [23081/32000]\n",
      "Accuracy on test set: 63 % [5090/8016]\n",
      "[60,   500] loss: 0.699\n",
      "Accuracy on train set: 72 % [23133/32000]\n",
      "Accuracy on test set: 63 % [5087/8016]\n",
      "[61,   500] loss: 0.700\n",
      "Accuracy on train set: 72 % [23059/32000]\n",
      "Accuracy on test set: 63 % [5124/8016]\n",
      "[62,   500] loss: 0.699\n",
      "Accuracy on train set: 71 % [23009/32000]\n",
      "Accuracy on test set: 63 % [5081/8016]\n",
      "[63,   500] loss: 0.700\n",
      "Accuracy on train set: 72 % [23117/32000]\n",
      "Accuracy on test set: 63 % [5059/8016]\n",
      "[64,   500] loss: 0.700\n",
      "Accuracy on train set: 72 % [23089/32000]\n",
      "Accuracy on test set: 63 % [5074/8016]\n",
      "[65,   500] loss: 0.698\n",
      "Accuracy on train set: 72 % [23135/32000]\n",
      "Accuracy on test set: 63 % [5119/8016]\n",
      "[66,   500] loss: 0.695\n",
      "Accuracy on train set: 72 % [23130/32000]\n",
      "Accuracy on test set: 63 % [5077/8016]\n",
      "[67,   500] loss: 0.700\n",
      "Accuracy on train set: 72 % [23049/32000]\n",
      "Accuracy on test set: 62 % [5047/8016]\n",
      "[68,   500] loss: 0.696\n",
      "Accuracy on train set: 72 % [23122/32000]\n",
      "Accuracy on test set: 63 % [5119/8016]\n",
      "[69,   500] loss: 0.697\n",
      "Accuracy on train set: 72 % [23066/32000]\n",
      "Accuracy on test set: 63 % [5109/8016]\n",
      "[70,   500] loss: 0.697\n",
      "Accuracy on train set: 71 % [23014/32000]\n",
      "Accuracy on test set: 62 % [5016/8016]\n"
     ]
    },
    {
     "ename": "KeyboardInterrupt",
     "evalue": "",
     "output_type": "error",
     "traceback": [
      "\u001b[1;31m---------------------------------------------------------------------------\u001b[0m",
      "\u001b[1;31mKeyboardInterrupt\u001b[0m                         Traceback (most recent call last)",
      "\u001b[1;32m<ipython-input-40-98b4621c3f2f>\u001b[0m in \u001b[0;36m<module>\u001b[1;34m()\u001b[0m\n\u001b[0;32m      3\u001b[0m     \u001b[1;32mfor\u001b[0m \u001b[0mepoch\u001b[0m \u001b[1;32min\u001b[0m \u001b[0mrange\u001b[0m\u001b[1;33m(\u001b[0m\u001b[1;36m50\u001b[0m\u001b[1;33m)\u001b[0m\u001b[1;33m:\u001b[0m\u001b[1;33m\u001b[0m\u001b[0m\n\u001b[0;32m      4\u001b[0m         \u001b[0mepoch\u001b[0m \u001b[1;33m=\u001b[0m \u001b[0mepoch\u001b[0m\u001b[1;33m+\u001b[0m\u001b[1;36m50\u001b[0m\u001b[1;33m\u001b[0m\u001b[0m\n\u001b[1;32m----> 5\u001b[1;33m         \u001b[0mtrain\u001b[0m\u001b[1;33m(\u001b[0m\u001b[0mepoch\u001b[0m\u001b[1;33m)\u001b[0m\u001b[1;33m\u001b[0m\u001b[0m\n\u001b[0m\u001b[0;32m      6\u001b[0m         \u001b[0mtest\u001b[0m\u001b[1;33m(\u001b[0m\u001b[1;33m)\u001b[0m\u001b[1;33m\u001b[0m\u001b[0m\n\u001b[0;32m      7\u001b[0m         \u001b[1;31m# 2个epoch保存一次模型\u001b[0m\u001b[1;33m\u001b[0m\u001b[1;33m\u001b[0m\u001b[0m\n",
      "\u001b[1;32m<ipython-input-26-e5933f30caf4>\u001b[0m in \u001b[0;36mtrain\u001b[1;34m(epoch)\u001b[0m\n\u001b[0;32m     21\u001b[0m             \u001b[1;31m# 开启测试阶段\u001b[0m\u001b[1;33m\u001b[0m\u001b[1;33m\u001b[0m\u001b[0m\n\u001b[0;32m     22\u001b[0m             \u001b[0mmodel\u001b[0m\u001b[1;33m.\u001b[0m\u001b[0meval\u001b[0m\u001b[1;33m(\u001b[0m\u001b[1;33m)\u001b[0m\u001b[1;33m\u001b[0m\u001b[0m\n\u001b[1;32m---> 23\u001b[1;33m             \u001b[0mtarget\u001b[0m \u001b[1;33m=\u001b[0m \u001b[0mtarget\u001b[0m\u001b[1;33m.\u001b[0m\u001b[0mto\u001b[0m\u001b[1;33m(\u001b[0m\u001b[0mdevice\u001b[0m\u001b[1;33m)\u001b[0m\u001b[1;33m\u001b[0m\u001b[0m\n\u001b[0m\u001b[0;32m     24\u001b[0m             \u001b[1;31m# 沿着第一个维度取最大值的下标，返回最大值、最大值下标\u001b[0m\u001b[1;33m\u001b[0m\u001b[1;33m\u001b[0m\u001b[0m\n\u001b[0;32m     25\u001b[0m             \u001b[0m_\u001b[0m\u001b[1;33m,\u001b[0m \u001b[0mpredicted\u001b[0m \u001b[1;33m=\u001b[0m \u001b[0mtorch\u001b[0m\u001b[1;33m.\u001b[0m\u001b[0mmax\u001b[0m\u001b[1;33m(\u001b[0m\u001b[0moutputs\u001b[0m\u001b[1;33m.\u001b[0m\u001b[0mdata\u001b[0m\u001b[1;33m,\u001b[0m \u001b[0mdim\u001b[0m\u001b[1;33m=\u001b[0m\u001b[1;36m1\u001b[0m\u001b[1;33m)\u001b[0m\u001b[1;33m\u001b[0m\u001b[0m\n",
      "\u001b[1;31mKeyboardInterrupt\u001b[0m: "
     ]
    }
   ],
   "source": [
    "if __name__ == '__main__':\n",
    "    save_path = '..//Final-Project//model_save//'\n",
    "    for epoch in range(50):\n",
    "        epoch = epoch+50\n",
    "        train(epoch)\n",
    "        test()\n",
    "        # 2个epoch保存一次模型\n",
    "        if epoch % 2 == 1:\n",
    "            torch.save(model.state_dict(), save_path+\"Net_mix_drop_epoch\"+ str(epoch+1)+ '.pth')"
   ]
  },
  {
   "cell_type": "code",
   "execution_count": 41,
   "id": "acceptable-academy",
   "metadata": {},
   "outputs": [],
   "source": [
    "# 换算为每个patch的loss\n",
    "test_loss_list_patch = [i * 64 for i in test_loss_list]\n",
    "test_loss_list = test_loss_list_patch"
   ]
  },
  {
   "cell_type": "code",
   "execution_count": 27,
   "id": "quarterly-lawyer",
   "metadata": {},
   "outputs": [],
   "source": [
    "# 作图（n epochs）\n",
    "def plot_loss_n(n):\n",
    "    # 1.创建画布\n",
    "#     plt.figure(figsize=(10,8),dpi=100)\n",
    "    fig,axes = plt.subplots(nrows=1,ncols=2,figsize=(20,8),dpi=100)\n",
    "\n",
    "    # 2.绘制图像\n",
    "    epochs = np.linspace(1,n,n)\n",
    "#     train_loss = epochs\n",
    "#     test_loss = epochs + 10\n",
    "#     train_accuracy = epochs + 10\n",
    "#     test_accuracy = epochs\n",
    "    axes[0].set_xlabel(\"epoch\")\n",
    "    axes[0].set_ylabel(\"loss(CE)/patch\")\n",
    "    axes[0].set_title(\"loss\", fontsize=10)\n",
    "    axes[0].plot(epochs, train_loss_list[:n], color = 'r',label=\"train_loss\")\n",
    "    axes[0].plot(epochs, test_loss_list[:n], color = 'b',label=\"test_loss\")\n",
    "    axes[0].legend(loc=\"best\")\n",
    "    \n",
    "    axes[1].set_xlabel(\"epoch\")\n",
    "    axes[1].set_ylabel(\"accuracy(%)\")\n",
    "    axes[1].set_title(\"accuracy\", fontsize=10)\n",
    "    axes[1].plot(epochs, train_accuracy_list[:n], color = 'r',label=\"train_accuracy\")\n",
    "    axes[1].plot(epochs, test_accuracy_list[:n], color = 'b',label=\"test_accuracy\")\n",
    "    axes[1].legend(loc=\"best\")\n",
    "    \n",
    "    plt.show()     #显示图片"
   ]
  },
  {
   "cell_type": "code",
   "execution_count": 43,
   "id": "scientific-hierarchy",
   "metadata": {
    "scrolled": false
   },
   "outputs": [
    {
     "data": {
      "image/png": "[encoded data removed]",
      "text/plain": [
       "<Figure size 2000x800 with 2 Axes>"
      ]
     },
     "metadata": {
      "needs_background": "light"
     },
     "output_type": "display_data"
    }
   ],
   "source": [
    "plot_loss_n(70)"
   ]
  },
  {
   "cell_type": "markdown",
   "id": "bottom-copying",
   "metadata": {},
   "source": [
    "## 保存与加载"
   ]
  },
  {
   "cell_type": "code",
   "execution_count": 47,
   "id": "criminal-train",
   "metadata": {},
   "outputs": [],
   "source": [
    "# # 保存loss与accuracy\n",
    "# train_loss_list = np.array(train_loss_list)\n",
    "# test_loss_list = np.array(test_loss_list)\n",
    "# train_accuracy_list = np.array(train_accuracy_list)\n",
    "# test_accuracy_list = np.array(test_accuracy_list)\n",
    "# np.savetxt(\"..//Final-Project//log_save//Net_mix_drop_train_loss_list.txt\",train_loss_list)\n",
    "# np.savetxt(\"..//Final-Project//log_save//Net_mix_drop_test_loss_list.txt\",test_loss_list)\n",
    "# np.savetxt(\"..//Final-Project//log_save//Net_mix_drop_train_accuracy_list.txt\",train_accuracy_list)\n",
    "# np.savetxt(\"..//Final-Project//log_save//Net_mix_drop_test_accuracy_list.txt\",test_accuracy_list)"
   ]
  },
  {
   "cell_type": "code",
   "execution_count": 24,
   "id": "metallic-zambia",
   "metadata": {},
   "outputs": [
    {
     "data": {
      "text/plain": [
       "<All keys matched successfully>"
      ]
     },
     "execution_count": 24,
     "metadata": {},
     "output_type": "execute_result"
    }
   ],
   "source": [
    "save_path = '..//Final-Project//model_save//'\n",
    "state_dict = torch.load(save_path+\"Net_mix_drop_epoch50.pth\")\n",
    "model.load_state_dict(state_dict)"
   ]
  },
  {
   "cell_type": "code",
   "execution_count": 25,
   "id": "operational-plane",
   "metadata": {},
   "outputs": [],
   "source": [
    "train_loss_list = np.loadtxt(\"..//Final-Project//log_save//Net_mix_drop_train_loss_list.txt\")\n",
    "test_loss_list = np.loadtxt(\"..//Final-Project//log_save//Net_mix_drop_test_loss_list.txt\")\n",
    "train_accuracy_list = np.loadtxt(\"..//Final-Project//log_save//Net_mix_drop_train_accuracy_list.txt\")\n",
    "test_accuracy_list = np.loadtxt(\"..//Final-Project//log_save//Net_mix_drop_test_accuracy_list.txt\")"
   ]
  },
  {
   "cell_type": "code",
   "execution_count": 28,
   "id": "honey-lawsuit",
   "metadata": {
    "scrolled": false
   },
   "outputs": [
    {
     "data": {
      "image/png": "[encoded data removed]",
      "text/plain": [
       "<Figure size 2000x800 with 2 Axes>"
      ]
     },
     "metadata": {
      "needs_background": "light"
     },
     "output_type": "display_data"
    }
   ],
   "source": [
    "plot_loss_n(70)"
   ]
  },
  {
   "cell_type": "code",
   "execution_count": 52,
   "id": "honest-gregory",
   "metadata": {},
   "outputs": [
    {
     "data": {
      "text/plain": [
       "63.94710578842315"
      ]
     },
     "execution_count": 52,
     "metadata": {},
     "output_type": "execute_result"
    }
   ],
   "source": [
    "test_accuracy_list.max()"
   ]
  },
  {
   "cell_type": "code",
   "execution_count": 53,
   "id": "subsequent-leather",
   "metadata": {},
   "outputs": [
    {
     "data": {
      "text/plain": [
       "49"
      ]
     },
     "execution_count": 53,
     "metadata": {},
     "output_type": "execute_result"
    }
   ],
   "source": [
    "test_accuracy_list.argmax()"
   ]
  },
  {
   "cell_type": "code",
   "execution_count": 58,
   "id": "driving-protocol",
   "metadata": {},
   "outputs": [
    {
     "data": {
      "text/plain": [
       "0.9303297349093798"
      ]
     },
     "execution_count": 58,
     "metadata": {},
     "output_type": "execute_result"
    }
   ],
   "source": [
    "test_loss_list.min()"
   ]
  },
  {
   "cell_type": "code",
   "execution_count": 59,
   "id": "intermediate-workshop",
   "metadata": {},
   "outputs": [
    {
     "data": {
      "text/plain": [
       "45"
      ]
     },
     "execution_count": 59,
     "metadata": {},
     "output_type": "execute_result"
    }
   ],
   "source": [
    "test_loss_list.argmin()"
   ]
  },
  {
   "cell_type": "code",
   "execution_count": 64,
   "id": "fuzzy-sleep",
   "metadata": {
    "scrolled": true
   },
   "outputs": [
    {
     "name": "stdout",
     "output_type": "stream",
     "text": [
      "epoch 0:\n",
      "accuracy : 62.5748502994012\n",
      "loss : 0.9824358434258345\n",
      "epoch 2:\n",
      "accuracy : 60.69111776447106\n",
      "loss : 0.9856096388299962\n",
      "epoch 4:\n",
      "accuracy : 61.98852295409181\n",
      "loss : 0.9629405994421827\n",
      "epoch 6:\n",
      "accuracy : 62.28792415169661\n",
      "loss : 0.9607562814911682\n",
      "epoch 8:\n",
      "accuracy : 61.90119760479042\n",
      "loss : 0.9721412203588826\n",
      "epoch 10:\n",
      "accuracy : 62.624750499002\n",
      "loss : 0.9651267684832543\n",
      "epoch 12:\n",
      "accuracy : 62.724550898203596\n",
      "loss : 0.9697791357745905\n",
      "epoch 14:\n",
      "accuracy : 63.13622754491018\n",
      "loss : 0.9463800954820213\n",
      "epoch 16:\n",
      "accuracy : 62.699600798403196\n",
      "loss : 0.9544603643630317\n",
      "epoch 18:\n",
      "accuracy : 62.91167664670659\n",
      "loss : 0.9583712370244567\n",
      "epoch 20:\n",
      "accuracy : 62.5998003992016\n",
      "loss : 0.9722311116212202\n",
      "epoch 22:\n",
      "accuracy : 62.5\n",
      "loss : 0.974140537155424\n",
      "epoch 24:\n",
      "accuracy : 63.39820359281437\n",
      "loss : 0.9499061599544839\n",
      "epoch 26:\n",
      "accuracy : 62.899201596806385\n",
      "loss : 0.9611734572552635\n",
      "epoch 28:\n",
      "accuracy : 63.11127744510978\n",
      "loss : 0.9536464748283228\n",
      "epoch 30:\n",
      "accuracy : 63.01147704590819\n",
      "loss : 0.9505332268090424\n",
      "epoch 32:\n",
      "accuracy : 62.83682634730539\n",
      "loss : 0.9576105489553568\n",
      "epoch 34:\n",
      "accuracy : 63.310878243512974\n",
      "loss : 0.9467385195292339\n",
      "epoch 36:\n",
      "accuracy : 63.27345309381238\n",
      "loss : 0.9448479091573856\n",
      "epoch 38:\n",
      "accuracy : 62.86177644710579\n",
      "loss : 0.9625598243893144\n",
      "epoch 40:\n",
      "accuracy : 63.186127744510976\n",
      "loss : 0.9556397901041184\n",
      "epoch 42:\n",
      "accuracy : 62.749500998003995\n",
      "loss : 0.9754448463683\n",
      "epoch 44:\n",
      "accuracy : 61.963572854291414\n",
      "loss : 0.9718351540808192\n",
      "epoch 46:\n",
      "accuracy : 63.72255489021956\n",
      "loss : 0.9303297349093798\n",
      "epoch 48:\n",
      "accuracy : 62.96157684630739\n",
      "loss : 0.9587999319810115\n",
      "epoch 50:\n",
      "accuracy : 63.94710578842315\n",
      "loss : 0.9312686699102382\n",
      "epoch 52:\n",
      "accuracy : 63.42315369261477\n",
      "loss : 0.948289290449755\n",
      "epoch 54:\n",
      "accuracy : 63.47305389221557\n",
      "loss : 0.9477831702419146\n",
      "epoch 56:\n",
      "accuracy : 63.61027944111776\n",
      "loss : 0.9603338975853429\n",
      "epoch 58:\n",
      "accuracy : 62.93662674650699\n",
      "loss : 0.9683062025381182\n",
      "epoch 60:\n",
      "accuracy : 63.46057884231537\n",
      "loss : 0.9464077243763589\n",
      "epoch 62:\n",
      "accuracy : 63.38572854291417\n",
      "loss : 0.9490002212663016\n",
      "epoch 64:\n",
      "accuracy : 63.29840319361278\n",
      "loss : 0.9598488061356092\n",
      "epoch 66:\n",
      "accuracy : 63.33582834331337\n",
      "loss : 0.940893325460201\n"
     ]
    }
   ],
   "source": [
    "for i in range(34):\n",
    "    idx = i*2-1\n",
    "    print(\"epoch \"+str(idx+1)+\":\")\n",
    "    print(\"accuracy : \"+ str(test_accuracy_list[idx]))\n",
    "    print(\"loss : \"+ str(test_loss_list[idx]))"
   ]
  },
  {
   "cell_type": "code",
   "execution_count": 65,
   "id": "premium-transsexual",
   "metadata": {},
   "outputs": [
    {
     "data": {
      "text/plain": [
       "63.94710578842315"
      ]
     },
     "execution_count": 65,
     "metadata": {},
     "output_type": "execute_result"
    }
   ],
   "source": [
    "# 取第50个epoch\n",
    "test_accuracy_list[49]"
   ]
  },
  {
   "cell_type": "markdown",
   "id": "greenhouse-convertible",
   "metadata": {},
   "source": [
    "## 统计"
   ]
  },
  {
   "cell_type": "code",
   "execution_count": 29,
   "id": "computational-delhi",
   "metadata": {},
   "outputs": [],
   "source": [
    "import torchmetrics"
   ]
  },
  {
   "cell_type": "code",
   "execution_count": 30,
   "id": "educated-screw",
   "metadata": {},
   "outputs": [],
   "source": [
    "categories = ['disgust','fear','happy','surprise','sad','angry','neutral']\n",
    "# label = 0,1,2,3,4,5,6"
   ]
  },
  {
   "cell_type": "code",
   "execution_count": 33,
   "id": "unable-princeton",
   "metadata": {},
   "outputs": [],
   "source": [
    "def test_metrics():\n",
    "    with torch.no_grad():\n",
    "        # 实例化相关metrics的计算对象\n",
    "        test_f1 = torchmetrics.F1Score(average='none', num_classes=7).to(device)\n",
    "        test_acc = torchmetrics.Accuracy().to(device)\n",
    "        test_recall = torchmetrics.Recall(average='none', num_classes=7).to(device)\n",
    "        test_precision = torchmetrics.Precision(average='none', num_classes=7).to(device)\n",
    "        test_auc = torchmetrics.AUROC(average=\"macro\", num_classes=7).to(device)\n",
    "        # 开启测试阶段\n",
    "        model.eval()\n",
    "        for data in test_loader:\n",
    "            images, labels = data\n",
    "        \n",
    "            # 将用来计算的张量迁移到GPU\n",
    "            images, labels = images.to(device), labels.to(device)\n",
    "            \n",
    "            outputs = model(images)\n",
    "            \n",
    "             # 一个batch进行计算迭代\n",
    "            test_acc(outputs.argmax(1), labels)\n",
    "            test_auc.update(outputs, labels)\n",
    "            test_f1.update(outputs.argmax(1), labels)\n",
    "            test_recall(outputs.argmax(1), labels)\n",
    "            test_precision(outputs.argmax(1), labels)\n",
    "\n",
    "    # 计算一个epoch的accuray、recall、precision\n",
    "    total_acc = test_acc.compute()\n",
    "    total_recall = test_recall.compute()\n",
    "    total_precision = test_precision.compute()\n",
    "    total_f1 = test_f1.compute()\n",
    "    total_auc = test_auc.compute()\n",
    "    print(\"Accuracy of every class:\" ,total_acc)\n",
    "    print(\"recall of every class: \", total_recall)\n",
    "    print(\"precision of every class: \", total_precision)\n",
    "    print(\"f1 score of every class: \", total_f1)\n",
    "    print(\"auc of every class: \", total_auc.item())\n",
    "    # 清空计算对象\n",
    "    test_precision.reset()\n",
    "    test_acc.reset()\n",
    "    test_f1.reset()\n",
    "    test_recall.reset()\n",
    "    test_auc.reset()"
   ]
  },
  {
   "cell_type": "code",
   "execution_count": 34,
   "id": "behind-illness",
   "metadata": {},
   "outputs": [
    {
     "name": "stderr",
     "output_type": "stream",
     "text": [
      "C:\\Users\\Eden_\\AppData\\Local\\Programs\\Python\\Python37\\lib\\site-packages\\torchmetrics\\utilities\\prints.py:36: UserWarning: Metric `AUROC` will save all targets and predictions in buffer. For large datasets this may lead to large memory footprint.\n",
      "  warnings.warn(*args, **kwargs)\n"
     ]
    },
    {
     "name": "stdout",
     "output_type": "stream",
     "text": [
      "Accuracy of every class: tensor(0.6395, device='cuda:0')\n",
      "recall of every class:  tensor([0.6260, 0.5124, 0.7205, 0.5723, 0.6246, 0.3429, 0.9811],\n",
      "       device='cuda:0')\n",
      "precision of every class:  tensor([0.6540, 0.5226, 0.6149, 0.5280, 0.5407, 0.5544, 0.9679],\n",
      "       device='cuda:0')\n",
      "f1 score of every class:  tensor([0.6397, 0.5175, 0.6635, 0.5492, 0.5796, 0.4237, 0.9744],\n",
      "       device='cuda:0')\n",
      "auc of every class:  0.8554946780204773\n"
     ]
    }
   ],
   "source": [
    "test_metrics()"
   ]
  },
  {
   "cell_type": "code",
   "execution_count": null,
   "id": "collaborative-recommendation",
   "metadata": {},
   "outputs": [],
   "source": []
  }
 ],
 "metadata": {
  "kernelspec": {
   "display_name": "Python 3",
   "language": "python",
   "name": "python3"
  },
  "language_info": {
   "codemirror_mode": {
    "name": "ipython",
    "version": 3
   },
   "file_extension": ".py",
   "mimetype": "text/x-python",
   "name": "python",
   "nbconvert_exporter": "python",
   "pygments_lexer": "ipython3",
   "version": "3.7.0"
  },
  "toc": {
   "base_numbering": 1,
   "nav_menu": {},
   "number_sections": true,
   "sideBar": true,
   "skip_h1_title": false,
   "title_cell": "Table of Contents",
   "title_sidebar": "Contents",
   "toc_cell": false,
   "toc_position": {
    "height": "calc(100% - 180px)",
    "left": "10px",
    "top": "150px",
    "width": "165px"
   },
   "toc_section_display": true,
   "toc_window_display": true
  }
 },
 "nbformat": 4,
 "nbformat_minor": 5
}
