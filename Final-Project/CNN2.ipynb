{
 "cells": [
  {
   "cell_type": "code",
   "execution_count": 2,
   "id": "circular-suspect",
   "metadata": {},
   "outputs": [],
   "source": [
    "import torch\n",
    "import torch.nn as nn\n",
    "import os\n",
    "from torch.utils.data import Dataset\n",
    "from torch.utils.data import DataLoader\n",
    "from torchvision import transforms\n",
    "from torchvision import datasets\n",
    "from PIL import Image\n",
    "import torch.nn.functional as F\n",
    "import torch.optim as optim\n",
    "# import i2v\n",
    "import numpy as np\n",
    "import matplotlib.pyplot as plt"
   ]
  },
  {
   "cell_type": "markdown",
   "id": "ordered-violation",
   "metadata": {},
   "source": [
    "## 构造数据集"
   ]
  },
  {
   "cell_type": "code",
   "execution_count": 27,
   "id": "novel-inflation",
   "metadata": {},
   "outputs": [],
   "source": [
    "categories = ['disgust','fear','happy','surprise','sad','angry','neutral']\n",
    "# label = 0,1,2,3,4,5,6"
   ]
  },
  {
   "cell_type": "code",
   "execution_count": 28,
   "id": "stuck-winter",
   "metadata": {},
   "outputs": [],
   "source": [
    "file_train = []\n",
    "file_test = []\n",
    "number_train = []\n",
    "number_test = []"
   ]
  },
  {
   "cell_type": "code",
   "execution_count": 29,
   "id": "tender-scientist",
   "metadata": {},
   "outputs": [],
   "source": [
    "# categories.index('neutral')\n",
    "# number_train.append(1)\n",
    "# number_train"
   ]
  },
  {
   "cell_type": "code",
   "execution_count": 30,
   "id": "terminal-blend",
   "metadata": {},
   "outputs": [],
   "source": [
    "# category = 'neutral'\n",
    "for category in categories:\n",
    "    label = categories.index(category)\n",
    "    for root,dirs,files in os.walk(\"..//detect_faces//\"+str(category)): \n",
    "        for file in files:\n",
    "            file_type = file.split('_')[1]\n",
    "    #         print(file_type)\n",
    "            # train_data\n",
    "            if file_type == 'train':\n",
    "                file_train.append(os.path.join(root,file))\n",
    "                number_train.append(label)\n",
    "            else:\n",
    "                file_test.append(os.path.join(root,file))\n",
    "                number_test.append(label)"
   ]
  },
  {
   "cell_type": "code",
   "execution_count": 31,
   "id": "stainless-radius",
   "metadata": {},
   "outputs": [
    {
     "name": "stdout",
     "output_type": "stream",
     "text": [
      "trainset_size: 32080\n",
      "testset_size: 8016\n"
     ]
    }
   ],
   "source": [
    "print(\"trainset_size: \"+ str(len(file_train)))\n",
    "print(\"testset_size: \"+ str(len(file_test)))"
   ]
  },
  {
   "cell_type": "code",
   "execution_count": 32,
   "id": "regulation-toner",
   "metadata": {},
   "outputs": [],
   "source": [
    "class testset(Dataset):\n",
    "    def __init__(self, transform=None):\n",
    "        #定义好 image 的路径\n",
    "        self.images = file_test\n",
    "        self.target = number_test\n",
    "        self.transform = transform\n",
    "\n",
    "    def __getitem__(self, index):\n",
    "        image = self.images[index]\n",
    "        image = Image.open(image)\n",
    "        if self.transform:\n",
    "            image = self.transform(image)\n",
    "        target = self.target[index]\n",
    "        return image,target\n",
    "\n",
    "    def __len__(self):\n",
    "        return len(self.images)"
   ]
  },
  {
   "cell_type": "code",
   "execution_count": 33,
   "id": "loving-sacramento",
   "metadata": {},
   "outputs": [],
   "source": [
    "class trainset(Dataset):\n",
    "    def __init__(self, transform=None):\n",
    "        #定义好 image 的路径\n",
    "        self.images = file_train\n",
    "        self.target = number_train\n",
    "        self.transform = transform\n",
    "\n",
    "    def __getitem__(self, index):\n",
    "        image = self.images[index]\n",
    "        image = Image.open(image)\n",
    "        if self.transform:\n",
    "            image = self.transform(image)\n",
    "        target = self.target[index]\n",
    "        return image,target\n",
    "\n",
    "    def __len__(self):\n",
    "        return len(self.images)"
   ]
  },
  {
   "cell_type": "code",
   "execution_count": 34,
   "id": "welcome-rogers",
   "metadata": {},
   "outputs": [],
   "source": [
    "# 应用了torchvision.transforms.ToTensor，其作用是将数据归一化到[0,1]（是将数据除以255）\n",
    "# [0.485, 0.456, 0.406]这一组平均值是从imagenet训练集中抽样算出来的。\n",
    "# 数据如果分布在(0,1)之间，可能实际的bias，就是神经网络的输入b会比较大，\n",
    "# 而模型初始化时b=0的，这样会导致神经网络收敛比较慢，经过Normalize后，可以加快模型的收敛速度。\n",
    "normalize = transforms.Normalize(\n",
    "    mean=[0.485, 0.456, 0.406],\n",
    "    std=[0.229, 0.224, 0.225]\n",
    ")\n",
    "transform = transforms.Compose([\n",
    "    transforms.ToTensor(),\n",
    "    normalize\n",
    "])"
   ]
  },
  {
   "cell_type": "code",
   "execution_count": 35,
   "id": "incident-private",
   "metadata": {
    "scrolled": true
   },
   "outputs": [],
   "source": [
    "train_dataset = trainset(transform=transform)\n",
    "train_loader = DataLoader(train_dataset, batch_size=64,shuffle=True)\n",
    "test_dataset = testset(transform=transform)\n",
    "test_loader = DataLoader(test_dataset, batch_size=64,shuffle=False)"
   ]
  },
  {
   "cell_type": "code",
   "execution_count": null,
   "id": "expressed-market",
   "metadata": {},
   "outputs": [],
   "source": []
  },
  {
   "cell_type": "markdown",
   "id": "metallic-knowing",
   "metadata": {},
   "source": [
    "## 模型搭建"
   ]
  },
  {
   "cell_type": "code",
   "execution_count": 36,
   "id": "round-hamilton",
   "metadata": {},
   "outputs": [],
   "source": [
    "# class Net1(torch.nn.Module):\n",
    "#     def __init__(self):\n",
    "#         super(Net1,self).__init__()\n",
    "#         self.conv1 = torch.nn.Conv2d(3,64,kernel_size=3,padding=1)\n",
    "#         self.conv2 = torch.nn.Conv2d(64,128,kernel_size=3,padding=1)\n",
    "#         self.conv3 = torch.nn.Conv2d(128,256,kernel_size=3,padding=1)\n",
    "#         self.pooling1 = torch.nn.MaxPool2d(2)\n",
    "#         self.pooling2 = torch.nn.MaxPool2d(4)\n",
    "#         self.fc1 = torch.nn.Linear(4096,4096)\n",
    "#         self.fc2 = torch.nn.Linear(4096,4096)\n",
    "#         self.fc3 = torch.nn.Linear(4096,7)\n",
    "    \n",
    "#     def forward(self,x):\n",
    "#         batch_size = x.size(0)\n",
    "#         x = self.pooling1(F.relu(self.conv1(x)))\n",
    "#         x = self.pooling2(F.relu(self.conv2(x)))\n",
    "#         x = self.pooling2(F.relu(self.conv3(x)))\n",
    "#         # flatten\n",
    "#         x = x.view(batch_size, -1)\n",
    "#         x = F.relu(self.fc1(x))\n",
    "#         x = F.relu(self.fc2(x))\n",
    "#         x = self.fc3(x)\n",
    "#         return x"
   ]
  },
  {
   "cell_type": "code",
   "execution_count": 37,
   "id": "prime-casino",
   "metadata": {},
   "outputs": [],
   "source": [
    "class Net2(torch.nn.Module):\n",
    "    def __init__(self):\n",
    "        super(Net2,self).__init__()\n",
    "        self.conv1 = torch.nn.Conv2d(3,64,kernel_size=3,padding=1)\n",
    "        self.conv2 = torch.nn.Conv2d(64,128,kernel_size=3,padding=1)\n",
    "        self.conv3 = torch.nn.Conv2d(128,256,kernel_size=3,padding=1)\n",
    "        self.conv4 = torch.nn.Conv2d(256,256,kernel_size=3,padding=1)\n",
    "        self.pooling1 = torch.nn.MaxPool2d(2)\n",
    "        self.pooling2 = torch.nn.MaxPool2d(4)\n",
    "        self.fc1 = torch.nn.Linear(4096,4096)\n",
    "        self.fc2 = torch.nn.Linear(4096,4096)\n",
    "        self.fc3 = torch.nn.Linear(4096,7)\n",
    "    \n",
    "    def forward(self,x):\n",
    "        batch_size = x.size(0)\n",
    "        x = self.pooling1(F.relu(self.conv1(x)))\n",
    "        x = self.pooling2(F.relu(self.conv2(x)))\n",
    "        x = F.relu(self.conv3(x))\n",
    "        x = F.relu(self.conv4(x))\n",
    "        x = self.pooling2(x)\n",
    "        # flatten\n",
    "        x = x.view(batch_size, -1)\n",
    "        x = F.relu(self.fc1(x))\n",
    "        x = F.relu(self.fc2(x))\n",
    "        x = self.fc3(x)\n",
    "        return x"
   ]
  },
  {
   "cell_type": "code",
   "execution_count": 38,
   "id": "soviet-communist",
   "metadata": {},
   "outputs": [],
   "source": [
    "# class Net3(torch.nn.Module):\n",
    "#     def __init__(self):\n",
    "#         super(Net3,self).__init__()\n",
    "#         self.conv1 = torch.nn.Conv2d(3,64,kernel_size=3,padding=1)\n",
    "#         self.conv2 = torch.nn.Conv2d(64,128,kernel_size=3,padding=1)\n",
    "#         self.conv3 = torch.nn.Conv2d(128,128,kernel_size=3,padding=1)\n",
    "#         self.conv4 = torch.nn.Conv2d(128,256,kernel_size=3,padding=1)\n",
    "#         self.conv5 = torch.nn.Conv2d(256,256,kernel_size=3,padding=1)\n",
    "#         self.pooling1 = torch.nn.MaxPool2d(2)\n",
    "#         self.pooling2 = torch.nn.MaxPool2d(4)\n",
    "#         self.fc1 = torch.nn.Linear(4096,4096)\n",
    "#         self.fc2 = torch.nn.Linear(4096,4096)\n",
    "#         self.fc3 = torch.nn.Linear(4096,7)\n",
    "    \n",
    "#     def forward(self,x):\n",
    "#         batch_size = x.size(0)\n",
    "#         x = self.pooling1(F.relu(self.conv1(x)))\n",
    "#         x = F.relu(self.conv2(x))\n",
    "#         x = F.relu(self.conv3(x))\n",
    "#         x = self.pooling2(x)\n",
    "#         x = F.relu(self.conv4(x))\n",
    "#         x = F.relu(self.conv5(x))\n",
    "#         x = self.pooling2(x)\n",
    "#         # flatten\n",
    "#         x = x.view(batch_size, -1)\n",
    "#         x = F.relu(self.fc1(x))\n",
    "#         x = F.relu(self.fc2(x))\n",
    "#         x = self.fc3(x)\n",
    "#         return x"
   ]
  },
  {
   "cell_type": "code",
   "execution_count": 39,
   "id": "composite-framing",
   "metadata": {},
   "outputs": [],
   "source": [
    "# # Ensemble模型\n",
    "# class Net1_mix(torch.nn.Module):\n",
    "#     def __init__(self):\n",
    "#         super(Net1,self).__init__()\n",
    "#         self.conv1 = torch.nn.Conv2d(3,64,kernel_size=3,padding=1)\n",
    "#         self.conv2 = torch.nn.Conv2d(64,128,kernel_size=3,padding=1)\n",
    "#         self.conv3 = torch.nn.Conv2d(128,256,kernel_size=3,padding=1)\n",
    "#         self.pooling1 = torch.nn.MaxPool2d(2)\n",
    "#         self.pooling2 = torch.nn.MaxPool2d(4)\n",
    "#         self.fc1 = torch.nn.Linear(4096,4096)\n",
    "#         self.fc2 = torch.nn.Linear(4096,4096)\n",
    "    \n",
    "#     def forward(self,x):\n",
    "#         batch_size = x.size(0)\n",
    "#         x = self.pooling1(F.relu(self.conv1(x)))\n",
    "#         x = self.pooling2(F.relu(self.conv2(x)))\n",
    "#         x = self.pooling2(F.relu(self.conv3(x)))\n",
    "#         # flatten\n",
    "#         x = x.view(batch_size, -1)\n",
    "#         x = F.relu(self.fc1(x))\n",
    "#         x = F.relu(self.fc2(x))\n",
    "#         return x\n",
    "# class Net2_mix(torch.nn.Module):\n",
    "#     def __init__(self):\n",
    "#         super(Net2,self).__init__()\n",
    "#         self.conv1 = torch.nn.Conv2d(3,64,kernel_size=3,padding=1)\n",
    "#         self.conv2 = torch.nn.Conv2d(64,128,kernel_size=3,padding=1)\n",
    "#         self.conv3 = torch.nn.Conv2d(128,256,kernel_size=3,padding=1)\n",
    "#         self.conv4 = torch.nn.Conv2d(256,256,kernel_size=3,padding=1)\n",
    "#         self.pooling1 = torch.nn.MaxPool2d(2)\n",
    "#         self.pooling2 = torch.nn.MaxPool2d(4)\n",
    "#         self.fc1 = torch.nn.Linear(4096,4096)\n",
    "#         self.fc2 = torch.nn.Linear(4096,4096)\n",
    "    \n",
    "#     def forward(self,x):\n",
    "#         batch_size = x.size(0)\n",
    "#         x = self.pooling1(F.relu(self.conv1(x)))\n",
    "#         x = self.pooling2(F.relu(self.conv2(x)))\n",
    "#         x = F.relu(self.conv3(x))\n",
    "#         x = F.relu(self.conv4(x))\n",
    "#         x = self.pooling2(x)\n",
    "#         # flatten\n",
    "#         x = x.view(batch_size, -1)\n",
    "#         x = F.relu(self.fc1(x))\n",
    "#         x = F.relu(self.fc2(x))\n",
    "#         return x\n",
    "# class Net3_mix(torch.nn.Module):\n",
    "#     def __init__(self):\n",
    "#         super(Net3,self).__init__()\n",
    "#         self.conv1 = torch.nn.Conv2d(3,64,kernel_size=3,padding=1)\n",
    "#         self.conv2 = torch.nn.Conv2d(64,128,kernel_size=3,padding=1)\n",
    "#         self.conv3 = torch.nn.Conv2d(128,128,kernel_size=3,padding=1)\n",
    "#         self.conv4 = torch.nn.Conv2d(128,256,kernel_size=3,padding=1)\n",
    "#         self.conv5 = torch.nn.Conv2d(256,256,kernel_size=3,padding=1)\n",
    "#         self.pooling1 = torch.nn.MaxPool2d(2)\n",
    "#         self.pooling2 = torch.nn.MaxPool2d(4)\n",
    "#         self.fc1 = torch.nn.Linear(4096,4096)\n",
    "#         self.fc2 = torch.nn.Linear(4096,4096)\n",
    "    \n",
    "#     def forward(self,x):\n",
    "#         batch_size = x.size(0)\n",
    "#         x = self.pooling1(F.relu(self.conv1(x)))\n",
    "#         x = F.relu(self.conv2(x))\n",
    "#         x = F.relu(self.conv3(x))\n",
    "#         x = self.pooling2(x)\n",
    "#         x = F.relu(self.conv4(x))\n",
    "#         x = F.relu(self.conv5(x))\n",
    "#         x = self.pooling2(x)\n",
    "#         # flatten\n",
    "#         x = x.view(batch_size, -1)\n",
    "#         x = F.relu(self.fc1(x))\n",
    "#         x = F.relu(self.fc2(x))\n",
    "#         return x\n",
    "# # 声明网络\n",
    "# model_net1 = Net1_mix()\n",
    "# model_net2 = Net2_mix()\n",
    "# model_net3 = Net3_mix()\n",
    "# # 导入参数\n",
    "# save_path = '..//Final-Project//model_save//'\n",
    "# state_dict1 = torch.load(save_path+\"Net1_epoch60.pth\")\n",
    "# state_dict2 = torch.load(save_path+\"Net2_epoch60.pth\")\n",
    "# state_dict3 = torch.load(save_path+\"Net3_epoch60.pth\")\n",
    "\n",
    "# keys = []\n",
    "# for k,v in state_dict1.items():\n",
    "#   #将‘fc3’开头的key过滤掉，这里是要去除的层的key\n",
    "#     if k.startswith('fc3'):  \n",
    "#         continue\n",
    "#     keys.append(k)\n",
    "\n",
    "# # 去除指定层后的模型\n",
    "# state_dict1 = {k:state_dict1[k] for k in keys}\n",
    "\n",
    "# keys = []\n",
    "# for k,v in state_dict2.items():\n",
    "#   #将‘fc3’开头的key过滤掉，这里是要去除的层的key\n",
    "#     if k.startswith('fc3'):  \n",
    "#         continue\n",
    "#     keys.append(k)\n",
    "# # 去除指定层后的模型\n",
    "# state_dict2 = {k:state_dict1[k] for k in keys}\n",
    "\n",
    "# keys = []\n",
    "# for k,v in state_dict2.items():\n",
    "#   #将‘fc3’开头的key过滤掉，这里是要去除的层的key\n",
    "#     if k.startswith('fc3'):  \n",
    "#         continue\n",
    "#     keys.append(k)\n",
    "\n",
    "# # 去除指定层后的模型\n",
    "# state_dict3 = {k:state_dict1[k] for k in keys}\n",
    "\n",
    "# #自己定义的模型，但要保证前面保存的层和自定义的模型中的层一致\n",
    "# model_net1.load_state_dict(state_dict1)\n",
    "# model_net2.load_state_dict(state_dict2)\n",
    "# model_net3.load_state_dict(state_dict3)\n",
    "\n",
    "# class NetMix(torch.nn.Module):\n",
    "#     def __init__(self):\n",
    "#         super(NetMix,self).__init__()\n",
    "#         self.net1 = model_net1\n",
    "#         self.net2 = model_net2\n",
    "#         self.net3 = model_net3\n",
    "#         for p in self.parameters():\n",
    "#             p.requires_grad = False #预训练模型加载进来后全部设置为不更新参数，然后再后面加层\n",
    "#         self.fc = torch.nn.Linear(4096*3,7)\n",
    "    \n",
    "#     def forward(self,x):\n",
    "#         batch_size = x.size(0)\n",
    "#         x1 = net1(x)\n",
    "#         x2 = net2(x)\n",
    "#         x3 = net3(x)\n",
    "#         # 拼接输入\n",
    "#         x = torch.cat((x1,x2,x3),dim = 1)\n",
    "#         # 输出\n",
    "#         x = self.fc(x)\n",
    "#         return x"
   ]
  },
  {
   "cell_type": "markdown",
   "id": "raised-assault",
   "metadata": {},
   "source": [
    "## 模型配置"
   ]
  },
  {
   "cell_type": "markdown",
   "id": "removed-citizenship",
   "metadata": {},
   "source": [
    "### Net1配置"
   ]
  },
  {
   "cell_type": "code",
   "execution_count": 40,
   "id": "needed-volleyball",
   "metadata": {},
   "outputs": [],
   "source": [
    "# model = Net1()"
   ]
  },
  {
   "cell_type": "markdown",
   "id": "measured-legislature",
   "metadata": {},
   "source": [
    "### Net2配置"
   ]
  },
  {
   "cell_type": "code",
   "execution_count": 44,
   "id": "outer-translation",
   "metadata": {},
   "outputs": [],
   "source": [
    "model = Net2()"
   ]
  },
  {
   "cell_type": "markdown",
   "id": "arctic-market",
   "metadata": {},
   "source": [
    "### Net3配置"
   ]
  },
  {
   "cell_type": "code",
   "execution_count": 45,
   "id": "indonesian-treasure",
   "metadata": {},
   "outputs": [],
   "source": [
    "# model = Net3()"
   ]
  },
  {
   "cell_type": "markdown",
   "id": "developed-nepal",
   "metadata": {},
   "source": [
    "### Net1+2+3配置"
   ]
  },
  {
   "cell_type": "code",
   "execution_count": 46,
   "id": "amber-beast",
   "metadata": {},
   "outputs": [],
   "source": [
    "# model = NetMix()"
   ]
  },
  {
   "cell_type": "markdown",
   "id": "universal-assumption",
   "metadata": {},
   "source": [
    "### 共同配置"
   ]
  },
  {
   "cell_type": "code",
   "execution_count": 47,
   "id": "twenty-lightning",
   "metadata": {},
   "outputs": [],
   "source": [
    "device = torch.device(\"cuda:0\" if torch.cuda.is_available() else \"cpu\")"
   ]
  },
  {
   "cell_type": "code",
   "execution_count": 48,
   "id": "closing-weekly",
   "metadata": {},
   "outputs": [
    {
     "data": {
      "text/plain": [
       "device(type='cuda', index=0)"
      ]
     },
     "execution_count": 48,
     "metadata": {},
     "output_type": "execute_result"
    }
   ],
   "source": [
    "device"
   ]
  },
  {
   "cell_type": "code",
   "execution_count": 49,
   "id": "chronic-crisis",
   "metadata": {},
   "outputs": [
    {
     "data": {
      "text/plain": [
       "Net2(\n",
       "  (conv1): Conv2d(3, 64, kernel_size=(3, 3), stride=(1, 1), padding=(1, 1))\n",
       "  (conv2): Conv2d(64, 128, kernel_size=(3, 3), stride=(1, 1), padding=(1, 1))\n",
       "  (conv3): Conv2d(128, 256, kernel_size=(3, 3), stride=(1, 1), padding=(1, 1))\n",
       "  (conv4): Conv2d(256, 256, kernel_size=(3, 3), stride=(1, 1), padding=(1, 1))\n",
       "  (pooling1): MaxPool2d(kernel_size=2, stride=2, padding=0, dilation=1, ceil_mode=False)\n",
       "  (pooling2): MaxPool2d(kernel_size=4, stride=4, padding=0, dilation=1, ceil_mode=False)\n",
       "  (fc1): Linear(in_features=4096, out_features=4096, bias=True)\n",
       "  (fc2): Linear(in_features=4096, out_features=4096, bias=True)\n",
       "  (fc3): Linear(in_features=4096, out_features=7, bias=True)\n",
       ")"
      ]
     },
     "execution_count": 49,
     "metadata": {},
     "output_type": "execute_result"
    }
   ],
   "source": [
    "model.to(device)"
   ]
  },
  {
   "cell_type": "code",
   "execution_count": 50,
   "id": "tested-class",
   "metadata": {},
   "outputs": [],
   "source": [
    "# 损失、优化函数定义\n",
    "criterion = torch.nn.CrossEntropyLoss()\n",
    "criterion = criterion.to(device)\n",
    "\n",
    "# 带冲量的优化，冲量为0.5\n",
    "optimizer = optim.SGD(model.parameters(), lr=0.01, momentum=0.5)"
   ]
  },
  {
   "cell_type": "code",
   "execution_count": 51,
   "id": "sixth-experiment",
   "metadata": {},
   "outputs": [],
   "source": [
    "# result = []\n",
    "# one_hot = [0,0,0,0,0,0,0]\n",
    "# one_hot[1] = 1\n",
    "# result.append(one_hot)\n",
    "# result.append(one_hot)\n",
    "# torch.Tensor(result)"
   ]
  },
  {
   "cell_type": "code",
   "execution_count": 52,
   "id": "pending-tactics",
   "metadata": {},
   "outputs": [],
   "source": [
    "def get_one_hot(labels):\n",
    "    result = []\n",
    "    # batch_size=64\n",
    "    size = len(labels)\n",
    "    for i in range(size):\n",
    "        one_hot = [0,0,0,0,0,0,0]\n",
    "        one_hot[labels[i]] = 1\n",
    "        result.append(one_hot)\n",
    "    return torch.Tensor(result)"
   ]
  },
  {
   "cell_type": "code",
   "execution_count": 53,
   "id": "restricted-container",
   "metadata": {},
   "outputs": [],
   "source": [
    "def train(epoch):\n",
    "    running_loss = 0.0\n",
    "    total = 0\n",
    "    correct = 0\n",
    "    for batch_idx,data in enumerate(train_loader,0):\n",
    "        inputs, target = data\n",
    "        # 转换为one-hot向量\n",
    "        target_one_hot = get_one_hot(target)\n",
    "        # 将用来计算的张量迁移到GPU\n",
    "        inputs, target_one_hot = inputs.to(device), target_one_hot.to(device)\n",
    "        \n",
    "        # 初始化优化器\n",
    "        optimizer.zero_grad()\n",
    "        \n",
    "        # forward+backward+update\n",
    "        outputs = model(inputs)\n",
    "        \n",
    "        with torch.no_grad():\n",
    "            target = target.to(device)\n",
    "            # 沿着第一个维度取最大值的下标，返回最大值、最大值下标\n",
    "            _, predicted = torch.max(outputs.data, dim=1)\n",
    "            total += target.size(0)\n",
    "            # 计算训练集准确率\n",
    "            correct += (predicted == target).sum().item()\n",
    "        \n",
    "        loss = criterion(outputs, target_one_hot)\n",
    "        # 将用来计算的张量迁移到GPU\n",
    "        loss = loss.to(device)\n",
    "        \n",
    "        loss.backward()\n",
    "        optimizer.step()\n",
    "        \n",
    "        running_loss += loss.item()\n",
    "        if batch_idx % 500 == 499:\n",
    "            # 以500个patch的平均loss作为此epoch的loss\n",
    "            train_loss_list.append(running_loss / 500)\n",
    "            print('[%d, %5d] loss: %.3f' % (epoch + 1,batch_idx + 1, running_loss / 500))\n",
    "            running_loss = 0.0\n",
    "            # 以500个patch的平均accuracy作为此epoch的accuracy\n",
    "            train_accuracy_list.append(100 * correct/total)\n",
    "            print('Accuracy on train set: %d %% [%d/%d]' % (100 * correct/total,correct,total))\n",
    "            correct = 0\n",
    "            total = 0"
   ]
  },
  {
   "cell_type": "code",
   "execution_count": 54,
   "id": "modern-inventory",
   "metadata": {},
   "outputs": [],
   "source": [
    "def test():\n",
    "    correct = 0\n",
    "    total = 0\n",
    "    error = 0\n",
    "    with torch.no_grad():\n",
    "        for data in test_loader:\n",
    "            images, labels = data\n",
    "\n",
    "            # 将用来计算的张量迁移到GPU\n",
    "            images, labels = images.to(device), labels.to(device)\n",
    "            # 用于计算测试集损失\n",
    "            one_hot_labels = get_one_hot(labels)\n",
    "            one_hot_labels = one_hot_labels.to(device)\n",
    "            \n",
    "            outputs = model(images)\n",
    "            \n",
    "            # 计算测试集损失\n",
    "            error += F.cross_entropy(outputs,one_hot_labels).sum().item()\n",
    "            \n",
    "            # 沿着第一个维度取最大值的下标，返回最大值、最大值下标\n",
    "            _, predicted = torch.max(outputs.data, dim=1)\n",
    "            total += labels.size(0)\n",
    "            # 计算测试集准确率\n",
    "            correct += (predicted == labels).sum().item()\n",
    "            \n",
    "        test_accuracy_list.append(100 * correct/total)\n",
    "        test_loss_list.append(error / total)\n",
    "        print('Accuracy on test set: %d %% [%d/%d]' % (100 * correct/total,correct,total))"
   ]
  },
  {
   "cell_type": "markdown",
   "id": "behind-shanghai",
   "metadata": {},
   "source": [
    "## 训练"
   ]
  },
  {
   "cell_type": "code",
   "execution_count": 55,
   "id": "expected-hierarchy",
   "metadata": {},
   "outputs": [],
   "source": [
    "train_loss_list = []\n",
    "test_loss_list = []\n",
    "train_accuracy_list = []\n",
    "test_accuracy_list = []"
   ]
  },
  {
   "cell_type": "code",
   "execution_count": 57,
   "id": "monetary-transparency",
   "metadata": {},
   "outputs": [],
   "source": [
    "# 作图（100epochs）\n",
    "def plot_loss():\n",
    "    # 1.创建画布\n",
    "#     plt.figure(figsize=(10,8),dpi=100)\n",
    "    fig,axes = plt.subplots(nrows=1,ncols=2,figsize=(20,8),dpi=100)\n",
    "\n",
    "    # 2.绘制图像\n",
    "    epochs = np.linspace(1,100,100)\n",
    "#     train_loss = epochs\n",
    "#     test_loss = epochs + 10\n",
    "#     train_accuracy = epochs + 10\n",
    "#     test_accuracy = epochs\n",
    "    axes[0].set_xlabel(\"epoch\")\n",
    "    axes[0].set_ylabel(\"loss(CE)/patch\")\n",
    "    axes[0].set_title(\"loss\", fontsize=10)\n",
    "    axes[0].plot(epochs, train_loss_list, color = 'r',label=\"train_loss\")\n",
    "    axes[0].plot(epochs, test_loss_list, color = 'b',label=\"test_loss\")\n",
    "    axes[0].legend(loc=\"best\")\n",
    "    \n",
    "    axes[1].set_xlabel(\"epoch\")\n",
    "    axes[1].set_ylabel(\"accuracy(%)\")\n",
    "    axes[1].set_title(\"accuracy\", fontsize=10)\n",
    "    axes[1].plot(epochs, train_accuracy_list, color = 'r',label=\"train_accuracy\")\n",
    "    axes[1].plot(epochs, test_accuracy_list, color = 'b',label=\"test_accuracy\")\n",
    "    axes[1].legend(loc=\"best\")\n",
    "    \n",
    "    plt.show()     #显示图片"
   ]
  },
  {
   "cell_type": "code",
   "execution_count": 58,
   "id": "amateur-reverse",
   "metadata": {
    "scrolled": true
   },
   "outputs": [
    {
     "name": "stdout",
     "output_type": "stream",
     "text": [
      "[1,   500] loss: 1.672\n",
      "Accuracy on train set: 31 % [10012/32000]\n",
      "Accuracy on test set: 42 % [3443/8016]\n",
      "[2,   500] loss: 1.269\n",
      "Accuracy on train set: 48 % [15410/32000]\n",
      "Accuracy on test set: 46 % [3741/8016]\n",
      "[3,   500] loss: 1.145\n",
      "Accuracy on train set: 52 % [16903/32000]\n",
      "Accuracy on test set: 50 % [4061/8016]\n",
      "[4,   500] loss: 1.068\n",
      "Accuracy on train set: 56 % [17989/32000]\n",
      "Accuracy on test set: 51 % [4160/8016]\n",
      "[5,   500] loss: 1.010\n",
      "Accuracy on train set: 58 % [18846/32000]\n",
      "Accuracy on test set: 53 % [4311/8016]\n",
      "[6,   500] loss: 0.960\n",
      "Accuracy on train set: 61 % [19559/32000]\n",
      "Accuracy on test set: 57 % [4605/8016]\n",
      "[7,   500] loss: 0.911\n",
      "Accuracy on train set: 63 % [20238/32000]\n",
      "Accuracy on test set: 57 % [4570/8016]\n",
      "[8,   500] loss: 0.863\n",
      "Accuracy on train set: 65 % [20920/32000]\n",
      "Accuracy on test set: 58 % [4666/8016]\n",
      "[9,   500] loss: 0.816\n",
      "Accuracy on train set: 67 % [21525/32000]\n",
      "Accuracy on test set: 55 % [4486/8016]\n",
      "[10,   500] loss: 0.756\n",
      "Accuracy on train set: 69 % [22350/32000]\n",
      "Accuracy on test set: 58 % [4725/8016]\n",
      "[11,   500] loss: 0.697\n",
      "Accuracy on train set: 72 % [23120/32000]\n",
      "Accuracy on test set: 60 % [4812/8016]\n",
      "[12,   500] loss: 0.629\n",
      "Accuracy on train set: 75 % [24088/32000]\n",
      "Accuracy on test set: 57 % [4603/8016]\n",
      "[13,   500] loss: 0.548\n",
      "Accuracy on train set: 78 % [25062/32000]\n",
      "Accuracy on test set: 59 % [4747/8016]\n",
      "[14,   500] loss: 0.461\n",
      "Accuracy on train set: 82 % [26272/32000]\n",
      "Accuracy on test set: 52 % [4241/8016]\n",
      "[15,   500] loss: 0.379\n",
      "Accuracy on train set: 85 % [27340/32000]\n",
      "Accuracy on test set: 61 % [4942/8016]\n",
      "[16,   500] loss: 0.299\n",
      "Accuracy on train set: 88 % [28446/32000]\n",
      "Accuracy on test set: 56 % [4525/8016]\n",
      "[17,   500] loss: 0.233\n",
      "Accuracy on train set: 91 % [29333/32000]\n",
      "Accuracy on test set: 59 % [4730/8016]\n",
      "[18,   500] loss: 0.177\n",
      "Accuracy on train set: 94 % [30154/32000]\n",
      "Accuracy on test set: 58 % [4690/8016]\n",
      "[19,   500] loss: 0.138\n",
      "Accuracy on train set: 95 % [30686/32000]\n",
      "Accuracy on test set: 55 % [4487/8016]\n",
      "[20,   500] loss: 0.114\n",
      "Accuracy on train set: 96 % [31012/32000]\n",
      "Accuracy on test set: 58 % [4720/8016]\n",
      "[21,   500] loss: 0.098\n",
      "Accuracy on train set: 97 % [31233/32000]\n",
      "Accuracy on test set: 59 % [4808/8016]\n",
      "[22,   500] loss: 0.081\n",
      "Accuracy on train set: 98 % [31392/32000]\n",
      "Accuracy on test set: 56 % [4538/8016]\n",
      "[23,   500] loss: 0.077\n",
      "Accuracy on train set: 98 % [31425/32000]\n",
      "Accuracy on test set: 60 % [4850/8016]\n",
      "[24,   500] loss: 0.070\n",
      "Accuracy on train set: 98 % [31468/32000]\n",
      "Accuracy on test set: 62 % [5002/8016]\n",
      "[25,   500] loss: 0.060\n",
      "Accuracy on train set: 98 % [31512/32000]\n",
      "Accuracy on test set: 61 % [4933/8016]\n",
      "[26,   500] loss: 0.058\n",
      "Accuracy on train set: 98 % [31507/32000]\n",
      "Accuracy on test set: 61 % [4951/8016]\n",
      "[27,   500] loss: 0.053\n",
      "Accuracy on train set: 98 % [31526/32000]\n",
      "Accuracy on test set: 60 % [4835/8016]\n",
      "[28,   500] loss: 0.051\n",
      "Accuracy on train set: 98 % [31518/32000]\n",
      "Accuracy on test set: 60 % [4844/8016]\n",
      "[29,   500] loss: 0.048\n",
      "Accuracy on train set: 98 % [31545/32000]\n",
      "Accuracy on test set: 61 % [4907/8016]\n",
      "[30,   500] loss: 0.044\n",
      "Accuracy on train set: 98 % [31551/32000]\n",
      "Accuracy on test set: 61 % [4959/8016]\n",
      "[31,   500] loss: 0.042\n",
      "Accuracy on train set: 98 % [31537/32000]\n",
      "Accuracy on test set: 61 % [4955/8016]\n",
      "[32,   500] loss: 0.038\n",
      "Accuracy on train set: 98 % [31559/32000]\n",
      "Accuracy on test set: 62 % [4972/8016]\n",
      "[33,   500] loss: 0.038\n",
      "Accuracy on train set: 98 % [31531/32000]\n",
      "Accuracy on test set: 62 % [5011/8016]\n",
      "[34,   500] loss: 0.035\n",
      "Accuracy on train set: 98 % [31545/32000]\n",
      "Accuracy on test set: 61 % [4923/8016]\n",
      "[35,   500] loss: 0.035\n",
      "Accuracy on train set: 98 % [31553/32000]\n",
      "Accuracy on test set: 61 % [4922/8016]\n",
      "[36,   500] loss: 0.032\n",
      "Accuracy on train set: 98 % [31557/32000]\n",
      "Accuracy on test set: 62 % [4975/8016]\n",
      "[37,   500] loss: 0.031\n",
      "Accuracy on train set: 98 % [31533/32000]\n",
      "Accuracy on test set: 62 % [4970/8016]\n",
      "[38,   500] loss: 0.030\n",
      "Accuracy on train set: 98 % [31541/32000]\n",
      "Accuracy on test set: 62 % [5010/8016]\n",
      "[39,   500] loss: 0.029\n",
      "Accuracy on train set: 98 % [31531/32000]\n",
      "Accuracy on test set: 61 % [4951/8016]\n",
      "[40,   500] loss: 0.029\n",
      "Accuracy on train set: 98 % [31546/32000]\n",
      "Accuracy on test set: 62 % [4971/8016]\n",
      "[41,   500] loss: 0.027\n",
      "Accuracy on train set: 98 % [31565/32000]\n",
      "Accuracy on test set: 62 % [5006/8016]\n",
      "[42,   500] loss: 0.027\n",
      "Accuracy on train set: 98 % [31530/32000]\n",
      "Accuracy on test set: 63 % [5054/8016]\n",
      "[43,   500] loss: 0.026\n",
      "Accuracy on train set: 98 % [31555/32000]\n",
      "Accuracy on test set: 62 % [5009/8016]\n",
      "[44,   500] loss: 0.025\n",
      "Accuracy on train set: 98 % [31552/32000]\n",
      "Accuracy on test set: 62 % [5037/8016]\n",
      "[45,   500] loss: 0.025\n",
      "Accuracy on train set: 98 % [31555/32000]\n",
      "Accuracy on test set: 62 % [4983/8016]\n",
      "[46,   500] loss: 0.024\n",
      "Accuracy on train set: 98 % [31564/32000]\n",
      "Accuracy on test set: 62 % [5015/8016]\n",
      "[47,   500] loss: 0.024\n",
      "Accuracy on train set: 98 % [31543/32000]\n",
      "Accuracy on test set: 62 % [5024/8016]\n",
      "[48,   500] loss: 0.023\n",
      "Accuracy on train set: 98 % [31554/32000]\n",
      "Accuracy on test set: 63 % [5068/8016]\n",
      "[49,   500] loss: 0.023\n",
      "Accuracy on train set: 98 % [31555/32000]\n",
      "Accuracy on test set: 61 % [4948/8016]\n",
      "[50,   500] loss: 0.022\n",
      "Accuracy on train set: 98 % [31564/32000]\n",
      "Accuracy on test set: 61 % [4967/8016]\n",
      "[51,   500] loss: 0.022\n",
      "Accuracy on train set: 98 % [31544/32000]\n",
      "Accuracy on test set: 62 % [4993/8016]\n",
      "[52,   500] loss: 0.022\n",
      "Accuracy on train set: 98 % [31550/32000]\n",
      "Accuracy on test set: 62 % [5026/8016]\n",
      "[53,   500] loss: 0.022\n",
      "Accuracy on train set: 98 % [31539/32000]\n",
      "Accuracy on test set: 63 % [5054/8016]\n",
      "[54,   500] loss: 0.021\n",
      "Accuracy on train set: 98 % [31534/32000]\n",
      "Accuracy on test set: 62 % [5000/8016]\n",
      "[55,   500] loss: 0.021\n",
      "Accuracy on train set: 98 % [31554/32000]\n",
      "Accuracy on test set: 62 % [5028/8016]\n",
      "[56,   500] loss: 0.021\n",
      "Accuracy on train set: 98 % [31548/32000]\n",
      "Accuracy on test set: 62 % [5032/8016]\n",
      "[57,   500] loss: 0.021\n",
      "Accuracy on train set: 98 % [31556/32000]\n",
      "Accuracy on test set: 62 % [5029/8016]\n",
      "[58,   500] loss: 0.020\n",
      "Accuracy on train set: 98 % [31552/32000]\n",
      "Accuracy on test set: 62 % [5028/8016]\n",
      "[59,   500] loss: 0.020\n",
      "Accuracy on train set: 98 % [31566/32000]\n",
      "Accuracy on test set: 62 % [4999/8016]\n",
      "[60,   500] loss: 0.020\n",
      "Accuracy on train set: 98 % [31550/32000]\n",
      "Accuracy on test set: 62 % [4989/8016]\n",
      "[61,   500] loss: 0.020\n",
      "Accuracy on train set: 98 % [31569/32000]\n",
      "Accuracy on test set: 62 % [5004/8016]\n",
      "[62,   500] loss: 0.020\n",
      "Accuracy on train set: 98 % [31555/32000]\n",
      "Accuracy on test set: 62 % [4999/8016]\n",
      "[63,   500] loss: 0.020\n",
      "Accuracy on train set: 98 % [31548/32000]\n",
      "Accuracy on test set: 62 % [4988/8016]\n",
      "[64,   500] loss: 0.019\n",
      "Accuracy on train set: 98 % [31557/32000]\n",
      "Accuracy on test set: 62 % [5016/8016]\n",
      "[65,   500] loss: 0.019\n",
      "Accuracy on train set: 98 % [31552/32000]\n",
      "Accuracy on test set: 62 % [4974/8016]\n",
      "[66,   500] loss: 0.019\n",
      "Accuracy on train set: 98 % [31550/32000]\n",
      "Accuracy on test set: 62 % [5000/8016]\n",
      "[67,   500] loss: 0.019\n",
      "Accuracy on train set: 98 % [31527/32000]\n",
      "Accuracy on test set: 62 % [5005/8016]\n",
      "[68,   500] loss: 0.019\n",
      "Accuracy on train set: 98 % [31555/32000]\n",
      "Accuracy on test set: 62 % [4973/8016]\n",
      "[69,   500] loss: 0.019\n",
      "Accuracy on train set: 98 % [31549/32000]\n",
      "Accuracy on test set: 62 % [4997/8016]\n",
      "[70,   500] loss: 0.019\n",
      "Accuracy on train set: 98 % [31546/32000]\n",
      "Accuracy on test set: 62 % [5009/8016]\n",
      "[71,   500] loss: 0.019\n",
      "Accuracy on train set: 98 % [31546/32000]\n",
      "Accuracy on test set: 62 % [5003/8016]\n",
      "[72,   500] loss: 0.019\n",
      "Accuracy on train set: 98 % [31550/32000]\n",
      "Accuracy on test set: 62 % [5001/8016]\n",
      "[73,   500] loss: 0.018\n",
      "Accuracy on train set: 98 % [31554/32000]\n",
      "Accuracy on test set: 61 % [4955/8016]\n",
      "[74,   500] loss: 0.018\n",
      "Accuracy on train set: 98 % [31573/32000]\n",
      "Accuracy on test set: 62 % [4997/8016]\n",
      "[75,   500] loss: 0.019\n",
      "Accuracy on train set: 98 % [31535/32000]\n",
      "Accuracy on test set: 62 % [5031/8016]\n",
      "[76,   500] loss: 0.018\n",
      "Accuracy on train set: 98 % [31555/32000]\n",
      "Accuracy on test set: 62 % [5007/8016]\n",
      "[77,   500] loss: 0.018\n",
      "Accuracy on train set: 98 % [31541/32000]\n",
      "Accuracy on test set: 62 % [5001/8016]\n",
      "[78,   500] loss: 0.018\n",
      "Accuracy on train set: 98 % [31571/32000]\n",
      "Accuracy on test set: 62 % [5007/8016]\n",
      "[79,   500] loss: 0.018\n",
      "Accuracy on train set: 98 % [31564/32000]\n"
     ]
    },
    {
     "name": "stdout",
     "output_type": "stream",
     "text": [
      "Accuracy on test set: 62 % [5030/8016]\n",
      "[80,   500] loss: 0.018\n",
      "Accuracy on train set: 98 % [31552/32000]\n",
      "Accuracy on test set: 62 % [4972/8016]\n",
      "[81,   500] loss: 0.018\n",
      "Accuracy on train set: 98 % [31567/32000]\n",
      "Accuracy on test set: 63 % [5054/8016]\n",
      "[82,   500] loss: 0.018\n",
      "Accuracy on train set: 98 % [31563/32000]\n",
      "Accuracy on test set: 62 % [4983/8016]\n",
      "[83,   500] loss: 0.018\n",
      "Accuracy on train set: 98 % [31550/32000]\n",
      "Accuracy on test set: 62 % [5022/8016]\n",
      "[84,   500] loss: 0.018\n",
      "Accuracy on train set: 98 % [31570/32000]\n",
      "Accuracy on test set: 63 % [5059/8016]\n",
      "[85,   500] loss: 0.018\n",
      "Accuracy on train set: 98 % [31550/32000]\n",
      "Accuracy on test set: 62 % [5007/8016]\n",
      "[86,   500] loss: 0.018\n",
      "Accuracy on train set: 98 % [31567/32000]\n",
      "Accuracy on test set: 62 % [5004/8016]\n",
      "[87,   500] loss: 0.018\n",
      "Accuracy on train set: 98 % [31559/32000]\n",
      "Accuracy on test set: 62 % [4995/8016]\n",
      "[88,   500] loss: 0.018\n",
      "Accuracy on train set: 98 % [31542/32000]\n",
      "Accuracy on test set: 62 % [4987/8016]\n",
      "[89,   500] loss: 0.017\n",
      "Accuracy on train set: 98 % [31555/32000]\n",
      "Accuracy on test set: 62 % [5001/8016]\n",
      "[90,   500] loss: 0.018\n",
      "Accuracy on train set: 98 % [31554/32000]\n",
      "Accuracy on test set: 62 % [4993/8016]\n",
      "[91,   500] loss: 0.017\n",
      "Accuracy on train set: 98 % [31557/32000]\n",
      "Accuracy on test set: 62 % [5001/8016]\n",
      "[92,   500] loss: 0.017\n",
      "Accuracy on train set: 98 % [31560/32000]\n",
      "Accuracy on test set: 62 % [5013/8016]\n",
      "[93,   500] loss: 0.017\n",
      "Accuracy on train set: 98 % [31549/32000]\n",
      "Accuracy on test set: 62 % [5027/8016]\n",
      "[94,   500] loss: 0.017\n",
      "Accuracy on train set: 98 % [31557/32000]\n",
      "Accuracy on test set: 62 % [4983/8016]\n",
      "[95,   500] loss: 0.017\n",
      "Accuracy on train set: 98 % [31556/32000]\n",
      "Accuracy on test set: 62 % [5012/8016]\n",
      "[96,   500] loss: 0.017\n",
      "Accuracy on train set: 98 % [31547/32000]\n",
      "Accuracy on test set: 62 % [5029/8016]\n",
      "[97,   500] loss: 0.017\n",
      "Accuracy on train set: 98 % [31551/32000]\n",
      "Accuracy on test set: 62 % [5010/8016]\n",
      "[98,   500] loss: 0.017\n",
      "Accuracy on train set: 98 % [31560/32000]\n",
      "Accuracy on test set: 62 % [4986/8016]\n",
      "[99,   500] loss: 0.017\n",
      "Accuracy on train set: 98 % [31556/32000]\n",
      "Accuracy on test set: 62 % [5008/8016]\n",
      "[100,   500] loss: 0.017\n",
      "Accuracy on train set: 98 % [31567/32000]\n",
      "Accuracy on test set: 62 % [5009/8016]\n"
     ]
    }
   ],
   "source": [
    "if __name__ == '__main__':\n",
    "    save_path = '..//Final-Project//model_save//'\n",
    "    for epoch in range(100):\n",
    "        epoch = epoch\n",
    "        train(epoch)\n",
    "        test()\n",
    "        # 5个epoch保存一次模型\n",
    "        if epoch % 5 == 4:\n",
    "            torch.save(model.state_dict(), save_path+\"Net2_epoch\"+ str(epoch+1)+ '.pth')"
   ]
  },
  {
   "cell_type": "code",
   "execution_count": 59,
   "id": "acceptable-academy",
   "metadata": {},
   "outputs": [],
   "source": [
    "# 换算为每个patch的loss\n",
    "test_loss_list_patch = [i * 64 for i in test_loss_list]\n",
    "test_loss_list = test_loss_list_patch"
   ]
  },
  {
   "cell_type": "code",
   "execution_count": 60,
   "id": "scientific-hierarchy",
   "metadata": {
    "scrolled": false
   },
   "outputs": [
    {
     "data": {
      "image/png": "[encoded data removed]",
      "text/plain": [
       "<Figure size 2000x800 with 2 Axes>"
      ]
     },
     "metadata": {
      "needs_background": "light"
     },
     "output_type": "display_data"
    }
   ],
   "source": [
    "plot_loss()"
   ]
  },
  {
   "cell_type": "markdown",
   "id": "bottom-copying",
   "metadata": {},
   "source": [
    "## 保存与加载"
   ]
  },
  {
   "cell_type": "code",
   "execution_count": 61,
   "id": "criminal-train",
   "metadata": {},
   "outputs": [],
   "source": [
    "# # 保存loss与accuracy\n",
    "# train_loss_list = np.array(train_loss_list)\n",
    "# test_loss_list = np.array(test_loss_list)\n",
    "# train_accuracy_list = np.array(train_accuracy_list)\n",
    "# test_accuracy_list = np.array(test_accuracy_list)\n",
    "# np.savetxt(\"..//Final-Project//log_save//Net2_train_loss_list.txt\",train_loss_list)\n",
    "# np.savetxt(\"..//Final-Project//log_save//Net2_test_loss_list.txt\",test_loss_list)\n",
    "# np.savetxt(\"..//Final-Project//log_save//Net2_train_accuracy_list.txt\",train_accuracy_list)\n",
    "# np.savetxt(\"..//Final-Project//log_save//Net2_test_accuracy_list.txt\",test_accuracy_list)"
   ]
  },
  {
   "cell_type": "code",
   "execution_count": 62,
   "id": "metallic-zambia",
   "metadata": {},
   "outputs": [],
   "source": [
    "# state_dict = torch.load(save_path+\"Net1_epoch60.pth\")\n",
    "# model.load_state_dict(state_dict)"
   ]
  },
  {
   "cell_type": "code",
   "execution_count": 3,
   "id": "operational-plane",
   "metadata": {},
   "outputs": [],
   "source": [
    "train_loss_list = np.loadtxt(\"..//Final-Project//log_save//Net2_train_loss_list.txt\")\n",
    "test_loss_list = np.loadtxt(\"..//Final-Project//log_save//Net2_test_loss_list.txt\")\n",
    "train_accuracy_list = np.loadtxt(\"..//Final-Project//log_save//Net2_train_accuracy_list.txt\")\n",
    "test_accuracy_list = np.loadtxt(\"..//Final-Project//log_save//Net2_test_accuracy_list.txt\")"
   ]
  },
  {
   "cell_type": "code",
   "execution_count": 4,
   "id": "green-compilation",
   "metadata": {},
   "outputs": [],
   "source": [
    "train_loss_list = train_loss_list[0:40]\n",
    "test_loss_list = test_loss_list[0:40]\n",
    "train_accuracy_list = train_accuracy_list[0:40]\n",
    "test_accuracy_list = test_accuracy_list[0:40]"
   ]
  },
  {
   "cell_type": "code",
   "execution_count": 5,
   "id": "quality-fashion",
   "metadata": {},
   "outputs": [],
   "source": [
    "# 作图（40epochs）\n",
    "def plot_loss_40():\n",
    "    # 1.创建画布\n",
    "#     plt.figure(figsize=(10,8),dpi=100)\n",
    "    fig,axes = plt.subplots(nrows=1,ncols=2,figsize=(20,8),dpi=100)\n",
    "\n",
    "    # 2.绘制图像\n",
    "    epochs = np.linspace(1,40,40)\n",
    "#     train_loss = epochs\n",
    "#     test_loss = epochs + 10\n",
    "#     train_accuracy = epochs + 10\n",
    "#     test_accuracy = epochs\n",
    "    axes[0].set_xlabel(\"epoch\")\n",
    "    axes[0].set_ylabel(\"loss(CE)/patch\")\n",
    "    axes[0].set_title(\"loss\", fontsize=10)\n",
    "    axes[0].plot(epochs, train_loss_list, color = 'r',label=\"train_loss\")\n",
    "    axes[0].plot(epochs, test_loss_list, color = 'b',label=\"test_loss\")\n",
    "    axes[0].legend(loc=\"best\")\n",
    "    \n",
    "    axes[1].set_xlabel(\"epoch\")\n",
    "    axes[1].set_ylabel(\"accuracy(%)\")\n",
    "    axes[1].set_title(\"accuracy\", fontsize=10)\n",
    "    axes[1].plot(epochs, train_accuracy_list, color = 'r',label=\"train_accuracy\")\n",
    "    axes[1].plot(epochs, test_accuracy_list, color = 'b',label=\"test_accuracy\")\n",
    "    axes[1].legend(loc=\"best\")\n",
    "    \n",
    "    plt.show()     #显示图片"
   ]
  },
  {
   "cell_type": "code",
   "execution_count": 6,
   "id": "artistic-female",
   "metadata": {},
   "outputs": [
    {
     "data": {
      "image/png": "[encoded data removed]",
      "text/plain": [
       "<Figure size 2000x800 with 2 Axes>"
      ]
     },
     "metadata": {
      "needs_background": "light"
     },
     "output_type": "display_data"
    }
   ],
   "source": [
    "plot_loss_40()"
   ]
  },
  {
   "cell_type": "code",
   "execution_count": 9,
   "id": "hispanic-cosmetic",
   "metadata": {},
   "outputs": [
    {
     "name": "stdout",
     "output_type": "stream",
     "text": [
      "1.0180766627475055\n",
      "60.02994011976048\n"
     ]
    }
   ],
   "source": [
    "print(test_loss_list[10])\n",
    "print(test_accuracy_list[10])"
   ]
  }
 ],
 "metadata": {
  "kernelspec": {
   "display_name": "Python 3",
   "language": "python",
   "name": "python3"
  },
  "language_info": {
   "codemirror_mode": {
    "name": "ipython",
    "version": 3
   },
   "file_extension": ".py",
   "mimetype": "text/x-python",
   "name": "python",
   "nbconvert_exporter": "python",
   "pygments_lexer": "ipython3",
   "version": "3.7.0"
  },
  "toc": {
   "base_numbering": 1,
   "nav_menu": {},
   "number_sections": true,
   "sideBar": true,
   "skip_h1_title": false,
   "title_cell": "Table of Contents",
   "title_sidebar": "Contents",
   "toc_cell": false,
   "toc_position": {
    "height": "calc(100% - 180px)",
    "left": "10px",
    "top": "150px",
    "width": "165px"
   },
   "toc_section_display": true,
   "toc_window_display": true
  }
 },
 "nbformat": 4,
 "nbformat_minor": 5
}
